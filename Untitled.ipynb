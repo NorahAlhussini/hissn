{
 "cells": [
  {
   "cell_type": "code",
   "execution_count": null,
   "id": "ca11d1aa-1d5d-4014-a487-6f145b3bdeab",
   "metadata": {},
   "outputs": [],
   "source": []
  }
 ],
 "metadata": {
  "kernelspec": {
   "display_name": "hissn-env (Python)",
   "language": "python",
   "name": "hissn-env"
  },
  "language_info": {
   "codemirror_mode": {
    "name": "ipython",
    "version": 3
   },
   "file_extension": ".py",
   "mimetype": "text/x-python",
   "name": "python",
   "nbconvert_exporter": "python",
   "pygments_lexer": "ipython3",
   "version": "3.10.6"
  }
 },
 "nbformat": 4,
 "nbformat_minor": 5
}
