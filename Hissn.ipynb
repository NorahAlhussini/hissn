{
<<<<<<< HEAD
 "cells": [
  {
   "cell_type": "code",
   "execution_count": 1,
   "metadata": {
    "colab": {
     "base_uri": "https://localhost:8080/"
    },
    "execution": {
     "iopub.execute_input": "2025-10-22T08:59:30.779909Z",
     "iopub.status.busy": "2025-10-22T08:59:30.779490Z",
     "iopub.status.idle": "2025-10-22T08:59:31.589808Z",
     "shell.execute_reply": "2025-10-22T08:59:31.585527Z",
     "shell.execute_reply.started": "2025-10-22T08:59:30.779873Z"
    },
    "id": "V8jnWQpdi7hz",
    "outputId": "f509138c-6b7d-42c4-ba04-924028873b7a"
   },
   "outputs": [
    {
     "ename": "ModuleNotFoundError",
     "evalue": "No module named 'google'",
     "output_type": "error",
     "traceback": [
      "\u001b[0;31m---------------------------------------------------------------------------\u001b[0m",
      "\u001b[0;31mModuleNotFoundError\u001b[0m                       Traceback (most recent call last)",
      "Cell \u001b[0;32mIn[1], line 1\u001b[0m\n\u001b[0;32m----> 1\u001b[0m \u001b[38;5;28;01mfrom\u001b[39;00m\u001b[38;5;250m \u001b[39m\u001b[38;5;21;01mgoogle\u001b[39;00m\u001b[38;5;21;01m.\u001b[39;00m\u001b[38;5;21;01mcolab\u001b[39;00m\u001b[38;5;250m \u001b[39m\u001b[38;5;28;01mimport\u001b[39;00m drive\n\u001b[1;32m      2\u001b[0m drive\u001b[38;5;241m.\u001b[39mmount(\u001b[38;5;124m'\u001b[39m\u001b[38;5;124m/content/drive\u001b[39m\u001b[38;5;124m'\u001b[39m)\n",
      "\u001b[0;31mModuleNotFoundError\u001b[0m: No module named 'google'"
     ]
    }
   ],
   "source": [
    "from google.colab import drive\n",
    "drive.mount('/content/drive')\n"
   ]
  },
  {
   "cell_type": "code",
   "execution_count": 2,
   "metadata": {
    "execution": {
     "iopub.execute_input": "2025-10-22T09:00:34.359059Z",
     "iopub.status.busy": "2025-10-22T09:00:34.356948Z",
     "iopub.status.idle": "2025-10-22T09:00:36.587624Z",
     "shell.execute_reply": "2025-10-22T09:00:36.582661Z",
     "shell.execute_reply.started": "2025-10-22T09:00:34.359000Z"
    },
    "id": "wY_UHWgmmHV6"
   },
   "outputs": [
    {
     "ename": "FileNotFoundError",
     "evalue": "[Errno 2] No such file or directory: '/content/drive/MyDrive/Colab Notebooks/HealthCare_Claims.xlsx'",
     "output_type": "error",
     "traceback": [
      "\u001b[0;31m---------------------------------------------------------------------------\u001b[0m",
      "\u001b[0;31mFileNotFoundError\u001b[0m                         Traceback (most recent call last)",
      "Cell \u001b[0;32mIn[2], line 3\u001b[0m\n\u001b[1;32m      1\u001b[0m data_path \u001b[38;5;241m=\u001b[39m \u001b[38;5;124m\"\u001b[39m\u001b[38;5;124m/content/drive/MyDrive/Colab Notebooks/HealthCare_Claims.xlsx\u001b[39m\u001b[38;5;124m\"\u001b[39m\n\u001b[1;32m      2\u001b[0m \u001b[38;5;28;01mimport\u001b[39;00m\u001b[38;5;250m \u001b[39m\u001b[38;5;21;01mpandas\u001b[39;00m\u001b[38;5;250m \u001b[39m\u001b[38;5;28;01mas\u001b[39;00m\u001b[38;5;250m \u001b[39m\u001b[38;5;21;01mpd\u001b[39;00m\n\u001b[0;32m----> 3\u001b[0m df \u001b[38;5;241m=\u001b[39m \u001b[43mpd\u001b[49m\u001b[38;5;241;43m.\u001b[39;49m\u001b[43mread_excel\u001b[49m\u001b[43m(\u001b[49m\u001b[43mdata_path\u001b[49m\u001b[43m)\u001b[49m\n",
      "File \u001b[0;32m~/.pyenv/versions/3.10.6/envs/hissn/lib/python3.10/site-packages/pandas/io/excel/_base.py:495\u001b[0m, in \u001b[0;36mread_excel\u001b[0;34m(io, sheet_name, header, names, index_col, usecols, dtype, engine, converters, true_values, false_values, skiprows, nrows, na_values, keep_default_na, na_filter, verbose, parse_dates, date_parser, date_format, thousands, decimal, comment, skipfooter, storage_options, dtype_backend, engine_kwargs)\u001b[0m\n\u001b[1;32m    493\u001b[0m \u001b[38;5;28;01mif\u001b[39;00m \u001b[38;5;129;01mnot\u001b[39;00m \u001b[38;5;28misinstance\u001b[39m(io, ExcelFile):\n\u001b[1;32m    494\u001b[0m     should_close \u001b[38;5;241m=\u001b[39m \u001b[38;5;28;01mTrue\u001b[39;00m\n\u001b[0;32m--> 495\u001b[0m     io \u001b[38;5;241m=\u001b[39m \u001b[43mExcelFile\u001b[49m\u001b[43m(\u001b[49m\n\u001b[1;32m    496\u001b[0m \u001b[43m        \u001b[49m\u001b[43mio\u001b[49m\u001b[43m,\u001b[49m\n\u001b[1;32m    497\u001b[0m \u001b[43m        \u001b[49m\u001b[43mstorage_options\u001b[49m\u001b[38;5;241;43m=\u001b[39;49m\u001b[43mstorage_options\u001b[49m\u001b[43m,\u001b[49m\n\u001b[1;32m    498\u001b[0m \u001b[43m        \u001b[49m\u001b[43mengine\u001b[49m\u001b[38;5;241;43m=\u001b[39;49m\u001b[43mengine\u001b[49m\u001b[43m,\u001b[49m\n\u001b[1;32m    499\u001b[0m \u001b[43m        \u001b[49m\u001b[43mengine_kwargs\u001b[49m\u001b[38;5;241;43m=\u001b[39;49m\u001b[43mengine_kwargs\u001b[49m\u001b[43m,\u001b[49m\n\u001b[1;32m    500\u001b[0m \u001b[43m    \u001b[49m\u001b[43m)\u001b[49m\n\u001b[1;32m    501\u001b[0m \u001b[38;5;28;01melif\u001b[39;00m engine \u001b[38;5;129;01mand\u001b[39;00m engine \u001b[38;5;241m!=\u001b[39m io\u001b[38;5;241m.\u001b[39mengine:\n\u001b[1;32m    502\u001b[0m     \u001b[38;5;28;01mraise\u001b[39;00m \u001b[38;5;167;01mValueError\u001b[39;00m(\n\u001b[1;32m    503\u001b[0m         \u001b[38;5;124m\"\u001b[39m\u001b[38;5;124mEngine should not be specified when passing \u001b[39m\u001b[38;5;124m\"\u001b[39m\n\u001b[1;32m    504\u001b[0m         \u001b[38;5;124m\"\u001b[39m\u001b[38;5;124man ExcelFile - ExcelFile already has the engine set\u001b[39m\u001b[38;5;124m\"\u001b[39m\n\u001b[1;32m    505\u001b[0m     )\n",
      "File \u001b[0;32m~/.pyenv/versions/3.10.6/envs/hissn/lib/python3.10/site-packages/pandas/io/excel/_base.py:1550\u001b[0m, in \u001b[0;36mExcelFile.__init__\u001b[0;34m(self, path_or_buffer, engine, storage_options, engine_kwargs)\u001b[0m\n\u001b[1;32m   1548\u001b[0m     ext \u001b[38;5;241m=\u001b[39m \u001b[38;5;124m\"\u001b[39m\u001b[38;5;124mxls\u001b[39m\u001b[38;5;124m\"\u001b[39m\n\u001b[1;32m   1549\u001b[0m \u001b[38;5;28;01melse\u001b[39;00m:\n\u001b[0;32m-> 1550\u001b[0m     ext \u001b[38;5;241m=\u001b[39m \u001b[43minspect_excel_format\u001b[49m\u001b[43m(\u001b[49m\n\u001b[1;32m   1551\u001b[0m \u001b[43m        \u001b[49m\u001b[43mcontent_or_path\u001b[49m\u001b[38;5;241;43m=\u001b[39;49m\u001b[43mpath_or_buffer\u001b[49m\u001b[43m,\u001b[49m\u001b[43m \u001b[49m\u001b[43mstorage_options\u001b[49m\u001b[38;5;241;43m=\u001b[39;49m\u001b[43mstorage_options\u001b[49m\n\u001b[1;32m   1552\u001b[0m \u001b[43m    \u001b[49m\u001b[43m)\u001b[49m\n\u001b[1;32m   1553\u001b[0m     \u001b[38;5;28;01mif\u001b[39;00m ext \u001b[38;5;129;01mis\u001b[39;00m \u001b[38;5;28;01mNone\u001b[39;00m:\n\u001b[1;32m   1554\u001b[0m         \u001b[38;5;28;01mraise\u001b[39;00m \u001b[38;5;167;01mValueError\u001b[39;00m(\n\u001b[1;32m   1555\u001b[0m             \u001b[38;5;124m\"\u001b[39m\u001b[38;5;124mExcel file format cannot be determined, you must specify \u001b[39m\u001b[38;5;124m\"\u001b[39m\n\u001b[1;32m   1556\u001b[0m             \u001b[38;5;124m\"\u001b[39m\u001b[38;5;124man engine manually.\u001b[39m\u001b[38;5;124m\"\u001b[39m\n\u001b[1;32m   1557\u001b[0m         )\n",
      "File \u001b[0;32m~/.pyenv/versions/3.10.6/envs/hissn/lib/python3.10/site-packages/pandas/io/excel/_base.py:1402\u001b[0m, in \u001b[0;36minspect_excel_format\u001b[0;34m(content_or_path, storage_options)\u001b[0m\n\u001b[1;32m   1399\u001b[0m \u001b[38;5;28;01mif\u001b[39;00m \u001b[38;5;28misinstance\u001b[39m(content_or_path, \u001b[38;5;28mbytes\u001b[39m):\n\u001b[1;32m   1400\u001b[0m     content_or_path \u001b[38;5;241m=\u001b[39m BytesIO(content_or_path)\n\u001b[0;32m-> 1402\u001b[0m \u001b[38;5;28;01mwith\u001b[39;00m \u001b[43mget_handle\u001b[49m\u001b[43m(\u001b[49m\n\u001b[1;32m   1403\u001b[0m \u001b[43m    \u001b[49m\u001b[43mcontent_or_path\u001b[49m\u001b[43m,\u001b[49m\u001b[43m \u001b[49m\u001b[38;5;124;43m\"\u001b[39;49m\u001b[38;5;124;43mrb\u001b[39;49m\u001b[38;5;124;43m\"\u001b[39;49m\u001b[43m,\u001b[49m\u001b[43m \u001b[49m\u001b[43mstorage_options\u001b[49m\u001b[38;5;241;43m=\u001b[39;49m\u001b[43mstorage_options\u001b[49m\u001b[43m,\u001b[49m\u001b[43m \u001b[49m\u001b[43mis_text\u001b[49m\u001b[38;5;241;43m=\u001b[39;49m\u001b[38;5;28;43;01mFalse\u001b[39;49;00m\n\u001b[1;32m   1404\u001b[0m \u001b[43m\u001b[49m\u001b[43m)\u001b[49m \u001b[38;5;28;01mas\u001b[39;00m handle:\n\u001b[1;32m   1405\u001b[0m     stream \u001b[38;5;241m=\u001b[39m handle\u001b[38;5;241m.\u001b[39mhandle\n\u001b[1;32m   1406\u001b[0m     stream\u001b[38;5;241m.\u001b[39mseek(\u001b[38;5;241m0\u001b[39m)\n",
      "File \u001b[0;32m~/.pyenv/versions/3.10.6/envs/hissn/lib/python3.10/site-packages/pandas/io/common.py:882\u001b[0m, in \u001b[0;36mget_handle\u001b[0;34m(path_or_buf, mode, encoding, compression, memory_map, is_text, errors, storage_options)\u001b[0m\n\u001b[1;32m    873\u001b[0m         handle \u001b[38;5;241m=\u001b[39m \u001b[38;5;28mopen\u001b[39m(\n\u001b[1;32m    874\u001b[0m             handle,\n\u001b[1;32m    875\u001b[0m             ioargs\u001b[38;5;241m.\u001b[39mmode,\n\u001b[0;32m   (...)\u001b[0m\n\u001b[1;32m    878\u001b[0m             newline\u001b[38;5;241m=\u001b[39m\u001b[38;5;124m\"\u001b[39m\u001b[38;5;124m\"\u001b[39m,\n\u001b[1;32m    879\u001b[0m         )\n\u001b[1;32m    880\u001b[0m     \u001b[38;5;28;01melse\u001b[39;00m:\n\u001b[1;32m    881\u001b[0m         \u001b[38;5;66;03m# Binary mode\u001b[39;00m\n\u001b[0;32m--> 882\u001b[0m         handle \u001b[38;5;241m=\u001b[39m \u001b[38;5;28;43mopen\u001b[39;49m\u001b[43m(\u001b[49m\u001b[43mhandle\u001b[49m\u001b[43m,\u001b[49m\u001b[43m \u001b[49m\u001b[43mioargs\u001b[49m\u001b[38;5;241;43m.\u001b[39;49m\u001b[43mmode\u001b[49m\u001b[43m)\u001b[49m\n\u001b[1;32m    883\u001b[0m     handles\u001b[38;5;241m.\u001b[39mappend(handle)\n\u001b[1;32m    885\u001b[0m \u001b[38;5;66;03m# Convert BytesIO or file objects passed with an encoding\u001b[39;00m\n",
      "\u001b[0;31mFileNotFoundError\u001b[0m: [Errno 2] No such file or directory: '/content/drive/MyDrive/Colab Notebooks/HealthCare_Claims.xlsx'"
     ]
    }
   ],
   "source": [
    "data_path = \"/content/drive/MyDrive/Colab Notebooks/HealthCare_Claims.xlsx\"\n",
    "import pandas as pd\n",
    "df = pd.read_excel(data_path)\n",
    "\n"
   ]
  },
  {
   "cell_type": "code",
   "execution_count": null,
   "metadata": {
    "colab": {
     "base_uri": "https://localhost:8080/",
     "height": 648
    },
    "id": "BjopcbkFnQz8",
    "outputId": "44a04b48-19a6-446f-86b1-3c0ac472d23d"
   },
   "outputs": [
    {
     "data": {
      "text/html": [
       "<div>\n",
       "<style scoped>\n",
       "    .dataframe tbody tr th:only-of-type {\n",
       "        vertical-align: middle;\n",
       "    }\n",
       "\n",
       "    .dataframe tbody tr th {\n",
       "        vertical-align: top;\n",
       "    }\n",
       "\n",
       "    .dataframe thead th {\n",
       "        text-align: right;\n",
       "    }\n",
       "</style>\n",
       "<table border=\"1\" class=\"dataframe\">\n",
       "  <thead>\n",
       "    <tr style=\"text-align: right;\">\n",
       "      <th></th>\n",
       "      <th>0</th>\n",
       "    </tr>\n",
       "  </thead>\n",
       "  <tbody>\n",
       "    <tr>\n",
       "      <th>encounter_id</th>\n",
       "      <td>0</td>\n",
       "    </tr>\n",
       "    <tr>\n",
       "      <th>patient_id</th>\n",
       "      <td>0</td>\n",
       "    </tr>\n",
       "    <tr>\n",
       "      <th>name</th>\n",
       "      <td>0</td>\n",
       "    </tr>\n",
       "    <tr>\n",
       "      <th>Gender</th>\n",
       "      <td>12666</td>\n",
       "    </tr>\n",
       "    <tr>\n",
       "      <th>doctor_id</th>\n",
       "      <td>0</td>\n",
       "    </tr>\n",
       "    <tr>\n",
       "      <th>doctor_name</th>\n",
       "      <td>0</td>\n",
       "    </tr>\n",
       "    <tr>\n",
       "      <th>hospital_id</th>\n",
       "      <td>0</td>\n",
       "    </tr>\n",
       "    <tr>\n",
       "      <th>hospital_name</th>\n",
       "      <td>0</td>\n",
       "    </tr>\n",
       "    <tr>\n",
       "      <th>insurance_provider_id</th>\n",
       "      <td>0</td>\n",
       "    </tr>\n",
       "    <tr>\n",
       "      <th>insurance_provider_name</th>\n",
       "      <td>0</td>\n",
       "    </tr>\n",
       "    <tr>\n",
       "      <th>MedicalCondition</th>\n",
       "      <td>0</td>\n",
       "    </tr>\n",
       "    <tr>\n",
       "      <th>admission_date</th>\n",
       "      <td>0</td>\n",
       "    </tr>\n",
       "    <tr>\n",
       "      <th>discharge_date</th>\n",
       "      <td>0</td>\n",
       "    </tr>\n",
       "    <tr>\n",
       "      <th>billing_amount</th>\n",
       "      <td>0</td>\n",
       "    </tr>\n",
       "    <tr>\n",
       "      <th>admission_type</th>\n",
       "      <td>0</td>\n",
       "    </tr>\n",
       "    <tr>\n",
       "      <th>medication</th>\n",
       "      <td>0</td>\n",
       "    </tr>\n",
       "    <tr>\n",
       "      <th>test_resultS</th>\n",
       "      <td>0</td>\n",
       "    </tr>\n",
       "    <tr>\n",
       "      <th>Length_of_Stay</th>\n",
       "      <td>12682</td>\n",
       "    </tr>\n",
       "  </tbody>\n",
       "</table>\n",
       "</div><br><label><b>dtype:</b> int64</label>"
      ],
      "text/plain": [
       "encounter_id                   0\n",
       "patient_id                     0\n",
       "name                           0\n",
       "Gender                     12666\n",
       "doctor_id                      0\n",
       "doctor_name                    0\n",
       "hospital_id                    0\n",
       "hospital_name                  0\n",
       "insurance_provider_id          0\n",
       "insurance_provider_name        0\n",
       "MedicalCondition               0\n",
       "admission_date                 0\n",
       "discharge_date                 0\n",
       "billing_amount                 0\n",
       "admission_type                 0\n",
       "medication                     0\n",
       "test_resultS                   0\n",
       "Length_of_Stay             12682\n",
       "dtype: int64"
      ]
     },
     "execution_count": 34,
     "metadata": {},
     "output_type": "execute_result"
    }
   ],
   "source": [
    "df.isnull().sum()\n"
   ]
  },
  {
   "cell_type": "code",
   "execution_count": null,
   "metadata": {
    "colab": {
     "base_uri": "https://localhost:8080/"
    },
    "id": "EM8C88TprHlJ",
    "outputId": "b8e7a07d-815e-42d6-c2d7-0c1d03315b76"
   },
   "outputs": [
    {
     "name": "stdout",
     "output_type": "stream",
     "text": [
      "<class 'pandas.core.frame.DataFrame'>\n",
      "RangeIndex: 12684 entries, 0 to 12683\n",
      "Data columns (total 18 columns):\n",
      " #   Column                   Non-Null Count  Dtype         \n",
      "---  ------                   --------------  -----         \n",
      " 0   encounter_id             12684 non-null  int64         \n",
      " 1   patient_id               12684 non-null  int64         \n",
      " 2   name                     12684 non-null  object        \n",
      " 3   Gender                   18 non-null     object        \n",
      " 4   doctor_id                12684 non-null  int64         \n",
      " 5   doctor_name              12684 non-null  object        \n",
      " 6   hospital_id              12684 non-null  int64         \n",
      " 7   hospital_name            12684 non-null  object        \n",
      " 8   insurance_provider_id    12684 non-null  int64         \n",
      " 9   insurance_provider_name  12684 non-null  object        \n",
      " 10  MedicalCondition         12684 non-null  object        \n",
      " 11  admission_date           12684 non-null  datetime64[ns]\n",
      " 12  discharge_date           12684 non-null  datetime64[ns]\n",
      " 13  billing_amount           12684 non-null  float64       \n",
      " 14  admission_type           12684 non-null  object        \n",
      " 15  medication               12684 non-null  object        \n",
      " 16  test_resultS             12684 non-null  object        \n",
      " 17  Length_of_Stay           2 non-null      float64       \n",
      "dtypes: datetime64[ns](2), float64(2), int64(5), object(9)\n",
      "memory usage: 1.7+ MB\n"
     ]
    }
   ],
   "source": [
    "df.info()\n"
   ]
  },
  {
   "cell_type": "code",
   "execution_count": null,
   "metadata": {
    "colab": {
     "base_uri": "https://localhost:8080/",
     "height": 300
    },
    "id": "lHJZbwi9rB9_",
    "outputId": "7c8978c2-615b-4564-c0be-208e9ba1962c"
   },
   "outputs": [
    {
     "data": {
      "application/vnd.google.colaboratory.intrinsic+json": {
       "summary": "{\n  \"name\": \"df\",\n  \"rows\": 8,\n  \"fields\": [\n    {\n      \"column\": \"encounter_id\",\n      \"properties\": {\n        \"dtype\": \"number\",\n        \"std\": 28466.726180291418,\n        \"min\": 12684.0,\n        \"max\": 92598.0,\n        \"num_unique_values\": 8,\n        \"samples\": [\n          55889.022232734154,\n          74101.25,\n          12684.0\n        ],\n        \"semantic_type\": \"\",\n        \"description\": \"\"\n      }\n    },\n    {\n      \"column\": \"patient_id\",\n      \"properties\": {\n        \"dtype\": \"number\",\n        \"std\": 4800632.499455764,\n        \"min\": 12684.0,\n        \"max\": 10999930.0,\n        \"num_unique_values\": 8,\n        \"samples\": [\n          10498136.574109115,\n          10745224.75,\n          12684.0\n        ],\n        \"semantic_type\": \"\",\n        \"description\": \"\"\n      }\n    },\n    {\n      \"column\": \"doctor_id\",\n      \"properties\": {\n        \"dtype\": \"number\",\n        \"std\": 6872.159934118384,\n        \"min\": 10.177983380863603,\n        \"max\": 19284.0,\n        \"num_unique_values\": 8,\n        \"samples\": [\n          19263.399558498895,\n          19271.0,\n          12684.0\n        ],\n        \"semantic_type\": \"\",\n        \"description\": \"\"\n      }\n    },\n    {\n      \"column\": \"hospital_id\",\n      \"properties\": {\n        \"dtype\": \"number\",\n        \"std\": 4132.959523447188,\n        \"min\": 1.992784143241473,\n        \"max\": 12684.0,\n        \"num_unique_values\": 8,\n        \"samples\": [\n          1233.9862030905076,\n          1236.0,\n          12684.0\n        ],\n        \"semantic_type\": \"\",\n        \"description\": \"\"\n      }\n    },\n    {\n      \"column\": \"insurance_provider_id\",\n      \"properties\": {\n        \"dtype\": \"number\",\n        \"std\": 5705.605372173091,\n        \"min\": 2.0008242724495244,\n        \"max\": 16261.0,\n        \"num_unique_values\": 8,\n        \"samples\": [\n          16258.025386313466,\n          16260.0,\n          12684.0\n        ],\n        \"semantic_type\": \"\",\n        \"description\": \"\"\n      }\n    },\n    {\n      \"column\": \"admission_date\",\n      \"properties\": {\n        \"dtype\": \"date\",\n        \"min\": \"1970-01-01 00:00:00.000012684\",\n        \"max\": \"2023-12-31 00:00:00\",\n        \"num_unique_values\": 7,\n        \"samples\": [\n          \"12684\",\n          \"2023-11-17 08:38:29.176915968\",\n          \"2023-12-10 00:00:00\"\n        ],\n        \"semantic_type\": \"\",\n        \"description\": \"\"\n      }\n    },\n    {\n      \"column\": \"discharge_date\",\n      \"properties\": {\n        \"dtype\": \"date\",\n        \"min\": \"1970-01-01 00:00:00.000012684\",\n        \"max\": \"2024-01-19 00:00:00\",\n        \"num_unique_values\": 7,\n        \"samples\": [\n          \"12684\",\n          \"2023-11-25 23:01:52.393566720\",\n          \"2023-12-17 00:00:00\"\n        ],\n        \"semantic_type\": \"\",\n        \"description\": \"\"\n      }\n    },\n    {\n      \"column\": \"billing_amount\",\n      \"properties\": {\n        \"dtype\": \"number\",\n        \"std\": 205298.01573989645,\n        \"min\": 512.52,\n        \"max\": 614988.22,\n        \"num_unique_values\": 8,\n        \"samples\": [\n          57558.776180227054,\n          86170.4475,\n          12684.0\n        ],\n        \"semantic_type\": \"\",\n        \"description\": \"\"\n      }\n    },\n    {\n      \"column\": \"Length_of_Stay\",\n      \"properties\": {\n        \"dtype\": \"number\",\n        \"std\": 6.041522986797286,\n        \"min\": 0.0,\n        \"max\": 14.0,\n        \"num_unique_values\": 3,\n        \"samples\": [\n          2.0,\n          14.0,\n          0.0\n        ],\n        \"semantic_type\": \"\",\n        \"description\": \"\"\n      }\n    }\n  ]\n}",
       "type": "dataframe"
      },
      "text/html": [
       "\n",
       "  <div id=\"df-339cf074-a2a3-4120-a236-082b458178a9\" class=\"colab-df-container\">\n",
       "    <div>\n",
       "<style scoped>\n",
       "    .dataframe tbody tr th:only-of-type {\n",
       "        vertical-align: middle;\n",
       "    }\n",
       "\n",
       "    .dataframe tbody tr th {\n",
       "        vertical-align: top;\n",
       "    }\n",
       "\n",
       "    .dataframe thead th {\n",
       "        text-align: right;\n",
       "    }\n",
       "</style>\n",
       "<table border=\"1\" class=\"dataframe\">\n",
       "  <thead>\n",
       "    <tr style=\"text-align: right;\">\n",
       "      <th></th>\n",
       "      <th>encounter_id</th>\n",
       "      <th>patient_id</th>\n",
       "      <th>doctor_id</th>\n",
       "      <th>hospital_id</th>\n",
       "      <th>insurance_provider_id</th>\n",
       "      <th>admission_date</th>\n",
       "      <th>discharge_date</th>\n",
       "      <th>billing_amount</th>\n",
       "      <th>Length_of_Stay</th>\n",
       "    </tr>\n",
       "  </thead>\n",
       "  <tbody>\n",
       "    <tr>\n",
       "      <th>count</th>\n",
       "      <td>12684.000000</td>\n",
       "      <td>1.268400e+04</td>\n",
       "      <td>12684.000000</td>\n",
       "      <td>12684.000000</td>\n",
       "      <td>12684.000000</td>\n",
       "      <td>12684</td>\n",
       "      <td>12684</td>\n",
       "      <td>12684.000000</td>\n",
       "      <td>2.0</td>\n",
       "    </tr>\n",
       "    <tr>\n",
       "      <th>mean</th>\n",
       "      <td>55889.022233</td>\n",
       "      <td>1.049814e+07</td>\n",
       "      <td>19263.399558</td>\n",
       "      <td>1233.986203</td>\n",
       "      <td>16258.025386</td>\n",
       "      <td>2023-11-17 08:38:29.176915968</td>\n",
       "      <td>2023-11-25 23:01:52.393566720</td>\n",
       "      <td>57558.776180</td>\n",
       "      <td>14.0</td>\n",
       "    </tr>\n",
       "    <tr>\n",
       "      <th>min</th>\n",
       "      <td>19253.000000</td>\n",
       "      <td>1.000010e+07</td>\n",
       "      <td>19251.000000</td>\n",
       "      <td>1231.000000</td>\n",
       "      <td>16255.000000</td>\n",
       "      <td>2018-11-21 00:00:00</td>\n",
       "      <td>2022-10-26 00:00:00</td>\n",
       "      <td>512.520000</td>\n",
       "      <td>14.0</td>\n",
       "    </tr>\n",
       "    <tr>\n",
       "      <th>25%</th>\n",
       "      <td>37528.500000</td>\n",
       "      <td>1.025076e+07</td>\n",
       "      <td>19254.000000</td>\n",
       "      <td>1232.000000</td>\n",
       "      <td>16256.000000</td>\n",
       "      <td>2023-10-28 00:00:00</td>\n",
       "      <td>2023-11-04 00:00:00</td>\n",
       "      <td>28367.221250</td>\n",
       "      <td>14.0</td>\n",
       "    </tr>\n",
       "    <tr>\n",
       "      <th>50%</th>\n",
       "      <td>56047.500000</td>\n",
       "      <td>1.050083e+07</td>\n",
       "      <td>19261.000000</td>\n",
       "      <td>1234.000000</td>\n",
       "      <td>16258.000000</td>\n",
       "      <td>2023-11-18 00:00:00</td>\n",
       "      <td>2023-11-26 00:00:00</td>\n",
       "      <td>57582.360000</td>\n",
       "      <td>14.0</td>\n",
       "    </tr>\n",
       "    <tr>\n",
       "      <th>75%</th>\n",
       "      <td>74101.250000</td>\n",
       "      <td>1.074522e+07</td>\n",
       "      <td>19271.000000</td>\n",
       "      <td>1236.000000</td>\n",
       "      <td>16260.000000</td>\n",
       "      <td>2023-12-10 00:00:00</td>\n",
       "      <td>2023-12-17 00:00:00</td>\n",
       "      <td>86170.447500</td>\n",
       "      <td>14.0</td>\n",
       "    </tr>\n",
       "    <tr>\n",
       "      <th>max</th>\n",
       "      <td>92598.000000</td>\n",
       "      <td>1.099993e+07</td>\n",
       "      <td>19284.000000</td>\n",
       "      <td>1237.000000</td>\n",
       "      <td>16261.000000</td>\n",
       "      <td>2023-12-31 00:00:00</td>\n",
       "      <td>2024-01-19 00:00:00</td>\n",
       "      <td>614988.220000</td>\n",
       "      <td>14.0</td>\n",
       "    </tr>\n",
       "    <tr>\n",
       "      <th>std</th>\n",
       "      <td>21185.379706</td>\n",
       "      <td>2.869929e+05</td>\n",
       "      <td>10.177983</td>\n",
       "      <td>1.992784</td>\n",
       "      <td>2.000824</td>\n",
       "      <td>NaN</td>\n",
       "      <td>NaN</td>\n",
       "      <td>33536.232864</td>\n",
       "      <td>0.0</td>\n",
       "    </tr>\n",
       "  </tbody>\n",
       "</table>\n",
       "</div>\n",
       "    <div class=\"colab-df-buttons\">\n",
       "\n",
       "  <div class=\"colab-df-container\">\n",
       "    <button class=\"colab-df-convert\" onclick=\"convertToInteractive('df-339cf074-a2a3-4120-a236-082b458178a9')\"\n",
       "            title=\"Convert this dataframe to an interactive table.\"\n",
       "            style=\"display:none;\">\n",
       "\n",
       "  <svg xmlns=\"http://www.w3.org/2000/svg\" height=\"24px\" viewBox=\"0 -960 960 960\">\n",
       "    <path d=\"M120-120v-720h720v720H120Zm60-500h600v-160H180v160Zm220 220h160v-160H400v160Zm0 220h160v-160H400v160ZM180-400h160v-160H180v160Zm440 0h160v-160H620v160ZM180-180h160v-160H180v160Zm440 0h160v-160H620v160Z\"/>\n",
       "  </svg>\n",
       "    </button>\n",
       "\n",
       "  <style>\n",
       "    .colab-df-container {\n",
       "      display:flex;\n",
       "      gap: 12px;\n",
       "    }\n",
       "\n",
       "    .colab-df-convert {\n",
       "      background-color: #E8F0FE;\n",
       "      border: none;\n",
       "      border-radius: 50%;\n",
       "      cursor: pointer;\n",
       "      display: none;\n",
       "      fill: #1967D2;\n",
       "      height: 32px;\n",
       "      padding: 0 0 0 0;\n",
       "      width: 32px;\n",
       "    }\n",
       "\n",
       "    .colab-df-convert:hover {\n",
       "      background-color: #E2EBFA;\n",
       "      box-shadow: 0px 1px 2px rgba(60, 64, 67, 0.3), 0px 1px 3px 1px rgba(60, 64, 67, 0.15);\n",
       "      fill: #174EA6;\n",
       "    }\n",
       "\n",
       "    .colab-df-buttons div {\n",
       "      margin-bottom: 4px;\n",
       "    }\n",
       "\n",
       "    [theme=dark] .colab-df-convert {\n",
       "      background-color: #3B4455;\n",
       "      fill: #D2E3FC;\n",
       "    }\n",
       "\n",
       "    [theme=dark] .colab-df-convert:hover {\n",
       "      background-color: #434B5C;\n",
       "      box-shadow: 0px 1px 3px 1px rgba(0, 0, 0, 0.15);\n",
       "      filter: drop-shadow(0px 1px 2px rgba(0, 0, 0, 0.3));\n",
       "      fill: #FFFFFF;\n",
       "    }\n",
       "  </style>\n",
       "\n",
       "    <script>\n",
       "      const buttonEl =\n",
       "        document.querySelector('#df-339cf074-a2a3-4120-a236-082b458178a9 button.colab-df-convert');\n",
       "      buttonEl.style.display =\n",
       "        google.colab.kernel.accessAllowed ? 'block' : 'none';\n",
       "\n",
       "      async function convertToInteractive(key) {\n",
       "        const element = document.querySelector('#df-339cf074-a2a3-4120-a236-082b458178a9');\n",
       "        const dataTable =\n",
       "          await google.colab.kernel.invokeFunction('convertToInteractive',\n",
       "                                                    [key], {});\n",
       "        if (!dataTable) return;\n",
       "\n",
       "        const docLinkHtml = 'Like what you see? Visit the ' +\n",
       "          '<a target=\"_blank\" href=https://colab.research.google.com/notebooks/data_table.ipynb>data table notebook</a>'\n",
       "          + ' to learn more about interactive tables.';\n",
       "        element.innerHTML = '';\n",
       "        dataTable['output_type'] = 'display_data';\n",
       "        await google.colab.output.renderOutput(dataTable, element);\n",
       "        const docLink = document.createElement('div');\n",
       "        docLink.innerHTML = docLinkHtml;\n",
       "        element.appendChild(docLink);\n",
       "      }\n",
       "    </script>\n",
       "  </div>\n",
       "\n",
       "\n",
       "    <div id=\"df-86239831-718b-411a-b5d3-15b643a4470b\">\n",
       "      <button class=\"colab-df-quickchart\" onclick=\"quickchart('df-86239831-718b-411a-b5d3-15b643a4470b')\"\n",
       "                title=\"Suggest charts\"\n",
       "                style=\"display:none;\">\n",
       "\n",
       "<svg xmlns=\"http://www.w3.org/2000/svg\" height=\"24px\"viewBox=\"0 0 24 24\"\n",
       "     width=\"24px\">\n",
       "    <g>\n",
       "        <path d=\"M19 3H5c-1.1 0-2 .9-2 2v14c0 1.1.9 2 2 2h14c1.1 0 2-.9 2-2V5c0-1.1-.9-2-2-2zM9 17H7v-7h2v7zm4 0h-2V7h2v10zm4 0h-2v-4h2v4z\"/>\n",
       "    </g>\n",
       "</svg>\n",
       "      </button>\n",
       "\n",
       "<style>\n",
       "  .colab-df-quickchart {\n",
       "      --bg-color: #E8F0FE;\n",
       "      --fill-color: #1967D2;\n",
       "      --hover-bg-color: #E2EBFA;\n",
       "      --hover-fill-color: #174EA6;\n",
       "      --disabled-fill-color: #AAA;\n",
       "      --disabled-bg-color: #DDD;\n",
       "  }\n",
       "\n",
       "  [theme=dark] .colab-df-quickchart {\n",
       "      --bg-color: #3B4455;\n",
       "      --fill-color: #D2E3FC;\n",
       "      --hover-bg-color: #434B5C;\n",
       "      --hover-fill-color: #FFFFFF;\n",
       "      --disabled-bg-color: #3B4455;\n",
       "      --disabled-fill-color: #666;\n",
       "  }\n",
       "\n",
       "  .colab-df-quickchart {\n",
       "    background-color: var(--bg-color);\n",
       "    border: none;\n",
       "    border-radius: 50%;\n",
       "    cursor: pointer;\n",
       "    display: none;\n",
       "    fill: var(--fill-color);\n",
       "    height: 32px;\n",
       "    padding: 0;\n",
       "    width: 32px;\n",
       "  }\n",
       "\n",
       "  .colab-df-quickchart:hover {\n",
       "    background-color: var(--hover-bg-color);\n",
       "    box-shadow: 0 1px 2px rgba(60, 64, 67, 0.3), 0 1px 3px 1px rgba(60, 64, 67, 0.15);\n",
       "    fill: var(--button-hover-fill-color);\n",
       "  }\n",
       "\n",
       "  .colab-df-quickchart-complete:disabled,\n",
       "  .colab-df-quickchart-complete:disabled:hover {\n",
       "    background-color: var(--disabled-bg-color);\n",
       "    fill: var(--disabled-fill-color);\n",
       "    box-shadow: none;\n",
       "  }\n",
       "\n",
       "  .colab-df-spinner {\n",
       "    border: 2px solid var(--fill-color);\n",
       "    border-color: transparent;\n",
       "    border-bottom-color: var(--fill-color);\n",
       "    animation:\n",
       "      spin 1s steps(1) infinite;\n",
       "  }\n",
       "\n",
       "  @keyframes spin {\n",
       "    0% {\n",
       "      border-color: transparent;\n",
       "      border-bottom-color: var(--fill-color);\n",
       "      border-left-color: var(--fill-color);\n",
       "    }\n",
       "    20% {\n",
       "      border-color: transparent;\n",
       "      border-left-color: var(--fill-color);\n",
       "      border-top-color: var(--fill-color);\n",
       "    }\n",
       "    30% {\n",
       "      border-color: transparent;\n",
       "      border-left-color: var(--fill-color);\n",
       "      border-top-color: var(--fill-color);\n",
       "      border-right-color: var(--fill-color);\n",
       "    }\n",
       "    40% {\n",
       "      border-color: transparent;\n",
       "      border-right-color: var(--fill-color);\n",
       "      border-top-color: var(--fill-color);\n",
       "    }\n",
       "    60% {\n",
       "      border-color: transparent;\n",
       "      border-right-color: var(--fill-color);\n",
       "    }\n",
       "    80% {\n",
       "      border-color: transparent;\n",
       "      border-right-color: var(--fill-color);\n",
       "      border-bottom-color: var(--fill-color);\n",
       "    }\n",
       "    90% {\n",
       "      border-color: transparent;\n",
       "      border-bottom-color: var(--fill-color);\n",
       "    }\n",
       "  }\n",
       "</style>\n",
       "\n",
       "      <script>\n",
       "        async function quickchart(key) {\n",
       "          const quickchartButtonEl =\n",
       "            document.querySelector('#' + key + ' button');\n",
       "          quickchartButtonEl.disabled = true;  // To prevent multiple clicks.\n",
       "          quickchartButtonEl.classList.add('colab-df-spinner');\n",
       "          try {\n",
       "            const charts = await google.colab.kernel.invokeFunction(\n",
       "                'suggestCharts', [key], {});\n",
       "          } catch (error) {\n",
       "            console.error('Error during call to suggestCharts:', error);\n",
       "          }\n",
       "          quickchartButtonEl.classList.remove('colab-df-spinner');\n",
       "          quickchartButtonEl.classList.add('colab-df-quickchart-complete');\n",
       "        }\n",
       "        (() => {\n",
       "          let quickchartButtonEl =\n",
       "            document.querySelector('#df-86239831-718b-411a-b5d3-15b643a4470b button');\n",
       "          quickchartButtonEl.style.display =\n",
       "            google.colab.kernel.accessAllowed ? 'block' : 'none';\n",
       "        })();\n",
       "      </script>\n",
       "    </div>\n",
       "\n",
       "    </div>\n",
       "  </div>\n"
      ],
      "text/plain": [
       "       encounter_id    patient_id     doctor_id   hospital_id  \\\n",
       "count  12684.000000  1.268400e+04  12684.000000  12684.000000   \n",
       "mean   55889.022233  1.049814e+07  19263.399558   1233.986203   \n",
       "min    19253.000000  1.000010e+07  19251.000000   1231.000000   \n",
       "25%    37528.500000  1.025076e+07  19254.000000   1232.000000   \n",
       "50%    56047.500000  1.050083e+07  19261.000000   1234.000000   \n",
       "75%    74101.250000  1.074522e+07  19271.000000   1236.000000   \n",
       "max    92598.000000  1.099993e+07  19284.000000   1237.000000   \n",
       "std    21185.379706  2.869929e+05     10.177983      1.992784   \n",
       "\n",
       "       insurance_provider_id                 admission_date  \\\n",
       "count           12684.000000                          12684   \n",
       "mean            16258.025386  2023-11-17 08:38:29.176915968   \n",
       "min             16255.000000            2018-11-21 00:00:00   \n",
       "25%             16256.000000            2023-10-28 00:00:00   \n",
       "50%             16258.000000            2023-11-18 00:00:00   \n",
       "75%             16260.000000            2023-12-10 00:00:00   \n",
       "max             16261.000000            2023-12-31 00:00:00   \n",
       "std                 2.000824                            NaN   \n",
       "\n",
       "                      discharge_date  billing_amount  Length_of_Stay  \n",
       "count                          12684    12684.000000             2.0  \n",
       "mean   2023-11-25 23:01:52.393566720    57558.776180            14.0  \n",
       "min              2022-10-26 00:00:00      512.520000            14.0  \n",
       "25%              2023-11-04 00:00:00    28367.221250            14.0  \n",
       "50%              2023-11-26 00:00:00    57582.360000            14.0  \n",
       "75%              2023-12-17 00:00:00    86170.447500            14.0  \n",
       "max              2024-01-19 00:00:00   614988.220000            14.0  \n",
       "std                              NaN    33536.232864             0.0  "
      ]
     },
     "execution_count": 36,
     "metadata": {},
     "output_type": "execute_result"
    }
   ],
   "source": [
    "df.describe()\n"
   ]
  },
  {
   "cell_type": "code",
   "execution_count": null,
   "metadata": {
    "id": "s5-pXLNknVIH"
   },
   "outputs": [],
   "source": [
    "df.fillna(0, inplace=True)\n"
   ]
  },
  {
   "cell_type": "code",
   "execution_count": null,
   "metadata": {
    "colab": {
     "base_uri": "https://localhost:8080/"
    },
    "id": "-_kOUepWsUgY",
    "outputId": "a4df60a4-86bd-4589-ead8-e64419e3c047"
   },
   "outputs": [
    {
     "name": "stdout",
     "output_type": "stream",
     "text": [
      "Index(['encounter_id', 'patient_id', 'name', 'Gender', 'doctor_id',\n",
      "       'doctor_name', 'hospital_id', 'hospital_name', 'insurance_provider_id',\n",
      "       'insurance_provider_name', 'MedicalCondition', 'admission_date',\n",
      "       'discharge_date', 'billing_amount', 'admission_type', 'medication',\n",
      "       'test_resultS', 'Length_of_Stay'],\n",
      "      dtype='object')\n"
     ]
    }
   ],
   "source": [
    "df.dropna(axis=1, how='all', inplace=True)\n",
    "print(df.columns)"
   ]
  },
  {
   "cell_type": "code",
   "execution_count": 1,
   "metadata": {
    "colab": {
     "base_uri": "https://localhost:8080/"
    },
    "id": "IpRxrdTLtiNG",
    "outputId": "84825acd-e8c7-4afa-93c3-34268f8ac4b0"
   },
   "outputs": [
    {
     "name": "stdout",
     "output_type": "stream",
     "text": [
      "\u001b[2K   \u001b[90m━━━━━━━━━━━━━━━━━━━━━━━━━━━━━━━━━━━━━━━━\u001b[0m \u001b[32m10.1/10.1 MB\u001b[0m \u001b[31m33.3 MB/s\u001b[0m eta \u001b[36m0:00:00\u001b[0m\n",
      "\u001b[2K   \u001b[90m━━━━━━━━━━━━━━━━━━━━━━━━━━━━━━━━━━━━━━━━\u001b[0m \u001b[32m6.9/6.9 MB\u001b[0m \u001b[31m43.2 MB/s\u001b[0m eta \u001b[36m0:00:00\u001b[0m\n",
      "\u001b[?25h"
     ]
    }
   ],
   "source": [
    "!pip install streamlit pyngrok pandas numpy matplotlib -q"
   ]
  },
  {
   "cell_type": "code",
   "execution_count": 15,
   "metadata": {
    "colab": {
     "base_uri": "https://localhost:8080/"
    },
    "id": "mxe7FUbAtquA",
    "outputId": "a2a5f2e3-4f58-40d7-8e9e-3883ef175f10"
   },
   "outputs": [
    {
     "name": "stdout",
     "output_type": "stream",
     "text": [
      "Overwriting app.py\n"
     ]
    }
   ],
   "source": [
    "%%writefile app.py\n",
    "import streamlit as st\n",
    "import pandas as pd\n",
    "import numpy as np\n",
    "import matplotlib.pyplot as plt\n",
    "\n",
    "# ====================================================================\n",
    "# Prediction and Explanation Simulation Function (For Demo Purposes)\n",
    "# ====================================================================\n",
    "\n",
    "def get_prediction_and_explanation(claim_amount):\n",
    "    \"\"\"Simulates risk prediction and generates SHAP values to represent evidence.\"\"\"\n",
    "\n",
    "    # 1. Simulate Risk Score\n",
    "    # The risk score increases with claim amount, plus some randomness\n",
    "    risk_score = np.clip(0.1 + (claim_amount / 10000) * np.random.uniform(0.5, 0.8), 0.1, 0.99)\n",
    "    prediction = \"High Risk\" if risk_score > 0.65 else \"Low Risk\"\n",
    "\n",
    "    # 2. Simulate SHAP values (Evidence)\n",
    "    features = [\n",
    "        'Provider Cost Deviation',\n",
    "        'Procedure/Patient Frequency',\n",
    "        'Diagnosis Inconsistency',\n",
    "        'Total Claim Amount',\n",
    "        'Prior Provider History'\n",
    "    ]\n",
    "    shap_values = np.random.uniform(-0.4, 0.4, len(features))\n",
    "\n",
    "    # Define factors that raise or lower risk based on the result\n",
    "    if prediction == \"High Risk\":\n",
    "        # Make the top factors strongly positive for High Risk\n",
    "        shap_values[0] = np.random.uniform(0.3, 0.5)\n",
    "        shap_values[1] = np.random.uniform(0.2, 0.4)\n",
    "        shap_values[3] = risk_score * 0.1\n",
    "    else:\n",
    "        # Make some factors strongly negative for Low Risk\n",
    "        shap_values[2] = np.random.uniform(-0.3, -0.5)\n",
    "        shap_values[4] = np.random.uniform(-0.2, -0.4)\n",
    "\n",
    "    explanation_df = pd.DataFrame({\n",
    "        'Factor': features,\n",
    "        'Risk_Impact': shap_values\n",
    "    }).sort_values(by='Risk_Impact', ascending=False)\n",
    "\n",
    "    return prediction, risk_score, explanation_df\n",
    "\n",
    "# ====================================================================\n",
    "# Streamlit Interface Design\n",
    "# ====================================================================\n",
    "\n",
    "st.set_page_config(page_title=\"Hissn - Medical Fraud Detection\", layout=\"wide\")\n",
    "\n",
    "st.title(\"🛡️ Hissn: Smart Fraud, Waste & Abuse (FWA) Detection - Prototype\")\n",
    "st.markdown(\"---\")\n",
    "\n",
    "col1, col2 = st.columns([1, 2])\n",
    "\n",
    "with col1:\n",
    "    st.header(\"Claim Input for Analysis\")\n",
    "    with st.form(\"claims_input_form\"):\n",
    "        claim_id = st.text_input(\"Claim ID\", value=\"C1234567\")\n",
    "        provider_id = st.text_input(\"Provider ID (Doctor ID)\", value=\"D9876\")\n",
    "        claim_amount = st.number_input(\"Total Claim Amount (SAR)\", value=5500.00, min_value=1.0)\n",
    "\n",
    "        submitted = st.form_submit_button(\"Analyze Claim 🚀\")\n",
    "\n",
    "with col2:\n",
    "    if submitted:\n",
    "        # 1. Get Prediction and Evidence\n",
    "        prediction, risk_score, explanation_df = get_prediction_and_explanation(claim_amount)\n",
    "\n",
    "        # 2. Display Result with st.metric and improved visuals\n",
    "        risk_percentage = f\"{risk_score * 100:.1f}%\"\n",
    "\n",
    "        # Display Risk Probability prominently using st.metric\n",
    "        st.metric(label=\"Estimated Fraud Probability\", value=risk_percentage)\n",
    "\n",
    "        if prediction == \"High Risk\":\n",
    "            # Enhanced visual alert for High Risk\n",
    "            st.markdown(f\"<p style='padding: 10px; border-radius: 5px; background-color: #fce4e4; color: #b71c1c; font-size: 1.2em; font-weight: bold;'>⚠️ HIGH RISK CLAIM: Requires Immediate Review</p>\", unsafe_allow_html=True)\n",
    "            st.markdown(f\"Risk Classification: **{prediction}**\")\n",
    "            st.markdown(\"---\")\n",
    "            st.error(\"🚨 System Recommendation: Freeze claim and initiate immediate audit based on the evidence below.\")\n",
    "        else:\n",
    "            # Enhanced visual confirmation for Low Risk\n",
    "            st.markdown(f\"<p style='padding: 10px; border-radius: 5px; background-color: #e8f5e9; color: #2e7d32; font-size: 1.2em; font-weight: bold;'>✅ LOW RISK CLAIM: Safe to Process</p>\", unsafe_allow_html=True)\n",
    "            st.markdown(f\"Risk Classification: **{prediction}**\")\n",
    "            st.markdown(\"---\")\n",
    "            st.info(\"👍 System Recommendation: Proceed with automated processing.\")\n",
    "\n",
    "        # 3. Display Evidence (SHAP Explanation)\n",
    "        st.header(\"SHAP-Supported Evidence (Why this Decision?)\")\n",
    "\n",
    "        # Improved Matplotlib chart aesthetics\n",
    "        plt.style.use('ggplot')\n",
    "        fig, ax = plt.subplots(figsize=(10, len(explanation_df) * 0.5 + 1))\n",
    "        # Color positive impacts red (increasing risk) and negative impacts blue (decreasing risk)\n",
    "        colors = ['#EF5350' if val > 0 else '#42A5F5' for val in explanation_df['Risk_Impact']]\n",
    "\n",
    "        ax.barh(explanation_df['Factor'], explanation_df['Risk_Impact'], color=colors)\n",
    "        ax.set_xlabel(\"Factor Impact on Risk Decision (SHAP Value)\", fontsize=12)\n",
    "        ax.set_title(f\"Top {len(explanation_df)} Factors Influencing Prediction\", fontsize=14, pad=15)\n",
    "        ax.axvline(0, color='gray', linewidth=0.8, linestyle='--') # Baseline at zero\n",
    "        ax.invert_yaxis() # Display highest impact factors at the top\n",
    "        ax.tick_params(axis='both', which='major', labelsize=10)\n",
    "\n",
    "        st.pyplot(fig)\n"
   ]
  },
  {
   "cell_type": "code",
   "execution_count": 16,
   "metadata": {
    "colab": {
     "base_uri": "https://localhost:8080/"
    },
    "id": "IEw9Jmz9tzBd",
    "outputId": "5f4a4fb2-fd45-49db-bb76-e7c79663438c"
   },
   "outputs": [
    {
     "name": "stdout",
     "output_type": "stream",
     "text": [
      "=====================================================\n",
      "🚀 Streamlit app is ready! Open the following URL in your browser:\n",
      "NgrokTunnel: \"https://sepalled-sarina-hairless.ngrok-free.dev\" -> \"http://localhost:8501\"\n",
      "=====================================================\n"
     ]
    }
   ],
   "source": [
    "from pyngrok import ngrok\n",
    "import subprocess\n",
    "import time # Import the time module\n",
    "\n",
    "# --- NGROK CONFIGURATION ---\n",
    "# The confirmed valid Authtoken for ngrok.\n",
    "NGROK_AUTH_TOKEN = \"34PYa4sBH4g0rYaHhbiHENj7sCi_LzmVmmukeWyEQ4Jx3xdp\"\n",
    "ngrok.set_auth_token(NGROK_AUTH_TOKEN)\n",
    "\n",
    "# Define the Streamlit port\n",
    "PORT = 8501\n",
    "\n",
    "# Kill any previous ngrok processes to ensure a clean start\n",
    "# This step is crucial to avoid the ERR_NGROK_108 limit (1 simultaneous session).\n",
    "ngrok.kill()\n",
    "time.sleep(1) # Added a small delay to ensure process termination completes\n",
    "\n",
    "# --- STREAMLIT EXECUTION ---\n",
    "# Run the 'app.py' Streamlit file in the background\n",
    "process = subprocess.Popen([\n",
    "    \"streamlit\",\n",
    "    \"run\",\n",
    "    \"app.py\",\n",
    "    \"--server.port\",\n",
    "    str(PORT),\n",
    "    \"--server.enableCORS\",\n",
    "    \"false\"\n",
    "])\n",
    "\n",
    "# --- NGROK TUNNEL CREATION ---\n",
    "# Open an ngrok tunnel to the Streamlit port (this will now authenticate successfully)\n",
    "public_url = ngrok.connect(PORT)\n",
    "\n",
    "# --- OUTPUT ---\n",
    "print(f\"=====================================================\")\n",
    "print(f\"🚀 Streamlit app is ready! Open the following URL in your browser:\")\n",
    "print(public_url)\n",
    "print(f\"=====================================================\")\n"
   ]
  }
 ],
 "metadata": {
  "colab": {
   "provenance": []
  },
  "kernelspec": {
   "display_name": "Python 3 (ipykernel)",
   "language": "python",
   "name": "python3"
  },
  "language_info": {
   "codemirror_mode": {
    "name": "ipython",
    "version": 3
   },
   "file_extension": ".py",
   "mimetype": "text/x-python",
   "name": "python",
   "nbconvert_exporter": "python",
   "pygments_lexer": "ipython3",
   "version": "3.10.6"
  }
 },
 "nbformat": 4,
 "nbformat_minor": 4
}
=======
  "nbformat": 4,
  "nbformat_minor": 0,
  "metadata": {
    "colab": {
      "provenance": [],
      "gpuType": "T4",
      "authorship_tag": "ABX9TyMPtmtQL6RMtuMJZYn/ng2X",
      "include_colab_link": true
    },
    "kernelspec": {
      "name": "python3",
      "display_name": "Python 3"
    },
    "language_info": {
      "name": "python"
    },
    "accelerator": "GPU"
  },
  "cells": [
    {
      "cell_type": "markdown",
      "metadata": {
        "id": "view-in-github",
        "colab_type": "text"
      },
      "source": [
        "<a href=\"https://colab.research.google.com/github/NorahAlhussini/hissn/blob/master/Hissn.ipynb\" target=\"_parent\"><img src=\"https://colab.research.google.com/assets/colab-badge.svg\" alt=\"Open In Colab\"/></a>"
      ]
    },
    {
      "cell_type": "markdown",
      "source": [
        "# **Hissn**"
      ],
      "metadata": {
        "id": "xbWfgLLS3k6q"
      }
    },
    {
      "cell_type": "markdown",
      "source": [
        "# **Data Cleaning**"
      ],
      "metadata": {
        "id": "GVB477Gk3BaT"
      }
    },
    {
      "cell_type": "code",
      "source": [
        "import pandas as pd\n",
        "import matplotlib.pyplot as plt\n",
        "import seaborn as sns\n",
        "import numpy as np"
      ],
      "metadata": {
        "id": "o9uv3crI7lBR"
      },
      "execution_count": null,
      "outputs": []
    },
    {
      "cell_type": "code",
      "source": [
        "from google.colab import drive\n",
        "drive.mount('/content/drive')\n"
      ],
      "metadata": {
        "colab": {
          "base_uri": "https://localhost:8080/"
        },
        "id": "V8jnWQpdi7hz",
        "outputId": "2141acb5-cde7-47b4-841f-69f16b175a7b"
      },
      "execution_count": null,
      "outputs": [
        {
          "output_type": "stream",
          "name": "stdout",
          "text": [
            "Drive already mounted at /content/drive; to attempt to forcibly remount, call drive.mount(\"/content/drive\", force_remount=True).\n"
          ]
        }
      ]
    },
    {
      "cell_type": "code",
      "source": [
        "import pandas as pd\n",
        "\n",
        "file_path = \"/content/drive/MyDrive/Colab Notebooks/Modified_Healthcare_Claims (1).xlsx\"\n",
        "df = pd.read_excel(file_path)\n",
        "\n",
        "df.head()\n"
      ],
      "metadata": {
        "colab": {
          "base_uri": "https://localhost:8080/",
          "height": 365
        },
        "id": "SnAEEtV0lxYM",
        "outputId": "896262c3-2364-4364-f8d7-d5979badb2d0"
      },
      "execution_count": null,
      "outputs": [
        {
          "output_type": "execute_result",
          "data": {
            "text/plain": [
              "   encounter_id  patient_id                name Gender  doctor_id  \\\n",
              "0         65122    10648150  نصر الدّين المهيدب    NaN      19257   \n",
              "1         34890    10193568         جودي الحجار    NaN      19268   \n",
              "2         51650    10477631       نشأت آل صفوان    NaN      19251   \n",
              "3         85053    10933366      عذب آل بن لافي    NaN      19276   \n",
              "4         26310    10090844          سجى الشايع    NaN      19266   \n",
              "\n",
              "             doctor_name  hospital_id          hospital_name  \\\n",
              "0    الدكتور برهان سلومي         1235    مستشفى السلام الطبي   \n",
              "1  الدكتورة وجدان الطريس         1231     مستشفى الأمل العام   \n",
              "2     الدكتور نجيب متولي         1236  مستشفى  الأجيال العام   \n",
              "3    الدكتور سعود الناصر         1233     مستشفى الشمس الطبي   \n",
              "4      الدكتورة طيف احمد         1232     مستشفى النور الطبي   \n",
              "\n",
              "   insurance_provider_id       insurance_provider_name MedicalCondition  \\\n",
              "0                  16261          شركة القلعة للتأمين      Hypertension   \n",
              "1                  16257  شركة الحماية الشاملة للتأمين     Hypertension   \n",
              "2                  16258             شركة عزوم للتأمين         Diabetes   \n",
              "3                  16261          شركة القلعة للتأمين          Diabetes   \n",
              "4                  16259          شركة الأمانة للتأمين           Asthma   \n",
              "\n",
              "  admission_date discharge_date  billing_amount admission_type   medication  \\\n",
              "0     2023-10-27     2023-12-29       56494.865         Urgent  Paracetamol   \n",
              "1     2020-01-25     2023-10-26      614988.220      Emergency  Paracetamol   \n",
              "2     2023-03-23     2023-11-05       56149.805       Elective      Insulin   \n",
              "3     2021-11-18     2023-11-29      114975.760       Elective      Insulin   \n",
              "4     2021-11-10     2023-11-23      114974.775      Emergency    Albuterol   \n",
              "\n",
              "   test_resultS  Length_of_Stay  \n",
              "0  Inconclusive               0  \n",
              "1        Normal               0  \n",
              "2  Inconclusive               0  \n",
              "3        Normal               0  \n",
              "4      Abnormal               0  "
            ],
            "text/html": [
              "\n",
              "  <div id=\"df-220d786a-4aea-4a1b-9f10-6b7c4a5e40e3\" class=\"colab-df-container\">\n",
              "    <div>\n",
              "<style scoped>\n",
              "    .dataframe tbody tr th:only-of-type {\n",
              "        vertical-align: middle;\n",
              "    }\n",
              "\n",
              "    .dataframe tbody tr th {\n",
              "        vertical-align: top;\n",
              "    }\n",
              "\n",
              "    .dataframe thead th {\n",
              "        text-align: right;\n",
              "    }\n",
              "</style>\n",
              "<table border=\"1\" class=\"dataframe\">\n",
              "  <thead>\n",
              "    <tr style=\"text-align: right;\">\n",
              "      <th></th>\n",
              "      <th>encounter_id</th>\n",
              "      <th>patient_id</th>\n",
              "      <th>name</th>\n",
              "      <th>Gender</th>\n",
              "      <th>doctor_id</th>\n",
              "      <th>doctor_name</th>\n",
              "      <th>hospital_id</th>\n",
              "      <th>hospital_name</th>\n",
              "      <th>insurance_provider_id</th>\n",
              "      <th>insurance_provider_name</th>\n",
              "      <th>MedicalCondition</th>\n",
              "      <th>admission_date</th>\n",
              "      <th>discharge_date</th>\n",
              "      <th>billing_amount</th>\n",
              "      <th>admission_type</th>\n",
              "      <th>medication</th>\n",
              "      <th>test_resultS</th>\n",
              "      <th>Length_of_Stay</th>\n",
              "    </tr>\n",
              "  </thead>\n",
              "  <tbody>\n",
              "    <tr>\n",
              "      <th>0</th>\n",
              "      <td>65122</td>\n",
              "      <td>10648150</td>\n",
              "      <td>نصر الدّين المهيدب</td>\n",
              "      <td>NaN</td>\n",
              "      <td>19257</td>\n",
              "      <td>الدكتور برهان سلومي</td>\n",
              "      <td>1235</td>\n",
              "      <td>مستشفى السلام الطبي</td>\n",
              "      <td>16261</td>\n",
              "      <td>شركة القلعة للتأمين</td>\n",
              "      <td>Hypertension</td>\n",
              "      <td>2023-10-27</td>\n",
              "      <td>2023-12-29</td>\n",
              "      <td>56494.865</td>\n",
              "      <td>Urgent</td>\n",
              "      <td>Paracetamol</td>\n",
              "      <td>Inconclusive</td>\n",
              "      <td>0</td>\n",
              "    </tr>\n",
              "    <tr>\n",
              "      <th>1</th>\n",
              "      <td>34890</td>\n",
              "      <td>10193568</td>\n",
              "      <td>جودي الحجار</td>\n",
              "      <td>NaN</td>\n",
              "      <td>19268</td>\n",
              "      <td>الدكتورة وجدان الطريس</td>\n",
              "      <td>1231</td>\n",
              "      <td>مستشفى الأمل العام</td>\n",
              "      <td>16257</td>\n",
              "      <td>شركة الحماية الشاملة للتأمين</td>\n",
              "      <td>Hypertension</td>\n",
              "      <td>2020-01-25</td>\n",
              "      <td>2023-10-26</td>\n",
              "      <td>614988.220</td>\n",
              "      <td>Emergency</td>\n",
              "      <td>Paracetamol</td>\n",
              "      <td>Normal</td>\n",
              "      <td>0</td>\n",
              "    </tr>\n",
              "    <tr>\n",
              "      <th>2</th>\n",
              "      <td>51650</td>\n",
              "      <td>10477631</td>\n",
              "      <td>نشأت آل صفوان</td>\n",
              "      <td>NaN</td>\n",
              "      <td>19251</td>\n",
              "      <td>الدكتور نجيب متولي</td>\n",
              "      <td>1236</td>\n",
              "      <td>مستشفى  الأجيال العام</td>\n",
              "      <td>16258</td>\n",
              "      <td>شركة عزوم للتأمين</td>\n",
              "      <td>Diabetes</td>\n",
              "      <td>2023-03-23</td>\n",
              "      <td>2023-11-05</td>\n",
              "      <td>56149.805</td>\n",
              "      <td>Elective</td>\n",
              "      <td>Insulin</td>\n",
              "      <td>Inconclusive</td>\n",
              "      <td>0</td>\n",
              "    </tr>\n",
              "    <tr>\n",
              "      <th>3</th>\n",
              "      <td>85053</td>\n",
              "      <td>10933366</td>\n",
              "      <td>عذب آل بن لافي</td>\n",
              "      <td>NaN</td>\n",
              "      <td>19276</td>\n",
              "      <td>الدكتور سعود الناصر</td>\n",
              "      <td>1233</td>\n",
              "      <td>مستشفى الشمس الطبي</td>\n",
              "      <td>16261</td>\n",
              "      <td>شركة القلعة للتأمين</td>\n",
              "      <td>Diabetes</td>\n",
              "      <td>2021-11-18</td>\n",
              "      <td>2023-11-29</td>\n",
              "      <td>114975.760</td>\n",
              "      <td>Elective</td>\n",
              "      <td>Insulin</td>\n",
              "      <td>Normal</td>\n",
              "      <td>0</td>\n",
              "    </tr>\n",
              "    <tr>\n",
              "      <th>4</th>\n",
              "      <td>26310</td>\n",
              "      <td>10090844</td>\n",
              "      <td>سجى الشايع</td>\n",
              "      <td>NaN</td>\n",
              "      <td>19266</td>\n",
              "      <td>الدكتورة طيف احمد</td>\n",
              "      <td>1232</td>\n",
              "      <td>مستشفى النور الطبي</td>\n",
              "      <td>16259</td>\n",
              "      <td>شركة الأمانة للتأمين</td>\n",
              "      <td>Asthma</td>\n",
              "      <td>2021-11-10</td>\n",
              "      <td>2023-11-23</td>\n",
              "      <td>114974.775</td>\n",
              "      <td>Emergency</td>\n",
              "      <td>Albuterol</td>\n",
              "      <td>Abnormal</td>\n",
              "      <td>0</td>\n",
              "    </tr>\n",
              "  </tbody>\n",
              "</table>\n",
              "</div>\n",
              "    <div class=\"colab-df-buttons\">\n",
              "\n",
              "  <div class=\"colab-df-container\">\n",
              "    <button class=\"colab-df-convert\" onclick=\"convertToInteractive('df-220d786a-4aea-4a1b-9f10-6b7c4a5e40e3')\"\n",
              "            title=\"Convert this dataframe to an interactive table.\"\n",
              "            style=\"display:none;\">\n",
              "\n",
              "  <svg xmlns=\"http://www.w3.org/2000/svg\" height=\"24px\" viewBox=\"0 -960 960 960\">\n",
              "    <path d=\"M120-120v-720h720v720H120Zm60-500h600v-160H180v160Zm220 220h160v-160H400v160Zm0 220h160v-160H400v160ZM180-400h160v-160H180v160Zm440 0h160v-160H620v160ZM180-180h160v-160H180v160Zm440 0h160v-160H620v160Z\"/>\n",
              "  </svg>\n",
              "    </button>\n",
              "\n",
              "  <style>\n",
              "    .colab-df-container {\n",
              "      display:flex;\n",
              "      gap: 12px;\n",
              "    }\n",
              "\n",
              "    .colab-df-convert {\n",
              "      background-color: #E8F0FE;\n",
              "      border: none;\n",
              "      border-radius: 50%;\n",
              "      cursor: pointer;\n",
              "      display: none;\n",
              "      fill: #1967D2;\n",
              "      height: 32px;\n",
              "      padding: 0 0 0 0;\n",
              "      width: 32px;\n",
              "    }\n",
              "\n",
              "    .colab-df-convert:hover {\n",
              "      background-color: #E2EBFA;\n",
              "      box-shadow: 0px 1px 2px rgba(60, 64, 67, 0.3), 0px 1px 3px 1px rgba(60, 64, 67, 0.15);\n",
              "      fill: #174EA6;\n",
              "    }\n",
              "\n",
              "    .colab-df-buttons div {\n",
              "      margin-bottom: 4px;\n",
              "    }\n",
              "\n",
              "    [theme=dark] .colab-df-convert {\n",
              "      background-color: #3B4455;\n",
              "      fill: #D2E3FC;\n",
              "    }\n",
              "\n",
              "    [theme=dark] .colab-df-convert:hover {\n",
              "      background-color: #434B5C;\n",
              "      box-shadow: 0px 1px 3px 1px rgba(0, 0, 0, 0.15);\n",
              "      filter: drop-shadow(0px 1px 2px rgba(0, 0, 0, 0.3));\n",
              "      fill: #FFFFFF;\n",
              "    }\n",
              "  </style>\n",
              "\n",
              "    <script>\n",
              "      const buttonEl =\n",
              "        document.querySelector('#df-220d786a-4aea-4a1b-9f10-6b7c4a5e40e3 button.colab-df-convert');\n",
              "      buttonEl.style.display =\n",
              "        google.colab.kernel.accessAllowed ? 'block' : 'none';\n",
              "\n",
              "      async function convertToInteractive(key) {\n",
              "        const element = document.querySelector('#df-220d786a-4aea-4a1b-9f10-6b7c4a5e40e3');\n",
              "        const dataTable =\n",
              "          await google.colab.kernel.invokeFunction('convertToInteractive',\n",
              "                                                    [key], {});\n",
              "        if (!dataTable) return;\n",
              "\n",
              "        const docLinkHtml = 'Like what you see? Visit the ' +\n",
              "          '<a target=\"_blank\" href=https://colab.research.google.com/notebooks/data_table.ipynb>data table notebook</a>'\n",
              "          + ' to learn more about interactive tables.';\n",
              "        element.innerHTML = '';\n",
              "        dataTable['output_type'] = 'display_data';\n",
              "        await google.colab.output.renderOutput(dataTable, element);\n",
              "        const docLink = document.createElement('div');\n",
              "        docLink.innerHTML = docLinkHtml;\n",
              "        element.appendChild(docLink);\n",
              "      }\n",
              "    </script>\n",
              "  </div>\n",
              "\n",
              "\n",
              "    <div id=\"df-96475a7e-54e4-452a-97d6-1c0bbf1ca380\">\n",
              "      <button class=\"colab-df-quickchart\" onclick=\"quickchart('df-96475a7e-54e4-452a-97d6-1c0bbf1ca380')\"\n",
              "                title=\"Suggest charts\"\n",
              "                style=\"display:none;\">\n",
              "\n",
              "<svg xmlns=\"http://www.w3.org/2000/svg\" height=\"24px\"viewBox=\"0 0 24 24\"\n",
              "     width=\"24px\">\n",
              "    <g>\n",
              "        <path d=\"M19 3H5c-1.1 0-2 .9-2 2v14c0 1.1.9 2 2 2h14c1.1 0 2-.9 2-2V5c0-1.1-.9-2-2-2zM9 17H7v-7h2v7zm4 0h-2V7h2v10zm4 0h-2v-4h2v4z\"/>\n",
              "    </g>\n",
              "</svg>\n",
              "      </button>\n",
              "\n",
              "<style>\n",
              "  .colab-df-quickchart {\n",
              "      --bg-color: #E8F0FE;\n",
              "      --fill-color: #1967D2;\n",
              "      --hover-bg-color: #E2EBFA;\n",
              "      --hover-fill-color: #174EA6;\n",
              "      --disabled-fill-color: #AAA;\n",
              "      --disabled-bg-color: #DDD;\n",
              "  }\n",
              "\n",
              "  [theme=dark] .colab-df-quickchart {\n",
              "      --bg-color: #3B4455;\n",
              "      --fill-color: #D2E3FC;\n",
              "      --hover-bg-color: #434B5C;\n",
              "      --hover-fill-color: #FFFFFF;\n",
              "      --disabled-bg-color: #3B4455;\n",
              "      --disabled-fill-color: #666;\n",
              "  }\n",
              "\n",
              "  .colab-df-quickchart {\n",
              "    background-color: var(--bg-color);\n",
              "    border: none;\n",
              "    border-radius: 50%;\n",
              "    cursor: pointer;\n",
              "    display: none;\n",
              "    fill: var(--fill-color);\n",
              "    height: 32px;\n",
              "    padding: 0;\n",
              "    width: 32px;\n",
              "  }\n",
              "\n",
              "  .colab-df-quickchart:hover {\n",
              "    background-color: var(--hover-bg-color);\n",
              "    box-shadow: 0 1px 2px rgba(60, 64, 67, 0.3), 0 1px 3px 1px rgba(60, 64, 67, 0.15);\n",
              "    fill: var(--button-hover-fill-color);\n",
              "  }\n",
              "\n",
              "  .colab-df-quickchart-complete:disabled,\n",
              "  .colab-df-quickchart-complete:disabled:hover {\n",
              "    background-color: var(--disabled-bg-color);\n",
              "    fill: var(--disabled-fill-color);\n",
              "    box-shadow: none;\n",
              "  }\n",
              "\n",
              "  .colab-df-spinner {\n",
              "    border: 2px solid var(--fill-color);\n",
              "    border-color: transparent;\n",
              "    border-bottom-color: var(--fill-color);\n",
              "    animation:\n",
              "      spin 1s steps(1) infinite;\n",
              "  }\n",
              "\n",
              "  @keyframes spin {\n",
              "    0% {\n",
              "      border-color: transparent;\n",
              "      border-bottom-color: var(--fill-color);\n",
              "      border-left-color: var(--fill-color);\n",
              "    }\n",
              "    20% {\n",
              "      border-color: transparent;\n",
              "      border-left-color: var(--fill-color);\n",
              "      border-top-color: var(--fill-color);\n",
              "    }\n",
              "    30% {\n",
              "      border-color: transparent;\n",
              "      border-left-color: var(--fill-color);\n",
              "      border-top-color: var(--fill-color);\n",
              "      border-right-color: var(--fill-color);\n",
              "    }\n",
              "    40% {\n",
              "      border-color: transparent;\n",
              "      border-right-color: var(--fill-color);\n",
              "      border-top-color: var(--fill-color);\n",
              "    }\n",
              "    60% {\n",
              "      border-color: transparent;\n",
              "      border-right-color: var(--fill-color);\n",
              "    }\n",
              "    80% {\n",
              "      border-color: transparent;\n",
              "      border-right-color: var(--fill-color);\n",
              "      border-bottom-color: var(--fill-color);\n",
              "    }\n",
              "    90% {\n",
              "      border-color: transparent;\n",
              "      border-bottom-color: var(--fill-color);\n",
              "    }\n",
              "  }\n",
              "</style>\n",
              "\n",
              "      <script>\n",
              "        async function quickchart(key) {\n",
              "          const quickchartButtonEl =\n",
              "            document.querySelector('#' + key + ' button');\n",
              "          quickchartButtonEl.disabled = true;  // To prevent multiple clicks.\n",
              "          quickchartButtonEl.classList.add('colab-df-spinner');\n",
              "          try {\n",
              "            const charts = await google.colab.kernel.invokeFunction(\n",
              "                'suggestCharts', [key], {});\n",
              "          } catch (error) {\n",
              "            console.error('Error during call to suggestCharts:', error);\n",
              "          }\n",
              "          quickchartButtonEl.classList.remove('colab-df-spinner');\n",
              "          quickchartButtonEl.classList.add('colab-df-quickchart-complete');\n",
              "        }\n",
              "        (() => {\n",
              "          let quickchartButtonEl =\n",
              "            document.querySelector('#df-96475a7e-54e4-452a-97d6-1c0bbf1ca380 button');\n",
              "          quickchartButtonEl.style.display =\n",
              "            google.colab.kernel.accessAllowed ? 'block' : 'none';\n",
              "        })();\n",
              "      </script>\n",
              "    </div>\n",
              "\n",
              "    </div>\n",
              "  </div>\n"
            ],
            "application/vnd.google.colaboratory.intrinsic+json": {
              "type": "dataframe",
              "variable_name": "df",
              "summary": "{\n  \"name\": \"df\",\n  \"rows\": 12684,\n  \"fields\": [\n    {\n      \"column\": \"encounter_id\",\n      \"properties\": {\n        \"dtype\": \"number\",\n        \"std\": 21185,\n        \"min\": 19253,\n        \"max\": 92598,\n        \"num_unique_values\": 12684,\n        \"samples\": [\n          67576,\n          71306,\n          90252\n        ],\n        \"semantic_type\": \"\",\n        \"description\": \"\"\n      }\n    },\n    {\n      \"column\": \"patient_id\",\n      \"properties\": {\n        \"dtype\": \"number\",\n        \"std\": 286992,\n        \"min\": 10000097,\n        \"max\": 10999930,\n        \"num_unique_values\": 12599,\n        \"samples\": [\n          10379897,\n          10750548,\n          10388849\n        ],\n        \"semantic_type\": \"\",\n        \"description\": \"\"\n      }\n    },\n    {\n      \"column\": \"name\",\n      \"properties\": {\n        \"dtype\": \"string\",\n        \"num_unique_values\": 9685,\n        \"samples\": [\n          \"\\u0639\\u0628\\u062f \\u0627\\u0644\\u0628\\u0627\\u0642\\u064a \\u0622\\u0644 \\u0645\\u0642\\u0637\\u0629\",\n          \"\\u0645\\u0641\\u064a\\u062f \\u0634\\u0631\\u0628\\u062a\\u0644\\u064a\",\n          \"\\u0627\\u0639\\u062a\\u0643\\u0627\\u0641 \\u0623\\u0628\\u0627 \\u0627\\u0644\\u062e\\u064a\\u0644\"\n        ],\n        \"semantic_type\": \"\",\n        \"description\": \"\"\n      }\n    },\n    {\n      \"column\": \"Gender\",\n      \"properties\": {\n        \"dtype\": \"category\",\n        \"num_unique_values\": 2,\n        \"samples\": [\n          \"F\",\n          \"M\"\n        ],\n        \"semantic_type\": \"\",\n        \"description\": \"\"\n      }\n    },\n    {\n      \"column\": \"doctor_id\",\n      \"properties\": {\n        \"dtype\": \"number\",\n        \"std\": 10,\n        \"min\": 19251,\n        \"max\": 19284,\n        \"num_unique_values\": 32,\n        \"samples\": [\n          19267,\n          19280\n        ],\n        \"semantic_type\": \"\",\n        \"description\": \"\"\n      }\n    },\n    {\n      \"column\": \"doctor_name\",\n      \"properties\": {\n        \"dtype\": \"category\",\n        \"num_unique_values\": 32,\n        \"samples\": [\n          \"\\u0627\\u0644\\u062f\\u0643\\u062a\\u0648\\u0631 \\u0647\\u0634\\u0627\\u0645 \\u0627\\u0644\\u0633\\u064a\\u062f\",\n          \"\\u0627\\u0644\\u062f\\u0643\\u062a\\u0648\\u0631\\u0629 \\u0627\\u0641\\u0646\\u0627\\u0646 \\u0645\\u062d\\u0645\\u062f\"\n        ],\n        \"semantic_type\": \"\",\n        \"description\": \"\"\n      }\n    },\n    {\n      \"column\": \"hospital_id\",\n      \"properties\": {\n        \"dtype\": \"number\",\n        \"std\": 1,\n        \"min\": 1231,\n        \"max\": 1237,\n        \"num_unique_values\": 7,\n        \"samples\": [\n          1235,\n          1231\n        ],\n        \"semantic_type\": \"\",\n        \"description\": \"\"\n      }\n    },\n    {\n      \"column\": \"hospital_name\",\n      \"properties\": {\n        \"dtype\": \"category\",\n        \"num_unique_values\": 7,\n        \"samples\": [\n          \"\\u0645\\u0633\\u062a\\u0634\\u0641\\u0649 \\u0627\\u0644\\u0633\\u0644\\u0627\\u0645 \\u0627\\u0644\\u0637\\u0628\\u064a\",\n          \"\\u0645\\u0633\\u062a\\u0634\\u0641\\u0649 \\u0627\\u0644\\u0623\\u0645\\u0644 \\u0627\\u0644\\u0639\\u0627\\u0645\"\n        ],\n        \"semantic_type\": \"\",\n        \"description\": \"\"\n      }\n    },\n    {\n      \"column\": \"insurance_provider_id\",\n      \"properties\": {\n        \"dtype\": \"number\",\n        \"std\": 2,\n        \"min\": 16255,\n        \"max\": 16261,\n        \"num_unique_values\": 7,\n        \"samples\": [\n          16261,\n          16257\n        ],\n        \"semantic_type\": \"\",\n        \"description\": \"\"\n      }\n    },\n    {\n      \"column\": \"insurance_provider_name\",\n      \"properties\": {\n        \"dtype\": \"category\",\n        \"num_unique_values\": 7,\n        \"samples\": [\n          \"\\u0634\\u0631\\u0643\\u0629 \\u0627\\u0644\\u0642\\u0644\\u0639\\u0629 \\u0644\\u0644\\u062a\\u0623\\u0645\\u064a\\u0646 \",\n          \"\\u0634\\u0631\\u0643\\u0629 \\u0627\\u0644\\u062d\\u0645\\u0627\\u064a\\u0629 \\u0627\\u0644\\u0634\\u0627\\u0645\\u0644\\u0629 \\u0644\\u0644\\u062a\\u0623\\u0645\\u064a\\u0646\"\n        ],\n        \"semantic_type\": \"\",\n        \"description\": \"\"\n      }\n    },\n    {\n      \"column\": \"MedicalCondition\",\n      \"properties\": {\n        \"dtype\": \"category\",\n        \"num_unique_values\": 6,\n        \"samples\": [\n          \"Hypertension\",\n          \"Diabetes\"\n        ],\n        \"semantic_type\": \"\",\n        \"description\": \"\"\n      }\n    },\n    {\n      \"column\": \"admission_date\",\n      \"properties\": {\n        \"dtype\": \"date\",\n        \"min\": \"2018-11-21 00:00:00\",\n        \"max\": \"2023-12-31 00:00:00\",\n        \"num_unique_values\": 111,\n        \"samples\": [\n          \"2023-12-06 00:00:00\",\n          \"2023-11-12 00:00:00\"\n        ],\n        \"semantic_type\": \"\",\n        \"description\": \"\"\n      }\n    },\n    {\n      \"column\": \"discharge_date\",\n      \"properties\": {\n        \"dtype\": \"date\",\n        \"min\": \"2022-10-26 00:00:00\",\n        \"max\": \"2024-01-19 00:00:00\",\n        \"num_unique_values\": 95,\n        \"samples\": [\n          \"2023-12-20 00:00:00\",\n          \"2023-10-19 00:00:00\"\n        ],\n        \"semantic_type\": \"\",\n        \"description\": \"\"\n      }\n    },\n    {\n      \"column\": \"billing_amount\",\n      \"properties\": {\n        \"dtype\": \"number\",\n        \"std\": 33536.23286360174,\n        \"min\": 512.52,\n        \"max\": 614988.22,\n        \"num_unique_values\": 12678,\n        \"samples\": [\n          99501.375,\n          14206.85\n        ],\n        \"semantic_type\": \"\",\n        \"description\": \"\"\n      }\n    },\n    {\n      \"column\": \"admission_type\",\n      \"properties\": {\n        \"dtype\": \"category\",\n        \"num_unique_values\": 3,\n        \"samples\": [\n          \"Urgent\",\n          \"Emergency\"\n        ],\n        \"semantic_type\": \"\",\n        \"description\": \"\"\n      }\n    },\n    {\n      \"column\": \"medication\",\n      \"properties\": {\n        \"dtype\": \"category\",\n        \"num_unique_values\": 7,\n        \"samples\": [\n          \"Paracetamol\",\n          \"Insulin\"\n        ],\n        \"semantic_type\": \"\",\n        \"description\": \"\"\n      }\n    },\n    {\n      \"column\": \"test_resultS\",\n      \"properties\": {\n        \"dtype\": \"category\",\n        \"num_unique_values\": 3,\n        \"samples\": [\n          \"Inconclusive\",\n          \"Normal\"\n        ],\n        \"semantic_type\": \"\",\n        \"description\": \"\"\n      }\n    },\n    {\n      \"column\": \"Length_of_Stay\",\n      \"properties\": {\n        \"dtype\": \"number\",\n        \"std\": 0,\n        \"min\": 0,\n        \"max\": 14,\n        \"num_unique_values\": 2,\n        \"samples\": [\n          14,\n          0\n        ],\n        \"semantic_type\": \"\",\n        \"description\": \"\"\n      }\n    }\n  ]\n}"
            }
          },
          "metadata": {},
          "execution_count": 151
        }
      ]
    },
    {
      "cell_type": "code",
      "source": [
        "!cp \"/content/drive/MyDrive/Modified_Healthcare_Claims (1).xlsx\" \"/content/Modified_Healthcare_Claims.xlsx\"\n"
      ],
      "metadata": {
        "id": "wY_UHWgmmHV6"
      },
      "execution_count": null,
      "outputs": []
    },
    {
      "cell_type": "code",
      "source": [
        "df = pd.read_excel(\"/content/Modified_Healthcare_Claims.xlsx\")\n"
      ],
      "metadata": {
        "id": "sx6mrclmkp2h"
      },
      "execution_count": null,
      "outputs": []
    },
    {
      "cell_type": "code",
      "source": [
        "import pandas as pd\n",
        "\n",
        "data_path = \"/content/Modified_Healthcare_Claims.xlsx\"\n",
        "df = pd.read_excel(data_path)\n",
        "\n",
        "df['Length_of_Stay'] = df['Length_of_Stay'].fillna(0)\n",
        "\n",
        "df.head()\n",
        "\n"
      ],
      "metadata": {
        "colab": {
          "base_uri": "https://localhost:8080/",
          "height": 365
        },
        "id": "3ySvopud-8N2",
        "outputId": "3258d84c-e71d-482c-cea1-5fbe0df67af9"
      },
      "execution_count": null,
      "outputs": [
        {
          "output_type": "execute_result",
          "data": {
            "text/plain": [
              "   encounter_id  patient_id                name Gender  doctor_id  \\\n",
              "0         65122    10648150  نصر الدّين المهيدب    NaN      19257   \n",
              "1         34890    10193568         جودي الحجار    NaN      19268   \n",
              "2         51650    10477631       نشأت آل صفوان    NaN      19251   \n",
              "3         85053    10933366      عذب آل بن لافي    NaN      19276   \n",
              "4         26310    10090844          سجى الشايع    NaN      19266   \n",
              "\n",
              "             doctor_name  hospital_id          hospital_name  \\\n",
              "0    الدكتور برهان سلومي         1235    مستشفى السلام الطبي   \n",
              "1  الدكتورة وجدان الطريس         1231     مستشفى الأمل العام   \n",
              "2     الدكتور نجيب متولي         1236  مستشفى  الأجيال العام   \n",
              "3    الدكتور سعود الناصر         1233     مستشفى الشمس الطبي   \n",
              "4      الدكتورة طيف احمد         1232     مستشفى النور الطبي   \n",
              "\n",
              "   insurance_provider_id       insurance_provider_name MedicalCondition  \\\n",
              "0                  16261          شركة القلعة للتأمين      Hypertension   \n",
              "1                  16257  شركة الحماية الشاملة للتأمين     Hypertension   \n",
              "2                  16258             شركة عزوم للتأمين         Diabetes   \n",
              "3                  16261          شركة القلعة للتأمين          Diabetes   \n",
              "4                  16259          شركة الأمانة للتأمين           Asthma   \n",
              "\n",
              "  admission_date discharge_date  billing_amount admission_type   medication  \\\n",
              "0     2023-10-27     2023-12-29       56494.865         Urgent  Paracetamol   \n",
              "1     2020-01-25     2023-10-26      614988.220      Emergency  Paracetamol   \n",
              "2     2023-03-23     2023-11-05       56149.805       Elective      Insulin   \n",
              "3     2021-11-18     2023-11-29      114975.760       Elective      Insulin   \n",
              "4     2021-11-10     2023-11-23      114974.775      Emergency    Albuterol   \n",
              "\n",
              "   test_resultS  Length_of_Stay  \n",
              "0  Inconclusive               0  \n",
              "1        Normal               0  \n",
              "2  Inconclusive               0  \n",
              "3        Normal               0  \n",
              "4      Abnormal               0  "
            ],
            "text/html": [
              "\n",
              "  <div id=\"df-ee60e361-4a3a-416f-93a2-0f95db40c07c\" class=\"colab-df-container\">\n",
              "    <div>\n",
              "<style scoped>\n",
              "    .dataframe tbody tr th:only-of-type {\n",
              "        vertical-align: middle;\n",
              "    }\n",
              "\n",
              "    .dataframe tbody tr th {\n",
              "        vertical-align: top;\n",
              "    }\n",
              "\n",
              "    .dataframe thead th {\n",
              "        text-align: right;\n",
              "    }\n",
              "</style>\n",
              "<table border=\"1\" class=\"dataframe\">\n",
              "  <thead>\n",
              "    <tr style=\"text-align: right;\">\n",
              "      <th></th>\n",
              "      <th>encounter_id</th>\n",
              "      <th>patient_id</th>\n",
              "      <th>name</th>\n",
              "      <th>Gender</th>\n",
              "      <th>doctor_id</th>\n",
              "      <th>doctor_name</th>\n",
              "      <th>hospital_id</th>\n",
              "      <th>hospital_name</th>\n",
              "      <th>insurance_provider_id</th>\n",
              "      <th>insurance_provider_name</th>\n",
              "      <th>MedicalCondition</th>\n",
              "      <th>admission_date</th>\n",
              "      <th>discharge_date</th>\n",
              "      <th>billing_amount</th>\n",
              "      <th>admission_type</th>\n",
              "      <th>medication</th>\n",
              "      <th>test_resultS</th>\n",
              "      <th>Length_of_Stay</th>\n",
              "    </tr>\n",
              "  </thead>\n",
              "  <tbody>\n",
              "    <tr>\n",
              "      <th>0</th>\n",
              "      <td>65122</td>\n",
              "      <td>10648150</td>\n",
              "      <td>نصر الدّين المهيدب</td>\n",
              "      <td>NaN</td>\n",
              "      <td>19257</td>\n",
              "      <td>الدكتور برهان سلومي</td>\n",
              "      <td>1235</td>\n",
              "      <td>مستشفى السلام الطبي</td>\n",
              "      <td>16261</td>\n",
              "      <td>شركة القلعة للتأمين</td>\n",
              "      <td>Hypertension</td>\n",
              "      <td>2023-10-27</td>\n",
              "      <td>2023-12-29</td>\n",
              "      <td>56494.865</td>\n",
              "      <td>Urgent</td>\n",
              "      <td>Paracetamol</td>\n",
              "      <td>Inconclusive</td>\n",
              "      <td>0</td>\n",
              "    </tr>\n",
              "    <tr>\n",
              "      <th>1</th>\n",
              "      <td>34890</td>\n",
              "      <td>10193568</td>\n",
              "      <td>جودي الحجار</td>\n",
              "      <td>NaN</td>\n",
              "      <td>19268</td>\n",
              "      <td>الدكتورة وجدان الطريس</td>\n",
              "      <td>1231</td>\n",
              "      <td>مستشفى الأمل العام</td>\n",
              "      <td>16257</td>\n",
              "      <td>شركة الحماية الشاملة للتأمين</td>\n",
              "      <td>Hypertension</td>\n",
              "      <td>2020-01-25</td>\n",
              "      <td>2023-10-26</td>\n",
              "      <td>614988.220</td>\n",
              "      <td>Emergency</td>\n",
              "      <td>Paracetamol</td>\n",
              "      <td>Normal</td>\n",
              "      <td>0</td>\n",
              "    </tr>\n",
              "    <tr>\n",
              "      <th>2</th>\n",
              "      <td>51650</td>\n",
              "      <td>10477631</td>\n",
              "      <td>نشأت آل صفوان</td>\n",
              "      <td>NaN</td>\n",
              "      <td>19251</td>\n",
              "      <td>الدكتور نجيب متولي</td>\n",
              "      <td>1236</td>\n",
              "      <td>مستشفى  الأجيال العام</td>\n",
              "      <td>16258</td>\n",
              "      <td>شركة عزوم للتأمين</td>\n",
              "      <td>Diabetes</td>\n",
              "      <td>2023-03-23</td>\n",
              "      <td>2023-11-05</td>\n",
              "      <td>56149.805</td>\n",
              "      <td>Elective</td>\n",
              "      <td>Insulin</td>\n",
              "      <td>Inconclusive</td>\n",
              "      <td>0</td>\n",
              "    </tr>\n",
              "    <tr>\n",
              "      <th>3</th>\n",
              "      <td>85053</td>\n",
              "      <td>10933366</td>\n",
              "      <td>عذب آل بن لافي</td>\n",
              "      <td>NaN</td>\n",
              "      <td>19276</td>\n",
              "      <td>الدكتور سعود الناصر</td>\n",
              "      <td>1233</td>\n",
              "      <td>مستشفى الشمس الطبي</td>\n",
              "      <td>16261</td>\n",
              "      <td>شركة القلعة للتأمين</td>\n",
              "      <td>Diabetes</td>\n",
              "      <td>2021-11-18</td>\n",
              "      <td>2023-11-29</td>\n",
              "      <td>114975.760</td>\n",
              "      <td>Elective</td>\n",
              "      <td>Insulin</td>\n",
              "      <td>Normal</td>\n",
              "      <td>0</td>\n",
              "    </tr>\n",
              "    <tr>\n",
              "      <th>4</th>\n",
              "      <td>26310</td>\n",
              "      <td>10090844</td>\n",
              "      <td>سجى الشايع</td>\n",
              "      <td>NaN</td>\n",
              "      <td>19266</td>\n",
              "      <td>الدكتورة طيف احمد</td>\n",
              "      <td>1232</td>\n",
              "      <td>مستشفى النور الطبي</td>\n",
              "      <td>16259</td>\n",
              "      <td>شركة الأمانة للتأمين</td>\n",
              "      <td>Asthma</td>\n",
              "      <td>2021-11-10</td>\n",
              "      <td>2023-11-23</td>\n",
              "      <td>114974.775</td>\n",
              "      <td>Emergency</td>\n",
              "      <td>Albuterol</td>\n",
              "      <td>Abnormal</td>\n",
              "      <td>0</td>\n",
              "    </tr>\n",
              "  </tbody>\n",
              "</table>\n",
              "</div>\n",
              "    <div class=\"colab-df-buttons\">\n",
              "\n",
              "  <div class=\"colab-df-container\">\n",
              "    <button class=\"colab-df-convert\" onclick=\"convertToInteractive('df-ee60e361-4a3a-416f-93a2-0f95db40c07c')\"\n",
              "            title=\"Convert this dataframe to an interactive table.\"\n",
              "            style=\"display:none;\">\n",
              "\n",
              "  <svg xmlns=\"http://www.w3.org/2000/svg\" height=\"24px\" viewBox=\"0 -960 960 960\">\n",
              "    <path d=\"M120-120v-720h720v720H120Zm60-500h600v-160H180v160Zm220 220h160v-160H400v160Zm0 220h160v-160H400v160ZM180-400h160v-160H180v160Zm440 0h160v-160H620v160ZM180-180h160v-160H180v160Zm440 0h160v-160H620v160Z\"/>\n",
              "  </svg>\n",
              "    </button>\n",
              "\n",
              "  <style>\n",
              "    .colab-df-container {\n",
              "      display:flex;\n",
              "      gap: 12px;\n",
              "    }\n",
              "\n",
              "    .colab-df-convert {\n",
              "      background-color: #E8F0FE;\n",
              "      border: none;\n",
              "      border-radius: 50%;\n",
              "      cursor: pointer;\n",
              "      display: none;\n",
              "      fill: #1967D2;\n",
              "      height: 32px;\n",
              "      padding: 0 0 0 0;\n",
              "      width: 32px;\n",
              "    }\n",
              "\n",
              "    .colab-df-convert:hover {\n",
              "      background-color: #E2EBFA;\n",
              "      box-shadow: 0px 1px 2px rgba(60, 64, 67, 0.3), 0px 1px 3px 1px rgba(60, 64, 67, 0.15);\n",
              "      fill: #174EA6;\n",
              "    }\n",
              "\n",
              "    .colab-df-buttons div {\n",
              "      margin-bottom: 4px;\n",
              "    }\n",
              "\n",
              "    [theme=dark] .colab-df-convert {\n",
              "      background-color: #3B4455;\n",
              "      fill: #D2E3FC;\n",
              "    }\n",
              "\n",
              "    [theme=dark] .colab-df-convert:hover {\n",
              "      background-color: #434B5C;\n",
              "      box-shadow: 0px 1px 3px 1px rgba(0, 0, 0, 0.15);\n",
              "      filter: drop-shadow(0px 1px 2px rgba(0, 0, 0, 0.3));\n",
              "      fill: #FFFFFF;\n",
              "    }\n",
              "  </style>\n",
              "\n",
              "    <script>\n",
              "      const buttonEl =\n",
              "        document.querySelector('#df-ee60e361-4a3a-416f-93a2-0f95db40c07c button.colab-df-convert');\n",
              "      buttonEl.style.display =\n",
              "        google.colab.kernel.accessAllowed ? 'block' : 'none';\n",
              "\n",
              "      async function convertToInteractive(key) {\n",
              "        const element = document.querySelector('#df-ee60e361-4a3a-416f-93a2-0f95db40c07c');\n",
              "        const dataTable =\n",
              "          await google.colab.kernel.invokeFunction('convertToInteractive',\n",
              "                                                    [key], {});\n",
              "        if (!dataTable) return;\n",
              "\n",
              "        const docLinkHtml = 'Like what you see? Visit the ' +\n",
              "          '<a target=\"_blank\" href=https://colab.research.google.com/notebooks/data_table.ipynb>data table notebook</a>'\n",
              "          + ' to learn more about interactive tables.';\n",
              "        element.innerHTML = '';\n",
              "        dataTable['output_type'] = 'display_data';\n",
              "        await google.colab.output.renderOutput(dataTable, element);\n",
              "        const docLink = document.createElement('div');\n",
              "        docLink.innerHTML = docLinkHtml;\n",
              "        element.appendChild(docLink);\n",
              "      }\n",
              "    </script>\n",
              "  </div>\n",
              "\n",
              "\n",
              "    <div id=\"df-f18aa2fb-7357-46b6-9be7-5de20498b97f\">\n",
              "      <button class=\"colab-df-quickchart\" onclick=\"quickchart('df-f18aa2fb-7357-46b6-9be7-5de20498b97f')\"\n",
              "                title=\"Suggest charts\"\n",
              "                style=\"display:none;\">\n",
              "\n",
              "<svg xmlns=\"http://www.w3.org/2000/svg\" height=\"24px\"viewBox=\"0 0 24 24\"\n",
              "     width=\"24px\">\n",
              "    <g>\n",
              "        <path d=\"M19 3H5c-1.1 0-2 .9-2 2v14c0 1.1.9 2 2 2h14c1.1 0 2-.9 2-2V5c0-1.1-.9-2-2-2zM9 17H7v-7h2v7zm4 0h-2V7h2v10zm4 0h-2v-4h2v4z\"/>\n",
              "    </g>\n",
              "</svg>\n",
              "      </button>\n",
              "\n",
              "<style>\n",
              "  .colab-df-quickchart {\n",
              "      --bg-color: #E8F0FE;\n",
              "      --fill-color: #1967D2;\n",
              "      --hover-bg-color: #E2EBFA;\n",
              "      --hover-fill-color: #174EA6;\n",
              "      --disabled-fill-color: #AAA;\n",
              "      --disabled-bg-color: #DDD;\n",
              "  }\n",
              "\n",
              "  [theme=dark] .colab-df-quickchart {\n",
              "      --bg-color: #3B4455;\n",
              "      --fill-color: #D2E3FC;\n",
              "      --hover-bg-color: #434B5C;\n",
              "      --hover-fill-color: #FFFFFF;\n",
              "      --disabled-bg-color: #3B4455;\n",
              "      --disabled-fill-color: #666;\n",
              "  }\n",
              "\n",
              "  .colab-df-quickchart {\n",
              "    background-color: var(--bg-color);\n",
              "    border: none;\n",
              "    border-radius: 50%;\n",
              "    cursor: pointer;\n",
              "    display: none;\n",
              "    fill: var(--fill-color);\n",
              "    height: 32px;\n",
              "    padding: 0;\n",
              "    width: 32px;\n",
              "  }\n",
              "\n",
              "  .colab-df-quickchart:hover {\n",
              "    background-color: var(--hover-bg-color);\n",
              "    box-shadow: 0 1px 2px rgba(60, 64, 67, 0.3), 0 1px 3px 1px rgba(60, 64, 67, 0.15);\n",
              "    fill: var(--button-hover-fill-color);\n",
              "  }\n",
              "\n",
              "  .colab-df-quickchart-complete:disabled,\n",
              "  .colab-df-quickchart-complete:disabled:hover {\n",
              "    background-color: var(--disabled-bg-color);\n",
              "    fill: var(--disabled-fill-color);\n",
              "    box-shadow: none;\n",
              "  }\n",
              "\n",
              "  .colab-df-spinner {\n",
              "    border: 2px solid var(--fill-color);\n",
              "    border-color: transparent;\n",
              "    border-bottom-color: var(--fill-color);\n",
              "    animation:\n",
              "      spin 1s steps(1) infinite;\n",
              "  }\n",
              "\n",
              "  @keyframes spin {\n",
              "    0% {\n",
              "      border-color: transparent;\n",
              "      border-bottom-color: var(--fill-color);\n",
              "      border-left-color: var(--fill-color);\n",
              "    }\n",
              "    20% {\n",
              "      border-color: transparent;\n",
              "      border-left-color: var(--fill-color);\n",
              "      border-top-color: var(--fill-color);\n",
              "    }\n",
              "    30% {\n",
              "      border-color: transparent;\n",
              "      border-left-color: var(--fill-color);\n",
              "      border-top-color: var(--fill-color);\n",
              "      border-right-color: var(--fill-color);\n",
              "    }\n",
              "    40% {\n",
              "      border-color: transparent;\n",
              "      border-right-color: var(--fill-color);\n",
              "      border-top-color: var(--fill-color);\n",
              "    }\n",
              "    60% {\n",
              "      border-color: transparent;\n",
              "      border-right-color: var(--fill-color);\n",
              "    }\n",
              "    80% {\n",
              "      border-color: transparent;\n",
              "      border-right-color: var(--fill-color);\n",
              "      border-bottom-color: var(--fill-color);\n",
              "    }\n",
              "    90% {\n",
              "      border-color: transparent;\n",
              "      border-bottom-color: var(--fill-color);\n",
              "    }\n",
              "  }\n",
              "</style>\n",
              "\n",
              "      <script>\n",
              "        async function quickchart(key) {\n",
              "          const quickchartButtonEl =\n",
              "            document.querySelector('#' + key + ' button');\n",
              "          quickchartButtonEl.disabled = true;  // To prevent multiple clicks.\n",
              "          quickchartButtonEl.classList.add('colab-df-spinner');\n",
              "          try {\n",
              "            const charts = await google.colab.kernel.invokeFunction(\n",
              "                'suggestCharts', [key], {});\n",
              "          } catch (error) {\n",
              "            console.error('Error during call to suggestCharts:', error);\n",
              "          }\n",
              "          quickchartButtonEl.classList.remove('colab-df-spinner');\n",
              "          quickchartButtonEl.classList.add('colab-df-quickchart-complete');\n",
              "        }\n",
              "        (() => {\n",
              "          let quickchartButtonEl =\n",
              "            document.querySelector('#df-f18aa2fb-7357-46b6-9be7-5de20498b97f button');\n",
              "          quickchartButtonEl.style.display =\n",
              "            google.colab.kernel.accessAllowed ? 'block' : 'none';\n",
              "        })();\n",
              "      </script>\n",
              "    </div>\n",
              "\n",
              "    </div>\n",
              "  </div>\n"
            ],
            "application/vnd.google.colaboratory.intrinsic+json": {
              "type": "dataframe",
              "variable_name": "df",
              "summary": "{\n  \"name\": \"df\",\n  \"rows\": 12684,\n  \"fields\": [\n    {\n      \"column\": \"encounter_id\",\n      \"properties\": {\n        \"dtype\": \"number\",\n        \"std\": 21185,\n        \"min\": 19253,\n        \"max\": 92598,\n        \"num_unique_values\": 12684,\n        \"samples\": [\n          67576,\n          71306,\n          90252\n        ],\n        \"semantic_type\": \"\",\n        \"description\": \"\"\n      }\n    },\n    {\n      \"column\": \"patient_id\",\n      \"properties\": {\n        \"dtype\": \"number\",\n        \"std\": 286992,\n        \"min\": 10000097,\n        \"max\": 10999930,\n        \"num_unique_values\": 12599,\n        \"samples\": [\n          10379897,\n          10750548,\n          10388849\n        ],\n        \"semantic_type\": \"\",\n        \"description\": \"\"\n      }\n    },\n    {\n      \"column\": \"name\",\n      \"properties\": {\n        \"dtype\": \"string\",\n        \"num_unique_values\": 9685,\n        \"samples\": [\n          \"\\u0639\\u0628\\u062f \\u0627\\u0644\\u0628\\u0627\\u0642\\u064a \\u0622\\u0644 \\u0645\\u0642\\u0637\\u0629\",\n          \"\\u0645\\u0641\\u064a\\u062f \\u0634\\u0631\\u0628\\u062a\\u0644\\u064a\",\n          \"\\u0627\\u0639\\u062a\\u0643\\u0627\\u0641 \\u0623\\u0628\\u0627 \\u0627\\u0644\\u062e\\u064a\\u0644\"\n        ],\n        \"semantic_type\": \"\",\n        \"description\": \"\"\n      }\n    },\n    {\n      \"column\": \"Gender\",\n      \"properties\": {\n        \"dtype\": \"category\",\n        \"num_unique_values\": 2,\n        \"samples\": [\n          \"F\",\n          \"M\"\n        ],\n        \"semantic_type\": \"\",\n        \"description\": \"\"\n      }\n    },\n    {\n      \"column\": \"doctor_id\",\n      \"properties\": {\n        \"dtype\": \"number\",\n        \"std\": 10,\n        \"min\": 19251,\n        \"max\": 19284,\n        \"num_unique_values\": 32,\n        \"samples\": [\n          19267,\n          19280\n        ],\n        \"semantic_type\": \"\",\n        \"description\": \"\"\n      }\n    },\n    {\n      \"column\": \"doctor_name\",\n      \"properties\": {\n        \"dtype\": \"category\",\n        \"num_unique_values\": 32,\n        \"samples\": [\n          \"\\u0627\\u0644\\u062f\\u0643\\u062a\\u0648\\u0631 \\u0647\\u0634\\u0627\\u0645 \\u0627\\u0644\\u0633\\u064a\\u062f\",\n          \"\\u0627\\u0644\\u062f\\u0643\\u062a\\u0648\\u0631\\u0629 \\u0627\\u0641\\u0646\\u0627\\u0646 \\u0645\\u062d\\u0645\\u062f\"\n        ],\n        \"semantic_type\": \"\",\n        \"description\": \"\"\n      }\n    },\n    {\n      \"column\": \"hospital_id\",\n      \"properties\": {\n        \"dtype\": \"number\",\n        \"std\": 1,\n        \"min\": 1231,\n        \"max\": 1237,\n        \"num_unique_values\": 7,\n        \"samples\": [\n          1235,\n          1231\n        ],\n        \"semantic_type\": \"\",\n        \"description\": \"\"\n      }\n    },\n    {\n      \"column\": \"hospital_name\",\n      \"properties\": {\n        \"dtype\": \"category\",\n        \"num_unique_values\": 7,\n        \"samples\": [\n          \"\\u0645\\u0633\\u062a\\u0634\\u0641\\u0649 \\u0627\\u0644\\u0633\\u0644\\u0627\\u0645 \\u0627\\u0644\\u0637\\u0628\\u064a\",\n          \"\\u0645\\u0633\\u062a\\u0634\\u0641\\u0649 \\u0627\\u0644\\u0623\\u0645\\u0644 \\u0627\\u0644\\u0639\\u0627\\u0645\"\n        ],\n        \"semantic_type\": \"\",\n        \"description\": \"\"\n      }\n    },\n    {\n      \"column\": \"insurance_provider_id\",\n      \"properties\": {\n        \"dtype\": \"number\",\n        \"std\": 2,\n        \"min\": 16255,\n        \"max\": 16261,\n        \"num_unique_values\": 7,\n        \"samples\": [\n          16261,\n          16257\n        ],\n        \"semantic_type\": \"\",\n        \"description\": \"\"\n      }\n    },\n    {\n      \"column\": \"insurance_provider_name\",\n      \"properties\": {\n        \"dtype\": \"category\",\n        \"num_unique_values\": 7,\n        \"samples\": [\n          \"\\u0634\\u0631\\u0643\\u0629 \\u0627\\u0644\\u0642\\u0644\\u0639\\u0629 \\u0644\\u0644\\u062a\\u0623\\u0645\\u064a\\u0646 \",\n          \"\\u0634\\u0631\\u0643\\u0629 \\u0627\\u0644\\u062d\\u0645\\u0627\\u064a\\u0629 \\u0627\\u0644\\u0634\\u0627\\u0645\\u0644\\u0629 \\u0644\\u0644\\u062a\\u0623\\u0645\\u064a\\u0646\"\n        ],\n        \"semantic_type\": \"\",\n        \"description\": \"\"\n      }\n    },\n    {\n      \"column\": \"MedicalCondition\",\n      \"properties\": {\n        \"dtype\": \"category\",\n        \"num_unique_values\": 6,\n        \"samples\": [\n          \"Hypertension\",\n          \"Diabetes\"\n        ],\n        \"semantic_type\": \"\",\n        \"description\": \"\"\n      }\n    },\n    {\n      \"column\": \"admission_date\",\n      \"properties\": {\n        \"dtype\": \"date\",\n        \"min\": \"2018-11-21 00:00:00\",\n        \"max\": \"2023-12-31 00:00:00\",\n        \"num_unique_values\": 111,\n        \"samples\": [\n          \"2023-12-06 00:00:00\",\n          \"2023-11-12 00:00:00\"\n        ],\n        \"semantic_type\": \"\",\n        \"description\": \"\"\n      }\n    },\n    {\n      \"column\": \"discharge_date\",\n      \"properties\": {\n        \"dtype\": \"date\",\n        \"min\": \"2022-10-26 00:00:00\",\n        \"max\": \"2024-01-19 00:00:00\",\n        \"num_unique_values\": 95,\n        \"samples\": [\n          \"2023-12-20 00:00:00\",\n          \"2023-10-19 00:00:00\"\n        ],\n        \"semantic_type\": \"\",\n        \"description\": \"\"\n      }\n    },\n    {\n      \"column\": \"billing_amount\",\n      \"properties\": {\n        \"dtype\": \"number\",\n        \"std\": 33536.23286360174,\n        \"min\": 512.52,\n        \"max\": 614988.22,\n        \"num_unique_values\": 12678,\n        \"samples\": [\n          99501.375,\n          14206.85\n        ],\n        \"semantic_type\": \"\",\n        \"description\": \"\"\n      }\n    },\n    {\n      \"column\": \"admission_type\",\n      \"properties\": {\n        \"dtype\": \"category\",\n        \"num_unique_values\": 3,\n        \"samples\": [\n          \"Urgent\",\n          \"Emergency\"\n        ],\n        \"semantic_type\": \"\",\n        \"description\": \"\"\n      }\n    },\n    {\n      \"column\": \"medication\",\n      \"properties\": {\n        \"dtype\": \"category\",\n        \"num_unique_values\": 7,\n        \"samples\": [\n          \"Paracetamol\",\n          \"Insulin\"\n        ],\n        \"semantic_type\": \"\",\n        \"description\": \"\"\n      }\n    },\n    {\n      \"column\": \"test_resultS\",\n      \"properties\": {\n        \"dtype\": \"category\",\n        \"num_unique_values\": 3,\n        \"samples\": [\n          \"Inconclusive\",\n          \"Normal\"\n        ],\n        \"semantic_type\": \"\",\n        \"description\": \"\"\n      }\n    },\n    {\n      \"column\": \"Length_of_Stay\",\n      \"properties\": {\n        \"dtype\": \"number\",\n        \"std\": 0,\n        \"min\": 0,\n        \"max\": 14,\n        \"num_unique_values\": 2,\n        \"samples\": [\n          14,\n          0\n        ],\n        \"semantic_type\": \"\",\n        \"description\": \"\"\n      }\n    }\n  ]\n}"
            }
          },
          "metadata": {},
          "execution_count": 154
        }
      ]
    },
    {
      "cell_type": "code",
      "source": [
        "df.info()\n"
      ],
      "metadata": {
        "colab": {
          "base_uri": "https://localhost:8080/"
        },
        "id": "EM8C88TprHlJ",
        "outputId": "897ca5c3-3487-4c1c-e71b-02ee5edb1648"
      },
      "execution_count": null,
      "outputs": [
        {
          "output_type": "stream",
          "name": "stdout",
          "text": [
            "<class 'pandas.core.frame.DataFrame'>\n",
            "RangeIndex: 12684 entries, 0 to 12683\n",
            "Data columns (total 18 columns):\n",
            " #   Column                   Non-Null Count  Dtype         \n",
            "---  ------                   --------------  -----         \n",
            " 0   encounter_id             12684 non-null  int64         \n",
            " 1   patient_id               12684 non-null  int64         \n",
            " 2   name                     12684 non-null  object        \n",
            " 3   Gender                   18 non-null     object        \n",
            " 4   doctor_id                12684 non-null  int64         \n",
            " 5   doctor_name              12684 non-null  object        \n",
            " 6   hospital_id              12684 non-null  int64         \n",
            " 7   hospital_name            12684 non-null  object        \n",
            " 8   insurance_provider_id    12684 non-null  int64         \n",
            " 9   insurance_provider_name  12684 non-null  object        \n",
            " 10  MedicalCondition         12684 non-null  object        \n",
            " 11  admission_date           12684 non-null  datetime64[ns]\n",
            " 12  discharge_date           12684 non-null  datetime64[ns]\n",
            " 13  billing_amount           12684 non-null  float64       \n",
            " 14  admission_type           12684 non-null  object        \n",
            " 15  medication               12684 non-null  object        \n",
            " 16  test_resultS             12684 non-null  object        \n",
            " 17  Length_of_Stay           12684 non-null  int64         \n",
            "dtypes: datetime64[ns](2), float64(1), int64(6), object(9)\n",
            "memory usage: 1.7+ MB\n"
          ]
        }
      ]
    },
    {
      "cell_type": "code",
      "source": [
        "df.describe()\n",
        "\n"
      ],
      "metadata": {
        "colab": {
          "base_uri": "https://localhost:8080/",
          "height": 300
        },
        "id": "lHJZbwi9rB9_",
        "outputId": "d1c3c5e5-16f0-46fb-cff1-117f70ee14bd"
      },
      "execution_count": null,
      "outputs": [
        {
          "output_type": "execute_result",
          "data": {
            "text/plain": [
              "       encounter_id    patient_id     doctor_id   hospital_id  \\\n",
              "count  12684.000000  1.268400e+04  12684.000000  12684.000000   \n",
              "mean   55889.022233  1.049814e+07  19263.399558   1233.986203   \n",
              "min    19253.000000  1.000010e+07  19251.000000   1231.000000   \n",
              "25%    37528.500000  1.025076e+07  19254.000000   1232.000000   \n",
              "50%    56047.500000  1.050083e+07  19261.000000   1234.000000   \n",
              "75%    74101.250000  1.074522e+07  19271.000000   1236.000000   \n",
              "max    92598.000000  1.099993e+07  19284.000000   1237.000000   \n",
              "std    21185.379706  2.869929e+05     10.177983      1.992784   \n",
              "\n",
              "       insurance_provider_id                 admission_date  \\\n",
              "count           12684.000000                          12684   \n",
              "mean            16258.025386  2023-11-17 08:38:29.176915968   \n",
              "min             16255.000000            2018-11-21 00:00:00   \n",
              "25%             16256.000000            2023-10-28 00:00:00   \n",
              "50%             16258.000000            2023-11-18 00:00:00   \n",
              "75%             16260.000000            2023-12-10 00:00:00   \n",
              "max             16261.000000            2023-12-31 00:00:00   \n",
              "std                 2.000824                            NaN   \n",
              "\n",
              "                      discharge_date  billing_amount  Length_of_Stay  \n",
              "count                          12684    12684.000000    12684.000000  \n",
              "mean   2023-11-25 23:01:52.393566720    57558.776180        0.002208  \n",
              "min              2022-10-26 00:00:00      512.520000        0.000000  \n",
              "25%              2023-11-04 00:00:00    28367.221250        0.000000  \n",
              "50%              2023-11-26 00:00:00    57582.360000        0.000000  \n",
              "75%              2023-12-17 00:00:00    86170.447500        0.000000  \n",
              "max              2024-01-19 00:00:00   614988.220000       14.000000  \n",
              "std                              NaN    33536.232864        0.175791  "
            ],
            "text/html": [
              "\n",
              "  <div id=\"df-0a8e3095-d9b8-4070-ac58-89f0aae84847\" class=\"colab-df-container\">\n",
              "    <div>\n",
              "<style scoped>\n",
              "    .dataframe tbody tr th:only-of-type {\n",
              "        vertical-align: middle;\n",
              "    }\n",
              "\n",
              "    .dataframe tbody tr th {\n",
              "        vertical-align: top;\n",
              "    }\n",
              "\n",
              "    .dataframe thead th {\n",
              "        text-align: right;\n",
              "    }\n",
              "</style>\n",
              "<table border=\"1\" class=\"dataframe\">\n",
              "  <thead>\n",
              "    <tr style=\"text-align: right;\">\n",
              "      <th></th>\n",
              "      <th>encounter_id</th>\n",
              "      <th>patient_id</th>\n",
              "      <th>doctor_id</th>\n",
              "      <th>hospital_id</th>\n",
              "      <th>insurance_provider_id</th>\n",
              "      <th>admission_date</th>\n",
              "      <th>discharge_date</th>\n",
              "      <th>billing_amount</th>\n",
              "      <th>Length_of_Stay</th>\n",
              "    </tr>\n",
              "  </thead>\n",
              "  <tbody>\n",
              "    <tr>\n",
              "      <th>count</th>\n",
              "      <td>12684.000000</td>\n",
              "      <td>1.268400e+04</td>\n",
              "      <td>12684.000000</td>\n",
              "      <td>12684.000000</td>\n",
              "      <td>12684.000000</td>\n",
              "      <td>12684</td>\n",
              "      <td>12684</td>\n",
              "      <td>12684.000000</td>\n",
              "      <td>12684.000000</td>\n",
              "    </tr>\n",
              "    <tr>\n",
              "      <th>mean</th>\n",
              "      <td>55889.022233</td>\n",
              "      <td>1.049814e+07</td>\n",
              "      <td>19263.399558</td>\n",
              "      <td>1233.986203</td>\n",
              "      <td>16258.025386</td>\n",
              "      <td>2023-11-17 08:38:29.176915968</td>\n",
              "      <td>2023-11-25 23:01:52.393566720</td>\n",
              "      <td>57558.776180</td>\n",
              "      <td>0.002208</td>\n",
              "    </tr>\n",
              "    <tr>\n",
              "      <th>min</th>\n",
              "      <td>19253.000000</td>\n",
              "      <td>1.000010e+07</td>\n",
              "      <td>19251.000000</td>\n",
              "      <td>1231.000000</td>\n",
              "      <td>16255.000000</td>\n",
              "      <td>2018-11-21 00:00:00</td>\n",
              "      <td>2022-10-26 00:00:00</td>\n",
              "      <td>512.520000</td>\n",
              "      <td>0.000000</td>\n",
              "    </tr>\n",
              "    <tr>\n",
              "      <th>25%</th>\n",
              "      <td>37528.500000</td>\n",
              "      <td>1.025076e+07</td>\n",
              "      <td>19254.000000</td>\n",
              "      <td>1232.000000</td>\n",
              "      <td>16256.000000</td>\n",
              "      <td>2023-10-28 00:00:00</td>\n",
              "      <td>2023-11-04 00:00:00</td>\n",
              "      <td>28367.221250</td>\n",
              "      <td>0.000000</td>\n",
              "    </tr>\n",
              "    <tr>\n",
              "      <th>50%</th>\n",
              "      <td>56047.500000</td>\n",
              "      <td>1.050083e+07</td>\n",
              "      <td>19261.000000</td>\n",
              "      <td>1234.000000</td>\n",
              "      <td>16258.000000</td>\n",
              "      <td>2023-11-18 00:00:00</td>\n",
              "      <td>2023-11-26 00:00:00</td>\n",
              "      <td>57582.360000</td>\n",
              "      <td>0.000000</td>\n",
              "    </tr>\n",
              "    <tr>\n",
              "      <th>75%</th>\n",
              "      <td>74101.250000</td>\n",
              "      <td>1.074522e+07</td>\n",
              "      <td>19271.000000</td>\n",
              "      <td>1236.000000</td>\n",
              "      <td>16260.000000</td>\n",
              "      <td>2023-12-10 00:00:00</td>\n",
              "      <td>2023-12-17 00:00:00</td>\n",
              "      <td>86170.447500</td>\n",
              "      <td>0.000000</td>\n",
              "    </tr>\n",
              "    <tr>\n",
              "      <th>max</th>\n",
              "      <td>92598.000000</td>\n",
              "      <td>1.099993e+07</td>\n",
              "      <td>19284.000000</td>\n",
              "      <td>1237.000000</td>\n",
              "      <td>16261.000000</td>\n",
              "      <td>2023-12-31 00:00:00</td>\n",
              "      <td>2024-01-19 00:00:00</td>\n",
              "      <td>614988.220000</td>\n",
              "      <td>14.000000</td>\n",
              "    </tr>\n",
              "    <tr>\n",
              "      <th>std</th>\n",
              "      <td>21185.379706</td>\n",
              "      <td>2.869929e+05</td>\n",
              "      <td>10.177983</td>\n",
              "      <td>1.992784</td>\n",
              "      <td>2.000824</td>\n",
              "      <td>NaN</td>\n",
              "      <td>NaN</td>\n",
              "      <td>33536.232864</td>\n",
              "      <td>0.175791</td>\n",
              "    </tr>\n",
              "  </tbody>\n",
              "</table>\n",
              "</div>\n",
              "    <div class=\"colab-df-buttons\">\n",
              "\n",
              "  <div class=\"colab-df-container\">\n",
              "    <button class=\"colab-df-convert\" onclick=\"convertToInteractive('df-0a8e3095-d9b8-4070-ac58-89f0aae84847')\"\n",
              "            title=\"Convert this dataframe to an interactive table.\"\n",
              "            style=\"display:none;\">\n",
              "\n",
              "  <svg xmlns=\"http://www.w3.org/2000/svg\" height=\"24px\" viewBox=\"0 -960 960 960\">\n",
              "    <path d=\"M120-120v-720h720v720H120Zm60-500h600v-160H180v160Zm220 220h160v-160H400v160Zm0 220h160v-160H400v160ZM180-400h160v-160H180v160Zm440 0h160v-160H620v160ZM180-180h160v-160H180v160Zm440 0h160v-160H620v160Z\"/>\n",
              "  </svg>\n",
              "    </button>\n",
              "\n",
              "  <style>\n",
              "    .colab-df-container {\n",
              "      display:flex;\n",
              "      gap: 12px;\n",
              "    }\n",
              "\n",
              "    .colab-df-convert {\n",
              "      background-color: #E8F0FE;\n",
              "      border: none;\n",
              "      border-radius: 50%;\n",
              "      cursor: pointer;\n",
              "      display: none;\n",
              "      fill: #1967D2;\n",
              "      height: 32px;\n",
              "      padding: 0 0 0 0;\n",
              "      width: 32px;\n",
              "    }\n",
              "\n",
              "    .colab-df-convert:hover {\n",
              "      background-color: #E2EBFA;\n",
              "      box-shadow: 0px 1px 2px rgba(60, 64, 67, 0.3), 0px 1px 3px 1px rgba(60, 64, 67, 0.15);\n",
              "      fill: #174EA6;\n",
              "    }\n",
              "\n",
              "    .colab-df-buttons div {\n",
              "      margin-bottom: 4px;\n",
              "    }\n",
              "\n",
              "    [theme=dark] .colab-df-convert {\n",
              "      background-color: #3B4455;\n",
              "      fill: #D2E3FC;\n",
              "    }\n",
              "\n",
              "    [theme=dark] .colab-df-convert:hover {\n",
              "      background-color: #434B5C;\n",
              "      box-shadow: 0px 1px 3px 1px rgba(0, 0, 0, 0.15);\n",
              "      filter: drop-shadow(0px 1px 2px rgba(0, 0, 0, 0.3));\n",
              "      fill: #FFFFFF;\n",
              "    }\n",
              "  </style>\n",
              "\n",
              "    <script>\n",
              "      const buttonEl =\n",
              "        document.querySelector('#df-0a8e3095-d9b8-4070-ac58-89f0aae84847 button.colab-df-convert');\n",
              "      buttonEl.style.display =\n",
              "        google.colab.kernel.accessAllowed ? 'block' : 'none';\n",
              "\n",
              "      async function convertToInteractive(key) {\n",
              "        const element = document.querySelector('#df-0a8e3095-d9b8-4070-ac58-89f0aae84847');\n",
              "        const dataTable =\n",
              "          await google.colab.kernel.invokeFunction('convertToInteractive',\n",
              "                                                    [key], {});\n",
              "        if (!dataTable) return;\n",
              "\n",
              "        const docLinkHtml = 'Like what you see? Visit the ' +\n",
              "          '<a target=\"_blank\" href=https://colab.research.google.com/notebooks/data_table.ipynb>data table notebook</a>'\n",
              "          + ' to learn more about interactive tables.';\n",
              "        element.innerHTML = '';\n",
              "        dataTable['output_type'] = 'display_data';\n",
              "        await google.colab.output.renderOutput(dataTable, element);\n",
              "        const docLink = document.createElement('div');\n",
              "        docLink.innerHTML = docLinkHtml;\n",
              "        element.appendChild(docLink);\n",
              "      }\n",
              "    </script>\n",
              "  </div>\n",
              "\n",
              "\n",
              "    <div id=\"df-d53602fe-2998-4d28-b384-fdede800b8bf\">\n",
              "      <button class=\"colab-df-quickchart\" onclick=\"quickchart('df-d53602fe-2998-4d28-b384-fdede800b8bf')\"\n",
              "                title=\"Suggest charts\"\n",
              "                style=\"display:none;\">\n",
              "\n",
              "<svg xmlns=\"http://www.w3.org/2000/svg\" height=\"24px\"viewBox=\"0 0 24 24\"\n",
              "     width=\"24px\">\n",
              "    <g>\n",
              "        <path d=\"M19 3H5c-1.1 0-2 .9-2 2v14c0 1.1.9 2 2 2h14c1.1 0 2-.9 2-2V5c0-1.1-.9-2-2-2zM9 17H7v-7h2v7zm4 0h-2V7h2v10zm4 0h-2v-4h2v4z\"/>\n",
              "    </g>\n",
              "</svg>\n",
              "      </button>\n",
              "\n",
              "<style>\n",
              "  .colab-df-quickchart {\n",
              "      --bg-color: #E8F0FE;\n",
              "      --fill-color: #1967D2;\n",
              "      --hover-bg-color: #E2EBFA;\n",
              "      --hover-fill-color: #174EA6;\n",
              "      --disabled-fill-color: #AAA;\n",
              "      --disabled-bg-color: #DDD;\n",
              "  }\n",
              "\n",
              "  [theme=dark] .colab-df-quickchart {\n",
              "      --bg-color: #3B4455;\n",
              "      --fill-color: #D2E3FC;\n",
              "      --hover-bg-color: #434B5C;\n",
              "      --hover-fill-color: #FFFFFF;\n",
              "      --disabled-bg-color: #3B4455;\n",
              "      --disabled-fill-color: #666;\n",
              "  }\n",
              "\n",
              "  .colab-df-quickchart {\n",
              "    background-color: var(--bg-color);\n",
              "    border: none;\n",
              "    border-radius: 50%;\n",
              "    cursor: pointer;\n",
              "    display: none;\n",
              "    fill: var(--fill-color);\n",
              "    height: 32px;\n",
              "    padding: 0;\n",
              "    width: 32px;\n",
              "  }\n",
              "\n",
              "  .colab-df-quickchart:hover {\n",
              "    background-color: var(--hover-bg-color);\n",
              "    box-shadow: 0 1px 2px rgba(60, 64, 67, 0.3), 0 1px 3px 1px rgba(60, 64, 67, 0.15);\n",
              "    fill: var(--button-hover-fill-color);\n",
              "  }\n",
              "\n",
              "  .colab-df-quickchart-complete:disabled,\n",
              "  .colab-df-quickchart-complete:disabled:hover {\n",
              "    background-color: var(--disabled-bg-color);\n",
              "    fill: var(--disabled-fill-color);\n",
              "    box-shadow: none;\n",
              "  }\n",
              "\n",
              "  .colab-df-spinner {\n",
              "    border: 2px solid var(--fill-color);\n",
              "    border-color: transparent;\n",
              "    border-bottom-color: var(--fill-color);\n",
              "    animation:\n",
              "      spin 1s steps(1) infinite;\n",
              "  }\n",
              "\n",
              "  @keyframes spin {\n",
              "    0% {\n",
              "      border-color: transparent;\n",
              "      border-bottom-color: var(--fill-color);\n",
              "      border-left-color: var(--fill-color);\n",
              "    }\n",
              "    20% {\n",
              "      border-color: transparent;\n",
              "      border-left-color: var(--fill-color);\n",
              "      border-top-color: var(--fill-color);\n",
              "    }\n",
              "    30% {\n",
              "      border-color: transparent;\n",
              "      border-left-color: var(--fill-color);\n",
              "      border-top-color: var(--fill-color);\n",
              "      border-right-color: var(--fill-color);\n",
              "    }\n",
              "    40% {\n",
              "      border-color: transparent;\n",
              "      border-right-color: var(--fill-color);\n",
              "      border-top-color: var(--fill-color);\n",
              "    }\n",
              "    60% {\n",
              "      border-color: transparent;\n",
              "      border-right-color: var(--fill-color);\n",
              "    }\n",
              "    80% {\n",
              "      border-color: transparent;\n",
              "      border-right-color: var(--fill-color);\n",
              "      border-bottom-color: var(--fill-color);\n",
              "    }\n",
              "    90% {\n",
              "      border-color: transparent;\n",
              "      border-bottom-color: var(--fill-color);\n",
              "    }\n",
              "  }\n",
              "</style>\n",
              "\n",
              "      <script>\n",
              "        async function quickchart(key) {\n",
              "          const quickchartButtonEl =\n",
              "            document.querySelector('#' + key + ' button');\n",
              "          quickchartButtonEl.disabled = true;  // To prevent multiple clicks.\n",
              "          quickchartButtonEl.classList.add('colab-df-spinner');\n",
              "          try {\n",
              "            const charts = await google.colab.kernel.invokeFunction(\n",
              "                'suggestCharts', [key], {});\n",
              "          } catch (error) {\n",
              "            console.error('Error during call to suggestCharts:', error);\n",
              "          }\n",
              "          quickchartButtonEl.classList.remove('colab-df-spinner');\n",
              "          quickchartButtonEl.classList.add('colab-df-quickchart-complete');\n",
              "        }\n",
              "        (() => {\n",
              "          let quickchartButtonEl =\n",
              "            document.querySelector('#df-d53602fe-2998-4d28-b384-fdede800b8bf button');\n",
              "          quickchartButtonEl.style.display =\n",
              "            google.colab.kernel.accessAllowed ? 'block' : 'none';\n",
              "        })();\n",
              "      </script>\n",
              "    </div>\n",
              "\n",
              "    </div>\n",
              "  </div>\n"
            ],
            "application/vnd.google.colaboratory.intrinsic+json": {
              "type": "dataframe",
              "summary": "{\n  \"name\": \"df\",\n  \"rows\": 8,\n  \"fields\": [\n    {\n      \"column\": \"encounter_id\",\n      \"properties\": {\n        \"dtype\": \"number\",\n        \"std\": 28466.726180291418,\n        \"min\": 12684.0,\n        \"max\": 92598.0,\n        \"num_unique_values\": 8,\n        \"samples\": [\n          55889.022232734154,\n          74101.25,\n          12684.0\n        ],\n        \"semantic_type\": \"\",\n        \"description\": \"\"\n      }\n    },\n    {\n      \"column\": \"patient_id\",\n      \"properties\": {\n        \"dtype\": \"number\",\n        \"std\": 4800632.499455764,\n        \"min\": 12684.0,\n        \"max\": 10999930.0,\n        \"num_unique_values\": 8,\n        \"samples\": [\n          10498136.574109115,\n          10745224.75,\n          12684.0\n        ],\n        \"semantic_type\": \"\",\n        \"description\": \"\"\n      }\n    },\n    {\n      \"column\": \"doctor_id\",\n      \"properties\": {\n        \"dtype\": \"number\",\n        \"std\": 6872.159934118384,\n        \"min\": 10.177983380863603,\n        \"max\": 19284.0,\n        \"num_unique_values\": 8,\n        \"samples\": [\n          19263.399558498895,\n          19271.0,\n          12684.0\n        ],\n        \"semantic_type\": \"\",\n        \"description\": \"\"\n      }\n    },\n    {\n      \"column\": \"hospital_id\",\n      \"properties\": {\n        \"dtype\": \"number\",\n        \"std\": 4132.959523447188,\n        \"min\": 1.992784143241473,\n        \"max\": 12684.0,\n        \"num_unique_values\": 8,\n        \"samples\": [\n          1233.9862030905076,\n          1236.0,\n          12684.0\n        ],\n        \"semantic_type\": \"\",\n        \"description\": \"\"\n      }\n    },\n    {\n      \"column\": \"insurance_provider_id\",\n      \"properties\": {\n        \"dtype\": \"number\",\n        \"std\": 5705.605372173091,\n        \"min\": 2.0008242724495244,\n        \"max\": 16261.0,\n        \"num_unique_values\": 8,\n        \"samples\": [\n          16258.025386313466,\n          16260.0,\n          12684.0\n        ],\n        \"semantic_type\": \"\",\n        \"description\": \"\"\n      }\n    },\n    {\n      \"column\": \"admission_date\",\n      \"properties\": {\n        \"dtype\": \"date\",\n        \"min\": \"1970-01-01 00:00:00.000012684\",\n        \"max\": \"2023-12-31 00:00:00\",\n        \"num_unique_values\": 7,\n        \"samples\": [\n          \"12684\",\n          \"2023-11-17 08:38:29.176915968\",\n          \"2023-12-10 00:00:00\"\n        ],\n        \"semantic_type\": \"\",\n        \"description\": \"\"\n      }\n    },\n    {\n      \"column\": \"discharge_date\",\n      \"properties\": {\n        \"dtype\": \"date\",\n        \"min\": \"1970-01-01 00:00:00.000012684\",\n        \"max\": \"2024-01-19 00:00:00\",\n        \"num_unique_values\": 7,\n        \"samples\": [\n          \"12684\",\n          \"2023-11-25 23:01:52.393566720\",\n          \"2023-12-17 00:00:00\"\n        ],\n        \"semantic_type\": \"\",\n        \"description\": \"\"\n      }\n    },\n    {\n      \"column\": \"billing_amount\",\n      \"properties\": {\n        \"dtype\": \"number\",\n        \"std\": 205298.01573989645,\n        \"min\": 512.52,\n        \"max\": 614988.22,\n        \"num_unique_values\": 8,\n        \"samples\": [\n          57558.776180227054,\n          86170.4475,\n          12684.0\n        ],\n        \"semantic_type\": \"\",\n        \"description\": \"\"\n      }\n    },\n    {\n      \"column\": \"Length_of_Stay\",\n      \"properties\": {\n        \"dtype\": \"number\",\n        \"std\": 4483.757774603206,\n        \"min\": 0.0,\n        \"max\": 12684.0,\n        \"num_unique_values\": 5,\n        \"samples\": [\n          0.002207505518763797,\n          0.17579146887798705,\n          0.0\n        ],\n        \"semantic_type\": \"\",\n        \"description\": \"\"\n      }\n    }\n  ]\n}"
            }
          },
          "metadata": {},
          "execution_count": 156
        }
      ]
    },
    {
      "cell_type": "code",
      "source": [
        "df.isnull().sum()"
      ],
      "metadata": {
        "colab": {
          "base_uri": "https://localhost:8080/",
          "height": 648
        },
        "id": "tfpSEgrJ8cwx",
        "outputId": "06667ea2-93e2-42db-d621-bdf38ed07c16"
      },
      "execution_count": null,
      "outputs": [
        {
          "output_type": "execute_result",
          "data": {
            "text/plain": [
              "encounter_id                   0\n",
              "patient_id                     0\n",
              "name                           0\n",
              "Gender                     12666\n",
              "doctor_id                      0\n",
              "doctor_name                    0\n",
              "hospital_id                    0\n",
              "hospital_name                  0\n",
              "insurance_provider_id          0\n",
              "insurance_provider_name        0\n",
              "MedicalCondition               0\n",
              "admission_date                 0\n",
              "discharge_date                 0\n",
              "billing_amount                 0\n",
              "admission_type                 0\n",
              "medication                     0\n",
              "test_resultS                   0\n",
              "Length_of_Stay                 0\n",
              "dtype: int64"
            ],
            "text/html": [
              "<div>\n",
              "<style scoped>\n",
              "    .dataframe tbody tr th:only-of-type {\n",
              "        vertical-align: middle;\n",
              "    }\n",
              "\n",
              "    .dataframe tbody tr th {\n",
              "        vertical-align: top;\n",
              "    }\n",
              "\n",
              "    .dataframe thead th {\n",
              "        text-align: right;\n",
              "    }\n",
              "</style>\n",
              "<table border=\"1\" class=\"dataframe\">\n",
              "  <thead>\n",
              "    <tr style=\"text-align: right;\">\n",
              "      <th></th>\n",
              "      <th>0</th>\n",
              "    </tr>\n",
              "  </thead>\n",
              "  <tbody>\n",
              "    <tr>\n",
              "      <th>encounter_id</th>\n",
              "      <td>0</td>\n",
              "    </tr>\n",
              "    <tr>\n",
              "      <th>patient_id</th>\n",
              "      <td>0</td>\n",
              "    </tr>\n",
              "    <tr>\n",
              "      <th>name</th>\n",
              "      <td>0</td>\n",
              "    </tr>\n",
              "    <tr>\n",
              "      <th>Gender</th>\n",
              "      <td>12666</td>\n",
              "    </tr>\n",
              "    <tr>\n",
              "      <th>doctor_id</th>\n",
              "      <td>0</td>\n",
              "    </tr>\n",
              "    <tr>\n",
              "      <th>doctor_name</th>\n",
              "      <td>0</td>\n",
              "    </tr>\n",
              "    <tr>\n",
              "      <th>hospital_id</th>\n",
              "      <td>0</td>\n",
              "    </tr>\n",
              "    <tr>\n",
              "      <th>hospital_name</th>\n",
              "      <td>0</td>\n",
              "    </tr>\n",
              "    <tr>\n",
              "      <th>insurance_provider_id</th>\n",
              "      <td>0</td>\n",
              "    </tr>\n",
              "    <tr>\n",
              "      <th>insurance_provider_name</th>\n",
              "      <td>0</td>\n",
              "    </tr>\n",
              "    <tr>\n",
              "      <th>MedicalCondition</th>\n",
              "      <td>0</td>\n",
              "    </tr>\n",
              "    <tr>\n",
              "      <th>admission_date</th>\n",
              "      <td>0</td>\n",
              "    </tr>\n",
              "    <tr>\n",
              "      <th>discharge_date</th>\n",
              "      <td>0</td>\n",
              "    </tr>\n",
              "    <tr>\n",
              "      <th>billing_amount</th>\n",
              "      <td>0</td>\n",
              "    </tr>\n",
              "    <tr>\n",
              "      <th>admission_type</th>\n",
              "      <td>0</td>\n",
              "    </tr>\n",
              "    <tr>\n",
              "      <th>medication</th>\n",
              "      <td>0</td>\n",
              "    </tr>\n",
              "    <tr>\n",
              "      <th>test_resultS</th>\n",
              "      <td>0</td>\n",
              "    </tr>\n",
              "    <tr>\n",
              "      <th>Length_of_Stay</th>\n",
              "      <td>0</td>\n",
              "    </tr>\n",
              "  </tbody>\n",
              "</table>\n",
              "</div><br><label><b>dtype:</b> int64</label>"
            ]
          },
          "metadata": {},
          "execution_count": 157
        }
      ]
    },
    {
      "cell_type": "code",
      "source": [
        "df.fillna(0, inplace=True)"
      ],
      "metadata": {
        "id": "s5-pXLNknVIH"
      },
      "execution_count": null,
      "outputs": []
    },
    {
      "cell_type": "code",
      "source": [
        "df.dropna(axis=1, how='all', inplace=True)"
      ],
      "metadata": {
        "id": "-_kOUepWsUgY"
      },
      "execution_count": null,
      "outputs": []
    },
    {
      "cell_type": "code",
      "source": [
        "print(df.columns)"
      ],
      "metadata": {
        "colab": {
          "base_uri": "https://localhost:8080/"
        },
        "id": "Sp_nUtrP8bba",
        "outputId": "05dbfa74-53b7-45f3-cfec-9629cb0ff185"
      },
      "execution_count": null,
      "outputs": [
        {
          "output_type": "stream",
          "name": "stdout",
          "text": [
            "Index(['encounter_id', 'patient_id', 'name', 'Gender', 'doctor_id',\n",
            "       'doctor_name', 'hospital_id', 'hospital_name', 'insurance_provider_id',\n",
            "       'insurance_provider_name', 'MedicalCondition', 'admission_date',\n",
            "       'discharge_date', 'billing_amount', 'admission_type', 'medication',\n",
            "       'test_resultS', 'Length_of_Stay'],\n",
            "      dtype='object')\n"
          ]
        }
      ]
    },
    {
      "cell_type": "markdown",
      "source": [
        "# **Exploratory Data Analysis (EDA)**"
      ],
      "metadata": {
        "id": "cKCfMpXl9jXm"
      }
    },
    {
      "cell_type": "code",
      "source": [
        "df['billing_amount'].describe()\n"
      ],
      "metadata": {
        "colab": {
          "base_uri": "https://localhost:8080/",
          "height": 335
        },
        "id": "eXQQ2Ne126Jf",
        "outputId": "82246f40-1aa8-4959-9d5e-44fb3403ea57"
      },
      "execution_count": null,
      "outputs": [
        {
          "output_type": "execute_result",
          "data": {
            "text/plain": [
              "count     12684.000000\n",
              "mean      57558.776180\n",
              "std       33536.232864\n",
              "min         512.520000\n",
              "25%       28367.221250\n",
              "50%       57582.360000\n",
              "75%       86170.447500\n",
              "max      614988.220000\n",
              "Name: billing_amount, dtype: float64"
            ],
            "text/html": [
              "<div>\n",
              "<style scoped>\n",
              "    .dataframe tbody tr th:only-of-type {\n",
              "        vertical-align: middle;\n",
              "    }\n",
              "\n",
              "    .dataframe tbody tr th {\n",
              "        vertical-align: top;\n",
              "    }\n",
              "\n",
              "    .dataframe thead th {\n",
              "        text-align: right;\n",
              "    }\n",
              "</style>\n",
              "<table border=\"1\" class=\"dataframe\">\n",
              "  <thead>\n",
              "    <tr style=\"text-align: right;\">\n",
              "      <th></th>\n",
              "      <th>billing_amount</th>\n",
              "    </tr>\n",
              "  </thead>\n",
              "  <tbody>\n",
              "    <tr>\n",
              "      <th>count</th>\n",
              "      <td>12684.000000</td>\n",
              "    </tr>\n",
              "    <tr>\n",
              "      <th>mean</th>\n",
              "      <td>57558.776180</td>\n",
              "    </tr>\n",
              "    <tr>\n",
              "      <th>std</th>\n",
              "      <td>33536.232864</td>\n",
              "    </tr>\n",
              "    <tr>\n",
              "      <th>min</th>\n",
              "      <td>512.520000</td>\n",
              "    </tr>\n",
              "    <tr>\n",
              "      <th>25%</th>\n",
              "      <td>28367.221250</td>\n",
              "    </tr>\n",
              "    <tr>\n",
              "      <th>50%</th>\n",
              "      <td>57582.360000</td>\n",
              "    </tr>\n",
              "    <tr>\n",
              "      <th>75%</th>\n",
              "      <td>86170.447500</td>\n",
              "    </tr>\n",
              "    <tr>\n",
              "      <th>max</th>\n",
              "      <td>614988.220000</td>\n",
              "    </tr>\n",
              "  </tbody>\n",
              "</table>\n",
              "</div><br><label><b>dtype:</b> float64</label>"
            ]
          },
          "metadata": {},
          "execution_count": 161
        }
      ]
    },
    {
      "cell_type": "code",
      "source": [
        "top_conditions = df['MedicalCondition'].value_counts().head(5)\n",
        "\n",
        "import seaborn as sns\n",
        "import matplotlib.pyplot as plt\n",
        "\n",
        "sns.barplot(x=top_conditions.values, y=top_conditions.index, palette='viridis')\n",
        "plt.title(\"Top 5 Medical Conditions\")\n",
        "plt.xlabel(\"Count\")\n",
        "plt.ylabel(\"Medical Condition\")\n",
        "plt.show()\n"
      ],
      "metadata": {
        "colab": {
          "base_uri": "https://localhost:8080/",
          "height": 559
        },
        "id": "qdgLkdabBDmT",
        "outputId": "eaba8958-ca1a-47a4-c23f-7c8c4c1b8191"
      },
      "execution_count": null,
      "outputs": [
        {
          "output_type": "stream",
          "name": "stderr",
          "text": [
            "/tmp/ipython-input-2574751102.py:6: FutureWarning: \n",
            "\n",
            "Passing `palette` without assigning `hue` is deprecated and will be removed in v0.14.0. Assign the `y` variable to `hue` and set `legend=False` for the same effect.\n",
            "\n",
            "  sns.barplot(x=top_conditions.values, y=top_conditions.index, palette='viridis')\n"
          ]
        },
        {
          "output_type": "display_data",
          "data": {
            "text/plain": [
              "<Figure size 640x480 with 1 Axes>"
            ],
            "image/png": "iVBORw0KGgoAAAANSUhEUgAAAn4AAAHHCAYAAAAh/VVAAAAAOnRFWHRTb2Z0d2FyZQBNYXRwbG90bGliIHZlcnNpb24zLjEwLjAsIGh0dHBzOi8vbWF0cGxvdGxpYi5vcmcvlHJYcgAAAAlwSFlzAAAPYQAAD2EBqD+naQAASi5JREFUeJzt3Xl8Tdf+//H3kZlIgoQkRGKIoYi5veHWUEGMNRRXqbE6UEOrlLZK2t7L1clVqnqroq3S6kCvCiVFSw01F6miiFbQiiRSakjW7w8/5+s0QY6eSGK/no/HeTxy9l57789exyN5W3vvdWzGGCMAAADc9ooVdAEAAAC4NQh+AAAAFkHwAwAAsAiCHwAAgEUQ/AAAACyC4AcAAGARBD8AAACLIPgBAABYBMEPAADAIgh+AFDIREREaMCAAfb3a9askc1m05o1a/LlePHx8bLZbDp8+HC+7D+/TZo0STabzWHZn/vwelq0aKEWLVq4vjCgECL4AXApm82Wp1d+hZi81DJlypQbbnslDNlsNq1bty7HemOMwsLCZLPZ1LFjx/wov9DasWOH+vbtq7CwMHl5eal06dKKiYnR3LlzlZWVVdDl5Wrv3r2aNGlSkQ23gKu4F3QBAG4v7733nsP7d999VytXrsyxvGbNmrekntatW6tfv34Oy+rXr5/n7b29vfXBBx/o73//u8PytWvX6ueff5aXl5dL6ryeZs2a6dy5c/L09Mz3Y93I22+/rUceeUTlypXTAw88oMjISJ05c0aJiYkaPHiwUlJS9PTTTxd0mdq3b5+KFfu/sY29e/cqLi5OLVq0UEREhEPbL7/88hZXBxQcgh8Al+rbt6/D+40bN2rlypU5lt8q1apV+0vHbt++vRYtWqTp06fL3f3/fmV+8MEHatiwoX777TdXlHldxYoVk7e3d74f50Y2btyoRx55RNHR0Vq2bJlKlixpXzdq1Cht2bJFu3fvLsAK/48zgbwwBGrgVuFSL4Bb7vfff9fo0aPtlwqrV6+ul19+WcYYh3Y2m02PPfaY5s+fr+rVq8vb21sNGzbU119/7dTxzp07pz/++OOmau3du7dOnTqllStX2pdduHBBH3/8se6///5ct8nOzta0adNUq1YteXt7q1y5cnr44Yd1+vRph3bGGL344ouqUKGCihcvrpYtW2rPnj059nete/w2bdqk9u3bq1SpUipRooSioqL0n//8x75+165dGjBggCpXrixvb28FBwdr0KBBOnXq1E31RVxcnGw2m+bPn+8Q+q5o1KiRw311zn7OixcvVu3ateXl5aVatWpp+fLlOY6xbt06NW7cWN7e3qpSpYpmz56da61X3+MXHx+vHj16SJJatmyZ43aD3O7xO3nypAYPHqxy5crJ29tbdevW1bx58xzaHD58WDabTS+//LLeeustValSRV5eXmrcuLG+++47h7bHjx/XwIEDVaFCBXl5eSkkJET33nsvl55xyzHiB+CWMsaoc+fOWr16tQYPHqx69eppxYoVGjNmjH755Re99tprDu3Xrl2rDz/8UCNGjJCXl5feeOMNxcbGavPmzapdu/YNjxcfH6833nhDxhjVrFlTzz777DUDW24iIiIUHR2tBQsWqF27dpKkhIQEpaen6x//+IemT5+eY5uHH35Y8fHxGjhwoEaMGKFDhw5pxowZ2r59u9avXy8PDw9J0nPPPacXX3xR7du3V/v27bVt2za1adNGFy5cuGFdK1euVMeOHRUSEqKRI0cqODhYSUlJWrp0qUaOHGlv89NPP2ngwIEKDg7Wnj179NZbb2nPnj3auHFjjgcirufs2bNKTExUs2bNVLFixRu2d/ZzXrdunT799FMNHTpUJUuW1PTp09W9e3clJyerTJkykqTvv/9ebdq0UVBQkCZNmqRLly5p4sSJKleu3HVradasmUaMGKHp06fr6aeftt9mcK3bDc6dO6cWLVrowIEDeuyxx1SpUiUtWrRIAwYMUFpamr1/r/jggw905swZPfzww7LZbJo6daq6deumn376yf5Zd+/eXXv27NHw4cMVERGhkydPauXKlUpOTs5x6RnIVwYA8tGwYcPM1b9qFi9ebCSZF1980aHdfffdZ2w2mzlw4IB9mSQjyWzZssW+7MiRI8bb29t07dr1hsdu0qSJmTZtmlmyZImZNWuWqV27tpFk3njjjRtuO3fuXCPJfPfdd2bGjBmmZMmS5uzZs8YYY3r06GFatmxpjDEmPDzcdOjQwb7dN998YySZ+fPnO+xv+fLlDstPnjxpPD09TYcOHUx2dra93dNPP20kmf79+9uXrV692kgyq1evNsYYc+nSJVOpUiUTHh5uTp8+7XCcq/d1pd6rLViwwEgyX3/9dY5zPXTo0DX7Y+fOnUaSGTly5DXbXM3Zz9nT09Nh2ZXjvf766/ZlXbp0Md7e3ubIkSP2ZXv37jVubm7mz3/OwsPDHfpw0aJFDn14tebNm5vmzZvb30+bNs1IMu+//7592YULF0x0dLTx9fU1GRkZxhhjDh06ZCSZMmXKmNTUVHvbJUuWGEnmf//7nzHGmNOnTxtJ5qWXXrpelwG3BJd6AdxSy5Ytk5ubm0aMGOGwfPTo0TLGKCEhwWF5dHS0GjZsaH9fsWJF3XvvvVqxYsUNnyBdv369Ro4cqc6dO+uRRx7R1q1bVbt2bT399NM6d+5cnmvu2bOnzp07p6VLl+rMmTNaunTpNUcNFy1aJH9/f7Vu3Vq//fab/dWwYUP5+vpq9erVkqRVq1bpwoULGj58uMPI26hRo25Yz/bt23Xo0CGNGjVKAQEBDuuu3pePj4/95z/++EO//fab/va3v0mStm3bltfTlyRlZGRIUq6XeHPj7OccExOjKlWq2N9HRUXJz89PP/30kyQpKytLK1asUJcuXRxGHGvWrKm2bds6dS55qT04OFi9e/e2L/Pw8NCIESOUmZmptWvXOrTv1auXSpUqZX9/9913S5K9dh8fH3l6emrNmjU5LvcDtxrBD8AtdeTIEYWGhuYIEFcuux05csRheWRkZI59VKtWTWfPntWvv/7q1LE9PT312GOPKS0tTVu3bs3zdkFBQYqJidEHH3ygTz/9VFlZWbrvvvtybbt//36lp6erbNmyCgoKcnhlZmbq5MmTkv7vPP98fkFBQQ4hIjcHDx6UpBte6k5NTdXIkSNVrlw5+fj4KCgoSJUqVZIkpaen3/jEr+Ln5ydJOnPmTJ7aO/s553b5uFSpUvag9Ouvv+rcuXO5/nuoXr16nmrKqyNHjigyMtLhqWAp77Vf+fyu1O7l5aV///vfSkhIULly5dSsWTNNnTpVx48fd2ndQF5wjx8ASwkLC5N0ORQ54/7779eQIUN0/PhxtWvXLsdI2xXZ2dkqW7as5s+fn+v6oKAgp477V/Ts2VPffvutxowZo3r16snX11fZ2dmKjY1Vdna2U/uqWrWq3N3d9f333+dLrW5ubrkuN396EKQwykvto0aNUqdOnbR48WKtWLFCEyZM0OTJk/XVV185Nb0Q8Fcx4gfglgoPD9exY8dyjBz98MMP9vVX279/f459/PjjjypevPhNhagrl9+c3bZr164qVqyYNm7ceN2HQ6pUqaJTp06padOmiomJyfGqW7eupP87zz+f36+//nrDy4FXLoleb+qU06dPKzExUePGjVNcXJy6du2q1q1bq3Llynk63z8rXry47rnnHn399dc6evToDds7+znfSFBQkHx8fHL997Bv374bbu/Mgyzh4eHav39/jnB8s7VfUaVKFY0ePVpffvmldu/erQsXLuiVV165qX0BN4vgB+CWat++vbKysjRjxgyH5a+99ppsNpv9ydkrNmzY4HA/2tGjR7VkyRK1adPmmiMtknK9DHzmzBlNmzZNgYGBDvcN5oWvr69mzZqlSZMmqVOnTtds17NnT2VlZemFF17Ise7SpUtKS0uTdPmeNg8PD73++usOI0PTpk27YS0NGjRQpUqVNG3aNPv+rriyryt98+cRs7zs/1omTpwoY4weeOABZWZm5li/detW+5Qnzn7ON+Lm5qa2bdtq8eLFSk5Oti9PSkrSihUrbrh9iRIlJClHf+Wmffv2On78uD788EP7skuXLun111+Xr6+vmjdv7lTtZ8+ezTGdUJUqVVSyZEmdP3/eqX0BfxWXegHcUp06dVLLli31zDPP6PDhw6pbt66+/PJLLVmyRKNGjXK4wV+6fB9b27ZtHaZzkS7PKXc9M2fO1OLFi9WpUydVrFhRKSkpeuedd5ScnKz33nvvpibt7d+//w3bNG/eXA8//LAmT56sHTt2qE2bNvLw8ND+/fu1aNEi/ec//9F9992noKAgPfnkk5o8ebI6duyo9u3ba/v27UpISFBgYOB1j1GsWDHNmjVLnTp1Ur169TRw4ECFhITohx9+0J49e7RixQr5+fnZ7yW7ePGiypcvry+//FKHDh1y+ryvaNKkiWbOnKmhQ4eqRo0aDt/csWbNGn3++ed68cUXJTn/OedFXFycli9frrvvvltDhw61h7FatWpp165d1922Xr16cnNz07///W+lp6fLy8tL99xzj8qWLZuj7UMPPaTZs2drwIAB2rp1qyIiIvTxxx9r/fr1mjZtWp4fcLnixx9/VKtWrdSzZ0/dcccdcnd312effaYTJ07oH//4h1P7Av6ygnugGIAV/Hk6F2OMOXPmjHn88cdNaGio8fDwMJGRkeall15ymIrEmMvTfAwbNsy8//77JjIy0nh5eZn69evnOiXHn3355ZemdevWJjg42Hh4eJiAgADTpk0bk5iYmKe6r57O5Xr+PJ3LFW+99ZZp2LCh8fHxMSVLljR16tQxY8eONceOHbO3ycrKMnFxcSYkJMT4+PiYFi1amN27d+eYiuTP07lcsW7dOtO6dWtTsmRJU6JECRMVFeUw/cnPP/9sunbtagICAoy/v7/p0aOHOXbsmJFkJk6cmONcrzedy9W2bt1q7r//fvvnV6pUKdOqVSszb948k5WVZW/n7OecW99e3Q/GGLN27VrTsGFD4+npaSpXrmzefPNNM3HixBtO52KMMf/9739N5cqV7dO/XOnPP0/nYowxJ06cMAMHDjSBgYHG09PT1KlTx8ydO9ehzZXpXHKbpuXqPv7tt9/MsGHDTI0aNUyJEiWMv7+/ueuuu8xHH32UYzsgv9mMKQJ3zgKwJJvNpmHDhuW4XAgAuDnc4wcAAGARBD8AAACLIPgBAABYBE/1Aii0uAUZAFyLET8AAACLIPgBAABYBJd6YZedna1jx46pZMmSTn29EQAAKDjGGJ05c0ahoaEqVuz6Y3oEP9gdO3bM/gX2AACgaDl69KgqVKhw3TYEP9hd+Rqio0ePys/Pr4CrAQAAeZGRkaGwsLA8fZ0gwQ92Vy7v+vn5EfwAAChi8nKbFg93AAAAWATBDwAAwCIIfgAAABZB8AMAALAIgh8AAIBF8FQvcujRKU4e7l4FXQYAALeNpYn/KugSJDHiBwAAYBkEPwAAAIsg+AEAAFgEwQ8AAMAiCH4AAAAWQfADAACwCIIfAACARRD8AAAALILgBwAAYBEEPwAAAIsg+AEAAFgEwQ8AAMAiCH4AAAAWQfADAACwCIIfAACARRD8AAAALILgBwAAYBEEPwAAAIsg+AEAAFgEwQ8AAMAiCH4AAAAWQfADAACwCIIfAACARRD88pnNZtPixYud3m7SpEmqV6/eddscPnxYNptNO3bsuKnaAACAtRD8rmHDhg1yc3NThw4d8tQ+L0HNGU8++aQSExPt7wcMGKAuXbo4tAkLC1NKSopq167tsuMCAIDbF8HvGubMmaPhw4fr66+/1rFjx67ZzhijS5cuuey4V/bn6+urMmXKXLetm5ubgoOD5e7u7rLjAwCA2xfBLxeZmZn68MMP9eijj6pDhw6Kj4+3r1uzZo1sNpsSEhLUsGFDeXl56f3331dcXJx27twpm80mm83msM1vv/2mrl27qnjx4oqMjNTnn39+3f2tW7fOYQRx0qRJmjdvnpYsWWLf/5o1a3Jc6j19+rT69OmjoKAg+fj4KDIyUnPnzr0FPQYAAIoCgl8uPvroI9WoUUPVq1dX37599c4778gY49Bm3LhxmjJlipKSktS6dWuNHj1atWrVUkpKilJSUtSrVy9727i4OPXs2VO7du1S+/bt1adPH6Wmpl5zf1FRUQ7rnnzySfXs2VOxsbH2/Tdp0iRH3RMmTNDevXuVkJCgpKQkzZo1S4GBgdc8z/PnzysjI8PhBQAAbl9cI8zFnDlz1LdvX0lSbGys0tPTtXbtWrVo0cLe5vnnn1fr1q3t7319feXu7q7g4OAc+xswYIB69+4tSfrXv/6l6dOna/PmzYqNjb3m/q7m6+srHx8fnT9/Ptf9X5GcnKz69eurUaNGkqSIiIjrnufkyZMVFxd33TYAAOD2wYjfn+zbt0+bN2+2BzV3d3f16tVLc+bMcWh3JVzlxdUjeCVKlJCfn59Onjx50/u7lkcffVQLFy5UvXr1NHbsWH377bfXbT9+/Hilp6fbX0ePHv3LNQAAgMKLEb8/mTNnji5duqTQ0FD7MmOMvLy8NGPGDPuyEiVK5HmfHh4eDu9tNpuys7Mdljmzv2tp166djhw5omXLlmnlypVq1aqVhg0bppdffjnX9l5eXvLy8vrLxwUAAEUDI35XuXTpkt5991298sor2rFjh/21c+dOhYaGasGCBdfc1tPTU1lZWflWW173HxQUpP79++v999/XtGnT9NZbb+VbTQAAoGhhxO8qS5cu1enTpzV48GD5+/s7rOvevbvmzJmjl156KddtIyIidOjQIe3YsUMVKlRQyZIlXTqaFhERoRUrVmjfvn0qU6ZMjvok6bnnnlPDhg1Vq1YtnT9/XkuXLlXNmjVdVgMAACjaGPG7ypw5cxQTE5NrqOrevbu2bNmiXbt25bpt9+7dFRsbq5YtWyooKOi6o4M3Y8iQIapevboaNWqkoKAgrV+/PkcbT09PjR8/XlFRUWrWrJnc3Ny0cOFCl9YBAACKLpv58zwlsKyMjAz5+/urTbMn5OHOvX8AALjK0sR/5du+r/z9Tk9Pl5+f33XbMuIHAABgEQQ/AAAAiyD4AQAAWATBDwAAwCIIfgAAABZB8AMAALAIgh8AAIBFEPwAAAAsguAHAABgEQQ/AAAAiyD4AQAAWATBDwAAwCIIfgAAABZB8AMAALAIgh8AAIBFEPwAAAAsguAHAABgEQQ/AAAAiyD4AQAAWATBDwAAwCIIfgAAABZB8AMAALAIgh8AAIBFuBd0ASh8Fv1vovz8/Aq6DAAA4GKM+AEAAFgEwQ8AAMAiCH4AAAAWQfADAACwCIIfAACARRD8AAAALILgBwAAYBEEPwAAAIsg+AEAAFgEwQ8AAMAiCH4AAAAWQfADAACwCIIfAACARbgXdAEofNqO/LfcPb0LugwAAIqcb2ZPKOgSrosRPwAAAIsg+AEAAFgEwQ8AAMAiCH4AAAAWQfADAACwCIIfAACARRD8AAAALILgBwAAYBEEPwAAAIsg+AEAAFgEwQ8AAMAiCH4AAAAWQfADAACwCIIfAACARRD8AAAALILgBwAAYBEEPwAAAIsg+AEAAFgEwQ8AAMAiCH4AAAAWQfADAACwCIIfAACARRD8AAAALILgBwAAYBEEvxuw2WxavHhxnttPmjRJ9erVy7d6AAAAbpZlg9+AAQNks9lks9nk4eGhcuXKqXXr1nrnnXeUnZ1tb5eSkqJ27drd0toOHz4sm82mHTt23NLjAgCA25tlg58kxcbGKiUlRYcPH1ZCQoJatmypkSNHqmPHjrp06ZIkKTg4WF5eXgVcKQAAwF9n6eDn5eWl4OBglS9fXg0aNNDTTz+tJUuWKCEhQfHx8ZJyXup96qmnVK1aNRUvXlyVK1fWhAkTdPHixRz7nj17tsLCwlS8eHH17NlT6enpDuvffvtt1axZU97e3qpRo4beeOMN+7pKlSpJkurXry+bzaYWLVrkabsLFy7oscceU0hIiLy9vRUeHq7Jkye7oKcAAMDtwL2gCyhs7rnnHtWtW1effvqpHnzwwRzrS5Ysqfj4eIWGhur777/XkCFDVLJkSY0dO9be5sCBA/roo4/0v//9TxkZGRo8eLCGDh2q+fPnS5Lmz5+v5557TjNmzFD9+vW1fft2DRkyRCVKlFD//v21efNm3XnnnVq1apVq1aolT0/PPG03ffp0ff755/roo49UsWJFHT16VEePHr3muZ4/f17nz5+3v8/IyHBVNwIAgEKI4JeLGjVqaNeuXbmue/bZZ+0/R0RE6Mknn9TChQsdgt8ff/yhd999V+XLl5ckvf766+rQoYNeeeUVBQcHa+LEiXrllVfUrVs3SZdH+Pbu3avZs2erf//+CgoKkiSVKVNGwcHB9v3eaLvk5GRFRkbq73//u2w2m8LDw697npMnT1ZcXNxN9BAAACiKCH65MMbIZrPluu7DDz/U9OnTdfDgQWVmZurSpUvy8/NzaFOxYkV76JOk6OhoZWdna9++fSpZsqQOHjyowYMHa8iQIfY2ly5dkr+//zVr+v3332+43YABA9S6dWtVr15dsbGx6tixo9q0aXPNfY4fP15PPPGE/X1GRobCwsKu2R4AABRtBL9cJCUl2e+zu9qGDRvUp08fxcXFqW3btvL399fChQv1yiuv5HnfmZmZkqT//ve/uuuuuxzWubm5/aXtGjRooEOHDikhIUGrVq1Sz549FRMTo48//jjXfXp5efHgCgAAFkLw+5OvvvpK33//vR5//PEc67799luFh4frmWeesS87cuRIjnbJyck6duyYQkNDJUkbN25UsWLFVL16dZUrV06hoaH66aef1KdPn1xruHJPX1ZWln1ZXraTJD8/P/Xq1Uu9evXSfffdp9jYWKWmpqp06dJ56wAAAHDbsnTwO3/+vI4fP66srCydOHFCy5cv1+TJk9WxY0f169cvR/vIyEglJydr4cKFaty4sb744gt99tlnOdp5e3urf//+evnll5WRkaERI0aoZ8+e9vv14uLiNGLECPn7+ys2Nlbnz5/Xli1bdPr0aT3xxBMqW7asfHx8tHz5clWoUEHe3t7y9/e/4XavvvqqQkJCVL9+fRUrVkyLFi1ScHCwAgIC8rsrAQBAEWDp6VyWL1+ukJAQRUREKDY2VqtXr9b06dO1ZMmSXC+7du7cWY8//rgee+wx1atXT99++60mTJiQo13VqlXVrVs3tW/fXm3atFFUVJTDtCsPPvig3n77bc2dO1d16tRR8+bNFR8fb7+87O7urunTp2v27NkKDQ3Vvffem6ftSpYsqalTp6pRo0Zq3LixDh8+rGXLlqlYMUt/zAAA4P+zGWNMQReBwiEjI0P+/v7624Cn5e7pXdDlAABQ5HwzO+eAUH678vc7PT09xwOnf8ZQEAAAgEUQ/AAAACyC4AcAAGARBD8AAACLIPgBAABYBMEPAADAIgh+AAAAFuF08Dtx4oQeeOABhYaGyt3dXW5ubg4vAAAAFE5Of2XbgAEDlJycrAkTJigkJEQ2my0/6gIAAICLOR381q1bp2+++Ub16tXLh3IAAACQX5y+1BsWFia+5Q0AAKDocTr4TZs2TePGjdPhw4fzoRwAAADkF6cv9fbq1Utnz55VlSpVVLx4cXl4eDisT01NdVlxAAAAcB2ng9+0adPyoQwAAADkN6eDX//+/fOjDgAAAOQzp4OfJGVlZWnx4sVKSkqSJNWqVUudO3dmHj8AAIBCzOngd+DAAbVv316//PKLqlevLkmaPHmywsLC9MUXX6hKlSouLxIAAAB/ndNP9Y4YMUJVqlTR0aNHtW3bNm3btk3JycmqVKmSRowYkR81AgAAwAWcHvFbu3atNm7cqNKlS9uXlSlTRlOmTFHTpk1dWhwAAABcx+kRPy8vL505cybH8szMTHl6erqkKAAAALie08GvY8eOeuihh7Rp0yYZY2SM0caNG/XII4+oc+fO+VEjAAAAXMDp4Dd9+nRVqVJF0dHR8vb2lre3t5o2baqqVavqP//5T37UCAAAABdw+h6/gIAALVmyRPv379cPP/wgSapZs6aqVq3q8uIAAADgOjZjjCnoIlA4ZGRkyN/fX+np6fLz8yvocgAAQB448/c7TyN+TzzxhF544QWVKFFCTzzxxHXbvvrqq3mvFAAAALdMnoLf9u3bdfHiRfvPAAAAKHq41As7LvUCAFD0OPP32+mnegcNGpTrPH6///67Bg0a5OzuAAAAcIs4HfzmzZunc+fO5Vh+7tw5vfvuuy4pCgAAAK6X5+lcMjIy7BM2nzlzRt7e3vZ1WVlZWrZsmcqWLZsvRQIAAOCvy3PwCwgIkM1mk81mU7Vq1XKst9lsiouLc2lxAAAAcJ08B7/Vq1fLGKN77rlHn3zyiUqXLm1f5+npqfDwcIWGhuZLkQAAAPjr8hz8mjdvLkk6dOiQKlasKJvNlm9FAQAAwPXyFPx27dql2rVrq1ixYkpPT9f3339/zbZRUVEuKw4AAACuk6fgV69ePR0/flxly5ZVvXr1ZLPZlNv0fzabTVlZWS4vEgAAAH9dnoLfoUOHFBQUZP8ZAAAARU+egl94eHiuPwMAAKDoyFPw+/zzz/O8w86dO990MSgcmk6dLDdvr4IuAwCAImHHs5MKuoQ8y1Pw69Kli8P7P9/jd/UTvtzjBwAAUDjl6SvbsrOz7a8vv/xS9erVU0JCgtLS0pSWlqZly5apQYMGWr58eX7XCwAAgJuU53n8rhg1apTefPNN/f3vf7cva9u2rYoXL66HHnpISUlJLi0QAAAArpGnEb+rHTx4UAEBATmW+/v76/Dhwy4oCQAAAPnB6eDXuHFjPfHEEzpx4oR92YkTJzRmzBjdeeedLi0OAAAAruN08HvnnXeUkpKiihUrqmrVqqpataoqVqyoX375RXPmzMmPGgEAAOACTt/jV7VqVe3atUsrV67UDz/8IEmqWbOmYmJi+P5eAACAQszp4Cddnr6lTZs2atOmjavrAQAAQD65qeCXmJioxMREnTx5UtnZ2Q7r3nnnHZcUBgAAANdyOvjFxcXp+eefV6NGjRQSEsLlXQAAgCLC6eD35ptvKj4+Xg888EB+1AMAAIB84vRTvRcuXFCTJk3yoxYAAADkI6eD34MPPqgPPvggP2oBAABAPnL6Uu8ff/yht956S6tWrVJUVJQ8PDwc1r/66qsuKw4AAACu43Tw27Vrl+rVqydJ2r17t8M6HvQAAAAovJwOfqtXr86POgAAAJDPnL7H72o///yzfv75Z1fVAgAAgHzkdPDLzs7W888/L39/f4WHhys8PFwBAQF64YUXckzmDAAAgMLD6Uu9zzzzjObMmaMpU6aoadOmkqR169Zp0qRJ+uOPP/TPf/7T5UUCAADgr3M6+M2bN09vv/22OnfubF8WFRWl8uXLa+jQoQQ/AACAQsrpS72pqamqUaNGjuU1atRQamqqS4oCAACA6zkd/OrWrasZM2bkWD5jxgzVrVvXJUUBAADA9Zy+1Dt16lR16NBBq1atUnR0tCRpw4YNOnr0qJYtW+byAgEAAOAaTo/4NW/eXD/++KO6du2qtLQ0paWlqVu3btq3b5/uvvvu/KgRAAAALuD0iJ8khYaG8hDHVSIiIjRq1CiNGjUqX/YfHx+vUaNGKS0tLV/2DwAArCHPI3779+9X7969lZGRkWNdenq67r//fv30008uLa4wOHr0qAYNGqTQ0FB5enoqPDxcI0eO1KlTp25ZDb169dKPP/5ofz9p0iT71+YBAADkVZ6D30svvaSwsDD5+fnlWOfv76+wsDC99NJLLi2uoP30009q1KiR9u/frwULFujAgQN68803lZiYqOjo6Fv2FLOPj4/Kli17S44FAABuX3kOfmvXrlWPHj2uub5nz5766quvXFJUYTFs2DB5enrqyy+/VPPmzVWxYkW1a9dOq1at0i+//KJnnnnG3vbMmTPq3bu3SpQoofLly2vmzJkO+0pLS9ODDz6ooKAg+fn56Z577tHOnTvt63fu3KmWLVuqZMmS8vPzU8OGDbVlyxZJly/1BgQE2H+Oi4vTzp07ZbPZZLPZFB8fr0GDBqljx44Ox7x48aLKli2rOXPm5FMPAQCAoiTPwS85Ofm6o06BgYE6evSoS4oqDFJTU7VixQoNHTpUPj4+DuuCg4PVp08fffjhhzLGSLo8Ilq3bl1t375d48aN08iRI7Vy5Ur7Nj169NDJkyeVkJCgrVu3qkGDBmrVqpV91LBPnz6qUKGCvvvuO23dulXjxo2Th4dHjrp69eql0aNHq1atWkpJSVFKSop69eqlBx98UMuXL1dKSoq97dKlS3X27Fn16tUr13M8f/68MjIyHF4AAOD2lefg5+/vr4MHD15z/YEDB3K9DFxU7d+/X8YY1axZM9f1NWvW1OnTp/Xrr79Kkpo2bapx48apWrVqGj58uO677z699tprki5/pd3mzZu1aNEiNWrUSJGRkXr55ZcVEBCgjz/+WNLlYB0TE6MaNWooMjJSPXr0yHVeRB8fH/n6+srd3V3BwcEKDg6Wj4+PmjRpourVq+u9996zt507d6569OghX1/fXM9h8uTJ8vf3t7/CwsL+Up8BAIDCLc/Br1mzZnr99devuX769Om35XQuV0b0buTKnIZXv09KSpJ0+TJuZmamypQpI19fX/vr0KFD9jD9xBNP6MEHH1RMTIymTJly3ZB9LQ8++KDmzp0rSTpx4oQSEhI0aNCga7YfP3680tPT7a/bacQWAADklOfgN378eCUkJOi+++7T5s2b7WFh06ZN6t69u1asWKHx48fnZ623VNWqVWWz2ezh7c+SkpJUqlQpBQUF3XBfmZmZCgkJ0Y4dOxxe+/bt05gxYyRdflJ3z5496tChg7766ivdcccd+uyzz5yquV+/fvrpp5+0YcMGvf/++6pUqdJ1w7iXl5f8/PwcXgAA4PaV53n86tevr48//liDBg3KEUjKlCmjjz76SA0aNHB5gQWlTJkyat26td544w09/vjjDvf5HT9+XPPnz1e/fv1ks9kkSRs3bnTYfuPGjfbLxA0aNNDx48fl7u6uiIiIax6zWrVqqlatmh5//HH17t1bc+fOVdeuXXO08/T0VFZWVq41d+nSRXPnztWGDRs0cODAmzl1AABwm3JqAueOHTvqyJEjWr58uQ4cOCBjjKpVq6Y2bdqoePHi+VVjgZkxY4aaNGmitm3b6sUXX1SlSpW0Z88ejRkzRuXLl3eYxHr9+vWaOnWqunTpopUrV2rRokX64osvJEkxMTGKjo5Wly5dNHXqVFWrVk3Hjh3TF198oa5du6pWrVoaM2aM7rvvPlWqVEk///yzvvvuO3Xv3j3XuiIiInTo0CHt2LFDFSpUUMmSJeXl5SXp8uXejh07KisrS/3798//TgIAAEWG09/c4ePjk+so1O0oMjJSW7Zs0cSJE9WzZ0+lpqYqODhYXbp00cSJE1W6dGl729GjR2vLli2Ki4uTn5+fXn31VbVt21aSZLPZtGzZMj3zzDMaOHCgfv31VwUHB6tZs2YqV66c3NzcdOrUKfXr108nTpxQYGCgunXrpri4uFzr6t69uz799FO1bNlSaWlpmjt3rgYMGCDpcsgMCQlRrVq1FBoamu99BAAAig6byevTCygSMjMzVb58ec2dO1fdunVzatuMjAz5+/ur9jPj5ObtlU8VAgBwe9nx7KQCPf6Vv9/p6ek3vF//pr6rF4VPdna2fvvtN73yyisKCAhQ586dC7okAABQyBD8bhPJycmqVKmSKlSooPj4eLm789ECAABHpIPbRERERJ7nHAQAANaUp+DnzFd5MRccAABA4ZSn4BcQEGCfr+5ajDGy2Wy5zi8HAACAgpen4Ld69er8rgMAAAD5LE/Br3nz5vldBwAAAPLZTT/ccfbsWSUnJ+vChQsOy6Oiov5yUQAAAHA9p4Pfr7/+qoEDByohISHX9dzjBwAAUDgVc3aDUaNGKS0tTZs2bZKPj4+WL1+uefPmKTIyUp9//nl+1AgAAAAXcHrE76uvvtKSJUvUqFEjFStWTOHh4WrdurX8/Pw0efJkdejQIT/qBAAAwF/k9Ijf77//rrJly0qSSpUqpV9//VWSVKdOHW3bts211QEAAMBlnA5+1atX1759+yRJdevW1ezZs/XLL7/ozTffVEhIiMsLBAAAgGs4fal35MiRSklJkSRNnDhRsbGxmj9/vjw9PRUfH+/q+gAAAOAiTge/vn372n9u2LChjhw5oh9++EEVK1ZUYGCgS4sDAACA69z0PH5XFC9eXA0aNHBFLQAAAMhHTt/j1717d/373//OsXzq1Knq0aOHS4oCAACA6zkd/L7++mu1b98+x/J27drp66+/dklRAAAAcD2ng19mZqY8PT1zLPfw8FBGRoZLigIAAIDrOR386tSpow8//DDH8oULF+qOO+5wSVEAAABwPacf7pgwYYK6deumgwcP6p577pEkJSYmasGCBVq0aJHLCwQAAIBrOB38OnXqpMWLF+tf//qXPv74Y/n4+CgqKkqrVq1S8+bN86NGAAAAuIDNGGMKuggUDhkZGfL391d6err8/PwKuhwAAJAHzvz9dvoePwAAABRNebrUW7p0af34448KDAxUqVKlZLPZrtk2NTXVZcUBAADAdfIU/F577TWVLFlSkjRt2rT8rAcAAAD5hHv8YMc9fgAAFD3O/P3O04ifMxMzExgAAAAKpzwFv4CAgOve13e1rKysv1QQAAAA8keegt/q1avtPx8+fFjjxo3TgAEDFB0dLUnasGGD5s2bp8mTJ+dPlQAAAPjLnL7Hr1WrVnrwwQfVu3dvh+UffPCB3nrrLa1Zs8aV9eEW4h4/AACKnnydx2/Dhg1q1KhRjuWNGjXS5s2bnd0dAAAAbhGng19YWJj++9//5lj+9ttvKywszCVFAQAAwPWc/q7e1157Td27d1dCQoLuuusuSdLmzZu1f/9+ffLJJy4vEAAAAK7h9Ihf+/bt9eOPP6pTp05KTU1VamqqOnXqpB9//FHt27fPjxoBAADgAkzgDDse7gAAoOjJ14c7JOmbb75R37591aRJE/3yyy+SpPfee0/r1q27md0BAADgFnD6Hr9PPvlEDzzwgPr06aNt27bp/PnzkqT09HT961//0rJly1xeJG6tLh9Pkntxr4IuAwCAQu3LfxS9+YudHvF78cUX9eabb+q///2vPDw87MubNm2qbdu2ubQ4AAAAuI7TwW/fvn1q1qxZjuX+/v5KS0tzRU0AAADIB04Hv+DgYB04cCDH8nXr1qly5couKQoAAACu53TwGzJkiEaOHKlNmzbJZrPp2LFjmj9/vp588kk9+uij+VEjAAAAXMDphzvGjRun7OxstWrVSmfPnlWzZs3k5eWlJ598UsOHD8+PGgEAAOACTgc/m82mZ555RmPGjNGBAweUmZmpO+64Q76+vvlRHwAAAFzE6eB3haenp+644w5X1gIAAIB8lOfgN2jQoDy1e+edd266GAAAAOSfPAe/+Ph4hYeHq379+uJb3gAAAIqePAe/Rx99VAsWLNChQ4c0cOBA9e3bV6VLl87P2gAAAOBCeZ7OZebMmUpJSdHYsWP1v//9T2FhYerZs6dWrFjBCCAAAEAR4NQ8fl5eXurdu7dWrlypvXv3qlatWho6dKgiIiKUmZmZXzUCAADABZyewNm+YbFistlsMsYoKyvLlTUBAAAgHzgV/M6fP68FCxaodevWqlatmr7//nvNmDFDycnJzOMHAABQyOX54Y6hQ4dq4cKFCgsL06BBg7RgwQIFBgbmZ20AAABwoTwHvzfffFMVK1ZU5cqVtXbtWq1duzbXdp9++qnLigMAAIDr5Dn49evXTzabLT9rAQAAQD5yagJnAAAAFF03/VQvAAAAihaCHwAAgEUQ/AAAACyC4AcAAGARBD8AAACLIPgBAABYBMGvEDp8+LBsNpt27NhR0KUAAIDbSIEGvwEDBqhLly45lq9Zs0Y2m01paWm3vKY/s9lsWrx48S09ZlhYmFJSUlS7du1belwAAHB7Y8TvGi5cuFBgx3Zzc1NwcLDc3fM8vzYAAMANFerg9/vvv8vPz08ff/yxw/LFixerRIkSOnPmjP2y6MKFC9WkSRN5e3urdu3aOb5LePfu3WrXrp18fX1Vrlw5PfDAA/rtt9/s61u0aKHHHntMo0aNUmBgoNq2bauIiAhJUteuXWWz2ezvJWnJkiVq0KCBvL29VblyZcXFxenSpUv29TabTW+//ba6du2q4sWLKzIyUp9//rl9/enTp9WnTx8FBQXJx8dHkZGRmjt3rqTcL/WuXbtWd955p7y8vBQSEqJx48Y5HK9FixYaMWKExo4dq9KlSys4OFiTJk262a4HAAC3oUId/EqUKKF//OMf9kB0xdy5c3XfffepZMmS9mVjxozR6NGjtX37dkVHR6tTp046deqUJCktLU333HOP6tevry1btmj58uU6ceKEevbs6bDfefPmydPTU+vXr9ebb76p7777zn68lJQU+/tvvvlG/fr108iRI7V3717Nnj1b8fHx+uc//+mwv7i4OPXs2VO7du1S+/bt1adPH6WmpkqSJkyYoL179yohIUFJSUmaNWuWAgMDc+2HX375Re3bt1fjxo21c+dOzZo1S3PmzNGLL76Yo/4SJUpo06ZNmjp1qp5//nmtXLnymv17/vx5ZWRkOLwAAMDty2aMMQV18AEDBuj999+Xt7e3w/KsrCz98ccfOn36tH788Uc1adJER48eVUhIiE6ePKny5ctr1apVat68uQ4fPqxKlSppypQpeuqppyRJly5dUqVKlTR8+HCNHTtWL774or755hutWLHCfoyff/5ZYWFh2rdvn6pVq6YWLVooIyND27Ztc6jFZrPps88+c7gXMSYmRq1atdL48ePty95//32NHTtWx44ds2/37LPP6oUXXpB0efTS19dXCQkJio2NVefOnRUYGKh33nknR79cOaft27erXr16euaZZ/TJJ58oKSlJNptNkvTGG2/oqaeeUnp6uooVK6YWLVooKytL33zzjX0/d955p+655x5NmTIl1/6fNGmS4uLicixvOedxuRf3ynUbAABw2Zf/mFzQJUiSMjIy5O/vr/T0dPn5+V23bYGP+LVs2VI7duxweL399tv29Xfeeadq1aqlefPmSbocsMLDw9WsWTOH/URHR9t/dnd3V6NGjZSUlCRJ2rlzp1avXi1fX1/7q0aNGpKkgwcP2rdr2LBhnmreuXOnnn/+eYf9DRkyRCkpKTp79qy9XVRUlP3nEiVKyM/PTydPnpQkPfroo1q4cKHq1aunsWPH6ttvv73m8ZKSkhQdHW0PfZLUtGlTZWZm6ueff871eJLsQflaxo8fr/T0dPvr6NGjeTp/AABQNBX40wMlSpRQ1apVHZZdHWYk6cEHH9TMmTM1btw4zZ07VwMHDnQIQTeSmZmpTp066d///neOdSEhIQ615HV/cXFx6tatW451V49eenh4OKyz2WzKzs6WJLVr105HjhzRsmXLtHLlSrVq1UrDhg3Tyy+/nKcacnO94+XGy8tLXl6M7AEAYBUFPuKXF3379tWRI0c0ffp07d27V/3798/RZuPGjfafL126pK1bt6pmzZqSpAYNGmjPnj2KiIhQ1apVHV43CnseHh7KyspyWNagQQPt27cvx76qVq2qYsXy3qVBQUHq37+/3n//fU2bNk1vvfVWru1q1qypDRs26Oqr8uvXr1fJkiVVoUKFPB8PAABYW5EIfqVKlVK3bt00ZswYtWnTJtewM3PmTH322Wf64YcfNGzYMJ0+fVqDBg2SJA0bNkypqanq3bu3vvvuOx08eFArVqzQwIEDc4S6P4uIiFBiYqKOHz+u06dPS5Kee+45vfvuu4qLi9OePXuUlJSkhQsX6tlnn83zOT333HNasmSJDhw4oD179mjp0qX2oPpnQ4cO1dGjRzV8+HD98MMPWrJkiSZOnKgnnnjCqaAJAACsrcikhsGDB+vChQv2MPdnU6ZM0ZQpU1S3bl2tW7dOn3/+uf0p2dDQUK1fv15ZWVlq06aN6tSpo1GjRikgIOCGwemVV17RypUrFRYWpvr160uS2rZtq6VLl+rLL79U48aN9be//U2vvfaawsPD83w+np6eGj9+vKKiotSsWTO5ublp4cKFubYtX768li1bps2bN6tu3bp65JFHNHjwYKeCJgAAQIE+1euM9957T48//riOHTsmT09P+/I/PwGLm3flqSCe6gUA4MaK4lO9Bf5wx42cPXtWKSkpmjJlih5++GGH0AcAAIC8K/SXeqdOnaoaNWooODjYYd48AAAAOKfIXOpF/uNSLwAAeVcUL/UW+hE/AAAAuAbBDwAAwCIIfgAAABZB8AMAALAIgh8AAIBFEPwAAAAsguAHAABgEQQ/AAAAiyD4AQAAWATBDwAAwCIIfgAAABZB8AMAALAIgh8AAIBFEPwAAAAsguAHAABgEQQ/AAAAiyD4AQAAWATBDwAAwCIIfgAAABbhXtAFoPBZfN8k+fn5FXQZAADAxRjxAwAAsAiCHwAAgEUQ/AAAACyC4AcAAGARBD8AAACLIPgBAABYBMEPAADAIgh+AAAAFkHwAwAAsAiCHwAAgEUQ/AAAACyC4AcAAGARBD8AAACLIPgBAABYhHtBF4DC542NA+RdwqOgywAASxrV9MOCLgG3MUb8AAAALILgBwAAYBEEPwAAAIsg+AEAAFgEwQ8AAMAiCH4AAAAWQfADAACwCIIfAACARRD8AAAALILgBwAAYBEEPwAAAIsg+AEAAFgEwQ8AAMAiCH4AAAAWQfADAACwCIIfAACARRD8AAAALILgBwAAYBEEPwAAAIsg+AEAAFgEwQ8AAMAiCH4AAAAWQfADAACwCILfLTRgwAB16dKloMsAAAAWRfC7gQ0bNsjNzU0dOnTI8zaHDx+WzWbTjh078q8wAAAAJxH8bmDOnDkaPny4vv76ax07dqygywEAALhpBL/ryMzM1IcffqhHH31UHTp0UHx8vH3d6dOn1adPHwUFBcnHx0eRkZGaO3euJKlSpUqSpPr168tms6lFixYO+3355ZcVEhKiMmXKaNiwYbp48aJ9XUREhF588UX169dPvr6+Cg8P1+eff65ff/1V9957r3x9fRUVFaUtW7bYtzl16pR69+6t8uXLq3jx4qpTp44WLFiQfx0DAACKJILfdXz00UeqUaOGqlevrr59++qdd96RMUaSNGHCBO3du1cJCQlKSkrSrFmzFBgYKEnavHmzJGnVqlVKSUnRp59+at/n6tWrdfDgQa1evVrz5s1TfHy8Q6CUpNdee01NmzbV9u3b1aFDBz3wwAPq16+f+vbtq23btqlKlSrq16+fvZY//vhDDRs21BdffKHdu3froYce0gMPPGCvAwAAQJLcC7qAwmzOnDnq27evJCk2Nlbp6elau3atWrRooeTkZNWvX1+NGjWSdHmk7oqgoCBJUpkyZRQcHOywz1KlSmnGjBlyc3NTjRo11KFDByUmJmrIkCH2Nu3bt9fDDz8sSXruuec0a9YsNW7cWD169JAkPfXUU4qOjtaJEycUHBys8uXL68knn7RvP3z4cK1YsUIfffSR7rzzzmue3/nz53X+/Hn7+4yMjJvpJgAAUEQw4ncN+/bt0+bNm9W7d29Jkru7u3r16qU5c+ZIkh599FEtXLhQ9erV09ixY/Xtt9/mab+1atWSm5ub/X1ISIhOnjzp0CYqKsr+c7ly5SRJderUybHsynZZWVl64YUXVKdOHZUuXVq+vr5asWKFkpOTr1vL5MmT5e/vb3+FhYXl6RwAAEDRRPC7hjlz5ujSpUsKDQ2Vu7u73N3dNWvWLH3yySdKT09Xu3btdOTIET3++OM6duyYWrVq5TDqdi0eHh4O7202m7Kzs6/ZxmazXXPZle1eeukl/ec//9FTTz2l1atXa8eOHWrbtq0uXLhw3VrGjx+v9PR0++vo0aM3rB8AABRdBL9cXLp0Se+++65eeeUV7dixw/7auXOnQkND7Q9OBAUFqX///nr//fc1bdo0vfXWW5IkT09PSZdH4m6F9evX695771Xfvn1Vt25dVa5cWT/++OMNt/Py8pKfn5/DCwAA3L64xy8XS5cu1enTpzV48GD5+/s7rOvevbvmzJmjY8eOqWHDhqpVq5bOnz+vpUuXqmbNmpKksmXLysfHR8uXL1eFChXk7e2dYz+uFBkZqY8//ljffvutSpUqpVdffVUnTpzQHXfckW/HBAAARQ8jfrmYM2eOYmJicg1r3bt315YtW+Tu7q7x48crKipKzZo1k5ubmxYuXCjp8v2A06dP1+zZsxUaGqp77703X+t99tln1aBBA7Vt21YtWrRQcHAw3xACAABysJkrc4LA8jIyMuTv76/JK7rKu4THjTcAALjcqKYfFnQJKGKu/P1OT0+/4W1bjPgBAABYBMEPAADAIgh+AAAAFkHwAwAAsAiCHwAAgEUQ/AAAACyC4AcAAGARBD8AAACLIPgBAABYBMEPAADAIgh+AAAAFkHwAwAAsAiCHwAAgEUQ/AAAACyC4AcAAGARBD8AAACLIPgBAABYBMEPAADAIgh+AAAAFkHwAwAAsAiCHwAAgEUQ/AAAACyC4AcAAGAR7gVdAAqfoX+Ll5+fX0GXAQAAXIwRPwAAAIsg+AEAAFgEwQ8AAMAiCH4AAAAWQfADAACwCIIfAACARTCdC+yMMZKkjIyMAq4EAADk1ZW/21f+jl8PwQ92p06dkiSFhYUVcCUAAMBZZ86ckb+//3XbEPxgV7p0aUlScnLyDf/hwDUyMjIUFhamo0ePMmn2LUS/33r0+a1Hn996BdXnxhidOXNGoaGhN2xL8INdsWKXb/n09/fnl8Qt5ufnR58XAPr91qPPbz36/NYriD7P64AND3cAAABYBMEPAADAIgh+sPPy8tLEiRPl5eVV0KVYBn1eMOj3W48+v/Xo81uvKPS5zeTl2V8AAAAUeYz4AQAAWATBDwAAwCIIfgAAABZB8AMAALAIgh/sZs6cqYiICHl7e+uuu+7S5s2bC7qkImnSpEmy2WwOrxo1atjX//HHHxo2bJjKlCkjX19fde/eXSdOnHDYR3Jysjp06KDixYurbNmyGjNmjC5dunSrT6VQ+/rrr9WpUyeFhobKZrNp8eLFDuuNMXruuecUEhIiHx8fxcTEaP/+/Q5tUlNT1adPH/n5+SkgIECDBw9WZmamQ5tdu3bp7rvvlre3t8LCwjR16tT8PrVC60Z9PmDAgBz/9mNjYx3a0OfOmTx5sho3bqySJUuqbNmy6tKli/bt2+fQxlW/U9asWaMGDRrIy8tLVatWVXx8fH6fXqGUlz5v0aJFjn/rjzzyiEObQtvnBjDGLFy40Hh6epp33nnH7NmzxwwZMsQEBASYEydOFHRpRc7EiRNNrVq1TEpKiv3166+/2tc/8sgjJiwszCQmJpotW7aYv/3tb6ZJkyb29ZcuXTK1a9c2MTExZvv27WbZsmUmMDDQjB8/viBOp9BatmyZeeaZZ8ynn35qJJnPPvvMYf2UKVOMv7+/Wbx4sdm5c6fp3LmzqVSpkjl37py9TWxsrKlbt67ZuHGj+eabb0zVqlVN79697evT09NNuXLlTJ8+fczu3bvNggULjI+Pj5k9e/atOs1C5UZ93r9/fxMbG+vwbz81NdWhDX3unLZt25q5c+ea3bt3mx07dpj27dubihUrmszMTHsbV/xO+emnn0zx4sXNE088Yfbu3Wtef/114+bmZpYvX35Lz7cwyEufN2/e3AwZMsTh33p6erp9fWHuc4IfjDHG3HnnnWbYsGH291lZWSY0NNRMnjy5AKsqmiZOnGjq1q2b67q0tDTj4eFhFi1aZF+WlJRkJJkNGzYYYy7/cS1WrJg5fvy4vc2sWbOMn5+fOX/+fL7WXlT9OYRkZ2eb4OBg89JLL9mXpaWlGS8vL7NgwQJjjDF79+41ksx3331nb5OQkGBsNpv55ZdfjDHGvPHGG6ZUqVIO/f7UU0+Z6tWr5/MZFX7XCn733nvvNbehz/+6kydPGklm7dq1xhjX/U4ZO3asqVWrlsOxevXqZdq2bZvfp1To/bnPjbkc/EaOHHnNbQpzn3OpF7pw4YK2bt2qmJgY+7JixYopJiZGGzZsKMDKiq79+/crNDRUlStXVp8+fZScnCxJ2rp1qy5evOjQ1zVq1FDFihXtfb1hwwbVqVNH5cqVs7dp27atMjIytGfPnlt7IkXUoUOHdPz4cYd+9vf311133eXQzwEBAWrUqJG9TUxMjIoVK6ZNmzbZ2zRr1kyenp72Nm3bttW+fft0+vTpW3Q2RcuaNWtUtmxZVa9eXY8++qhOnTplX0ef/3Xp6emSpNKlS0ty3e+UDRs2OOzjShv+BuTs8yvmz5+vwMBA1a5dW+PHj9fZs2ft6wpzn7vn695RJPz222/Kyspy+AcqSeXKldMPP/xQQFUVXXfddZfi4+NVvXp1paSkKC4uTnfffbd2796t48ePy9PTUwEBAQ7blCtXTsePH5ckHT9+PNfP4so63NiVfsqtH6/u57Jlyzqsd3d3V+nSpR3aVKpUKcc+rqwrVapUvtRfVMXGxqpbt26qVKmSDh48qKefflrt2rXThg0b5ObmRp//RdnZ2Ro1apSaNm2q2rVrS5LLfqdcq01GRobOnTsnHx+f/DilQi+3Ppek+++/X+Hh4QoNDdWuXbv01FNPad++ffr0008lFe4+J/gBLtauXTv7z1FRUbrrrrsUHh6ujz76yLK/PGEN//jHP+w/16lTR1FRUapSpYrWrFmjVq1aFWBlt4dhw4Zp9+7dWrduXUGXYhnX6vOHHnrI/nOdOnUUEhKiVq1a6eDBg6pSpcqtLtMpXOqFAgMD5ebmluMpsBMnTig4OLiAqrp9BAQEqFq1ajpw4ICCg4N14cIFpaWlObS5uq+Dg4Nz/SyurMONXemn6/2bDg4O1smTJx3WX7p0SampqXwWLlK5cmUFBgbqwIEDkujzv+Kxxx7T0qVLtXr1alWoUMG+3FW/U67Vxs/Pz7L/Yb1Wn+fmrrvukiSHf+uFtc8JfpCnp6caNmyoxMRE+7Ls7GwlJiYqOjq6ACu7PWRmZurgwYMKCQlRw4YN5eHh4dDX+/btU3Jysr2vo6Oj9f333zv8gVy5cqX8/Px0xx133PL6i6JKlSopODjYoZ8zMjK0adMmh35OS0vT1q1b7W2++uorZWdn23+JR0dH6+uvv9bFixftbVauXKnq1atb+pJjXv388886deqUQkJCJNHnN8MYo8cee0yfffaZvvrqqxyXwV31OyU6OtphH1faWPFvwI36PDc7duyQJId/64W2z/P10REUGQsXLjReXl4mPj7e7N271zz00EMmICDA4Ykk5M3o0aPNmjVrzKFDh8z69etNTEyMCQwMNCdPnjTGXJ56oWLFiuarr74yW7ZsMdHR0SY6Otq+/ZVpANq0aWN27Nhhli9fboKCgpjO5U/OnDljtm/fbrZv324kmVdffdVs377dHDlyxBhzeTqXgIAAs2TJErNr1y5z77335jqdS/369c2mTZvMunXrTGRkpMPUImlpaaZcuXLmgQceMLt37zYLFy40xYsXt+zUItfr8zNnzpgnn3zSbNiwwRw6dMisWrXKNGjQwERGRpo//vjDvg/63DmPPvqo8ff3N2vWrHGYOuTs2bP2Nq74nXJlapExY8aYpKQkM3PmTMtO53KjPj9w4IB5/vnnzZYtW8yhQ4fMkiVLTOXKlU2zZs3s+yjMfU7wg93rr79uKlasaDw9Pc2dd95pNm7cWNAlFUm9evUyISEhxtPT05QvX9706tXLHDhwwL7+3LlzZujQoaZUqVKmePHipmvXriYlJcVhH4cPHzbt2rUzPj4+JjAw0IwePdpcvHjxVp9KobZ69WojKcerf//+xpjLU7pMmDDBlCtXznh5eZlWrVqZffv2Oezj1KlTpnfv3sbX19f4+fmZgQMHmjNnzji02blzp/n73/9uvLy8TPny5c2UKVNu1SkWOtfr87Nnz5o2bdqYoKAg4+HhYcLDw82QIUNy/OeRPndObv0tycydO9fexlW/U1avXm3q1atnPD09TeXKlR2OYSU36vPk5GTTrFkzU7p0aePl5WWqVq1qxowZ4zCPnzGFt89t//8kAQAAcJvjHj8AAACLIPgBAABYBMEPAADAIgh+AAAAFkHwAwAAsAiCHwAAgEUQ/AAAACyC4AcAAGARBD8AKOSOHz+u4cOHq3LlyvLy8lJYWJg6deqU43s+85vNZtPixYtv6TEBuJZ7QRcAALi2w4cPq2nTpgoICNBLL72kOnXq6OLFi1qxYoWGDRumH374oaBLBFCE8JVtAFCItW/fXrt27dK+fftUokQJh3VpaWkKCAhQcnKyhg8frsTERBUrVkyxsbF6/fXXVa5cOUnSgAEDlJaW5jBaN2rUKO3YsUNr1qyRJLVo0UJRUVHy9vbW22+/LU9PTz3yyCOaNGmSJCkiIkJHjhyxbx8eHq7Dhw/n56kDyAdc6gWAQio1NVXLly/XsGHDcoQ+SQoICFB2drbuvfdepaamau3atVq5cqV++ukn9erVy+njzZs3TyVKlNCmTZs0depUPf/881q5cqUk6bvvvpMkzZ07VykpKfb3AIoWLvUCQCF14MABGWNUo0aNa7ZJTEzU999/r0OHDiksLEyS9O6776pWrVr67rvv1Lhx4zwfLyoqShMnTpQkRUZGasaMGUpMTFTr1q0VFBQk6XLYDA4O/gtnBaAgMeIHAIVUXu7ESUpKUlhYmD30SdIdd9yhgIAAJSUlOXW8qKgoh/chISE6efKkU/sAULgR/ACgkIqMjJTNZvvLD3AUK1YsR4i8ePFijnYeHh4O7202m7Kzs//SsQEULgQ/ACikSpcurbZt22rmzJn6/fffc6xPS0tTzZo1dfToUR09etS+fO/evUpLS9Mdd9whSQoKClJKSorDtjt27HC6Hg8PD2VlZTm9HYDCg+AHAIXYzJkzlZWVpTvvvFOffPKJ9u/fr6SkJE2fPl3R0dGKiYlRnTp11KdPH23btk2bN29Wv3791Lx5czVq1EiSdM8992jLli169913tX//fk2cOFG7d+92upaIiAglJibq+PHjOn36tKtPFcAtQPADgEKscuXK2rZtm1q2bKnRo0erdu3aat26tRITEzVr1izZbDYtWbJEpUqVUrNmzRQTE6PKlSvrww8/tO+jbdu2mjBhgsaOHavGjRvrzJkz6tevn9O1vPLKK1q5cqXCwsJUv359V54mgFuEefwAAAAsghE/AAAAiyD4AQAAWATBDwAAwCIIfgAAABZB8AMAALAIgh8AAIBFEPwAAAAsguAHAABgEQQ/AAAAiyD4AQAAWATBDwAAwCIIfgAAABbx/wBDI2gCH5c5gwAAAABJRU5ErkJggg==\n"
          },
          "metadata": {}
        }
      ]
    },
    {
      "cell_type": "code",
      "source": [
        "all_conditions_counts = df['MedicalCondition'].value_counts()\n",
        "\n",
        "print(all_conditions_counts)\n"
      ],
      "metadata": {
        "colab": {
          "base_uri": "https://localhost:8080/"
        },
        "id": "mtdA0mEofdAV",
        "outputId": "24d68e04-2b61-484a-befd-4fcbedbb598e"
      },
      "execution_count": null,
      "outputs": [
        {
          "output_type": "stream",
          "name": "stdout",
          "text": [
            "MedicalCondition\n",
            "Arthritis       2533\n",
            "Diabetes        2498\n",
            "Obesity         2481\n",
            "Hypertension    2474\n",
            "Asthma          1897\n",
            "Cancer           801\n",
            "Name: count, dtype: int64\n"
          ]
        }
      ]
    },
    {
      "cell_type": "code",
      "source": [
        "avg_billing_per_condition = df.groupby('MedicalCondition')['billing_amount'].mean().sort_values(ascending=False)\n",
        "print(avg_billing_per_condition)\n"
      ],
      "metadata": {
        "colab": {
          "base_uri": "https://localhost:8080/"
        },
        "id": "AghZL45ef2tR",
        "outputId": "a3fe7e1c-61c5-41ce-d2cf-31a577925cda"
      },
      "execution_count": null,
      "outputs": [
        {
          "output_type": "stream",
          "name": "stdout",
          "text": [
            "MedicalCondition\n",
            "Obesity         58280.912207\n",
            "Hypertension    57865.776568\n",
            "Asthma          57718.251979\n",
            "Diabetes        57704.437838\n",
            "Cancer          56670.008327\n",
            "Arthritis       56569.583995\n",
            "Name: billing_amount, dtype: float64\n"
          ]
        }
      ]
    },
    {
      "cell_type": "code",
      "source": [
        "plt.figure(figsize=(8,5))\n",
        "sns.histplot(df['billing_amount'], kde=True)\n",
        "plt.title(\"Distribution of Billing Amount\")\n",
        "plt.show()"
      ],
      "metadata": {
        "colab": {
          "base_uri": "https://localhost:8080/",
          "height": 487
        },
        "id": "a6ndZUJ826Ls",
        "outputId": "1427c6b1-1091-4f81-c9b2-07c8cc578177"
      },
      "execution_count": null,
      "outputs": [
        {
          "output_type": "display_data",
          "data": {
            "text/plain": [
              "<Figure size 800x500 with 1 Axes>"
            ],
            "image/png": "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\n"
          },
          "metadata": {}
        }
      ]
    },
    {
      "cell_type": "code",
      "source": [
        "sns.scatterplot(x=df['Length_of_Stay'], y=df['billing_amount'])\n",
        "plt.title(\"Length of Stay vs Billing Amount\")\n",
        "plt.xlabel(\"Length of Stay (days)\")\n",
        "plt.ylabel(\"Billing Amount\")\n",
        "plt.show()"
      ],
      "metadata": {
        "colab": {
          "base_uri": "https://localhost:8080/",
          "height": 472
        },
        "id": "nn2ekBnp26OE",
        "outputId": "494a8eee-f6ab-4696-fe18-7a7229eb3cdb"
      },
      "execution_count": null,
      "outputs": [
        {
          "output_type": "display_data",
          "data": {
            "text/plain": [
              "<Figure size 640x480 with 1 Axes>"
            ],
            "image/png": "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\n"
          },
          "metadata": {}
        }
      ]
    },
    {
      "cell_type": "code",
      "source": [
        "df['MedicalCondition'].value_counts().head(10)"
      ],
      "metadata": {
        "colab": {
          "base_uri": "https://localhost:8080/",
          "height": 303
        },
        "id": "yN1-fXsh26Tq",
        "outputId": "b24b4141-3692-4f0f-9dc4-d6bb5995513e"
      },
      "execution_count": null,
      "outputs": [
        {
          "output_type": "execute_result",
          "data": {
            "text/plain": [
              "MedicalCondition\n",
              "Arthritis       2533\n",
              "Diabetes        2498\n",
              "Obesity         2481\n",
              "Hypertension    2474\n",
              "Asthma          1897\n",
              "Cancer           801\n",
              "Name: count, dtype: int64"
            ],
            "text/html": [
              "<div>\n",
              "<style scoped>\n",
              "    .dataframe tbody tr th:only-of-type {\n",
              "        vertical-align: middle;\n",
              "    }\n",
              "\n",
              "    .dataframe tbody tr th {\n",
              "        vertical-align: top;\n",
              "    }\n",
              "\n",
              "    .dataframe thead th {\n",
              "        text-align: right;\n",
              "    }\n",
              "</style>\n",
              "<table border=\"1\" class=\"dataframe\">\n",
              "  <thead>\n",
              "    <tr style=\"text-align: right;\">\n",
              "      <th></th>\n",
              "      <th>count</th>\n",
              "    </tr>\n",
              "    <tr>\n",
              "      <th>MedicalCondition</th>\n",
              "      <th></th>\n",
              "    </tr>\n",
              "  </thead>\n",
              "  <tbody>\n",
              "    <tr>\n",
              "      <th>Arthritis</th>\n",
              "      <td>2533</td>\n",
              "    </tr>\n",
              "    <tr>\n",
              "      <th>Diabetes</th>\n",
              "      <td>2498</td>\n",
              "    </tr>\n",
              "    <tr>\n",
              "      <th>Obesity</th>\n",
              "      <td>2481</td>\n",
              "    </tr>\n",
              "    <tr>\n",
              "      <th>Hypertension</th>\n",
              "      <td>2474</td>\n",
              "    </tr>\n",
              "    <tr>\n",
              "      <th>Asthma</th>\n",
              "      <td>1897</td>\n",
              "    </tr>\n",
              "    <tr>\n",
              "      <th>Cancer</th>\n",
              "      <td>801</td>\n",
              "    </tr>\n",
              "  </tbody>\n",
              "</table>\n",
              "</div><br><label><b>dtype:</b> int64</label>"
            ]
          },
          "metadata": {},
          "execution_count": 167
        }
      ]
    },
    {
      "cell_type": "code",
      "source": [
        "df.boxplot(column='billing_amount', by='Gender')\n",
        "df.boxplot(column='billing_amount', by='admission_type')"
      ],
      "metadata": {
        "colab": {
          "base_uri": "https://localhost:8080/",
          "height": 956
        },
        "id": "pXwUXSH-STPe",
        "outputId": "31e0b006-74c3-4958-9237-160844b1f4db"
      },
      "execution_count": null,
      "outputs": [
        {
          "output_type": "execute_result",
          "data": {
            "text/plain": [
              "<Axes: title={'center': 'billing_amount'}, xlabel='admission_type'>"
            ]
          },
          "metadata": {},
          "execution_count": 168
        },
        {
          "output_type": "display_data",
          "data": {
            "text/plain": [
              "<Figure size 640x480 with 1 Axes>"
            ],
            "image/png": "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\n"
          },
          "metadata": {}
        },
        {
          "output_type": "display_data",
          "data": {
            "text/plain": [
              "<Figure size 640x480 with 1 Axes>"
            ],
            "image/png": "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\n"
          },
          "metadata": {}
        }
      ]
    },
    {
      "cell_type": "markdown",
      "source": [
        "# **Feature Engineering**"
      ],
      "metadata": {
        "id": "yBrZiKcrHK3l"
      }
    },
    {
      "cell_type": "code",
      "source": [
        "df['admission_date'] = pd.to_datetime(df['admission_date'])\n",
        "df['discharge_date'] = pd.to_datetime(df['discharge_date'])\n"
      ],
      "metadata": {
        "id": "VCIRhI4cIUjP"
      },
      "execution_count": null,
      "outputs": []
    },
    {
      "cell_type": "code",
      "source": [
        "df['computed_los'] = (df['discharge_date'] - df['admission_date']).dt.days\n"
      ],
      "metadata": {
        "id": "zez0sbh6HQGl"
      },
      "execution_count": null,
      "outputs": []
    },
    {
      "cell_type": "code",
      "source": [
        "df['cost_per_day'] = df['billing_amount'] / df['computed_los']\n"
      ],
      "metadata": {
        "id": "6cP9NOPCiLpl"
      },
      "execution_count": null,
      "outputs": []
    },
    {
      "cell_type": "code",
      "source": [
        "df['doctor_bill_mean'] = df.groupby('doctor_id')['billing_amount'].transform('mean')\n",
        "df['doctor_bill_median'] = df.groupby('doctor_id')['billing_amount'].transform('median')\n",
        "df['doctor_costpd_mean'] = df.groupby('doctor_id')['cost_per_day'].transform('mean')\n",
        "df['doctor_claims_count'] = df.groupby('doctor_id')['encounter_id'].transform('count')\n"
      ],
      "metadata": {
        "id": "qU6opZdTiL2B"
      },
      "execution_count": null,
      "outputs": []
    },
    {
      "cell_type": "code",
      "source": [
        "df['hosp_bill_mean'] = df.groupby('hospital_id')['billing_amount'].transform('mean')\n",
        "df['hosp_bill_median'] = df.groupby('hospital_id')['billing_amount'].transform('median')\n",
        "df['hosp_costpd_mean'] = df.groupby('hospital_id')['cost_per_day'].transform('mean')\n",
        "df['hosp_claims_count'] = df.groupby('hospital_id')['encounter_id'].transform('count')\n",
        "\n"
      ],
      "metadata": {
        "id": "sWLhcmsviMAX"
      },
      "execution_count": null,
      "outputs": []
    },
    {
      "cell_type": "code",
      "source": [
        "df['patient_bill_mean'] = df.groupby('patient_id')['billing_amount'].transform('mean')\n",
        "df['patient_bill_median'] = df.groupby('patient_id')['billing_amount'].transform('median')\n",
        "df['patient_costpd_mean'] = df.groupby('patient_id')['cost_per_day'].transform('mean')\n",
        "df['patient_claims_count'] = df.groupby('patient_id')['encounter_id'].transform('count')\n"
      ],
      "metadata": {
        "id": "LwX-DfuZiMJn"
      },
      "execution_count": null,
      "outputs": []
    },
    {
      "cell_type": "code",
      "source": [
        "df['is_above_group_p95'] = 0\n",
        "for hosp_id, group in df.groupby('hospital_id'):\n",
        "    threshold = np.percentile(group['cost_per_day'], 95)\n",
        "    df.loc[df['hospital_id'] == hosp_id, 'is_above_group_p95'] = (group['cost_per_day'] > threshold).astype(int)\n"
      ],
      "metadata": {
        "id": "S0wxPhWCiakv"
      },
      "execution_count": null,
      "outputs": []
    },
    {
      "cell_type": "code",
      "source": [
        "df['flag_elective_short_high'] = ((df['admission_type']=='Elective') & (df['computed_los'] > 10)).astype(int)\n",
        "df['flag_abnormal_elective_high'] = ((df['admission_type']=='Elective') & (df['billing_amount']>50000)).astype(int)\n"
      ],
      "metadata": {
        "id": "dMcGVfGDjCuq"
      },
      "execution_count": null,
      "outputs": []
    },
    {
      "cell_type": "code",
      "source": [
        "df['flag_vs_doctor_2x'] = (df['cost_per_day'] > 2 * df['doctor_costpd_mean']).astype(int)\n",
        "df['flag_vs_hosp_2x'] = (df['cost_per_day'] > 2 * df['hosp_costpd_mean']).astype(int)\n"
      ],
      "metadata": {
        "id": "Bf__hTeJjVYg"
      },
      "execution_count": null,
      "outputs": []
    },
    {
      "cell_type": "code",
      "source": [
        "df = pd.get_dummies(df, columns=['admission_type'], prefix='admission_type', dummy_na=True)\n",
        "\n"
      ],
      "metadata": {
        "id": "uOGZxuw6o732"
      },
      "execution_count": null,
      "outputs": []
    },
    {
      "cell_type": "code",
      "source": [
        "df = pd.get_dummies(df, columns=['test_resultS'], prefix='test_results', dummy_na=True)\n"
      ],
      "metadata": {
        "id": "AtLCR5NepUCf"
      },
      "execution_count": null,
      "outputs": []
    },
    {
      "cell_type": "code",
      "source": [
        "df['doctor_id_countenc'] = df.groupby('doctor_id')['encounter_id'].transform('count')\n",
        "df['hospital_id_countenc'] = df.groupby('hospital_id')['encounter_id'].transform('count')\n",
        "df['patient_id_countenc'] = df.groupby('patient_id')['encounter_id'].transform('count')\n",
        "df['insurance_provider_id_countenc'] = df.groupby('insurance_provider_id')['encounter_id'].transform('count')\n"
      ],
      "metadata": {
        "id": "EGl80Sp4-Qcd"
      },
      "execution_count": null,
      "outputs": []
    },
    {
      "cell_type": "code",
      "source": [
        "df['z_cost_per_day_by_group'] = df.groupby('hospital_id')['cost_per_day'].transform(\n",
        "    lambda x: (x - x.mean()) / x.std()\n",
        ")\n",
        "\n",
        "\n",
        "\n"
      ],
      "metadata": {
        "id": "83a_9j27-iFf"
      },
      "execution_count": null,
      "outputs": []
    },
    {
      "cell_type": "code",
      "source": [
        "df['fraud_score'] = np.random.rand(len(df))\n",
        "\n",
        "\n"
      ],
      "metadata": {
        "id": "C-W439lbBab5"
      },
      "execution_count": null,
      "outputs": []
    },
    {
      "cell_type": "code",
      "source": [
        "\n",
        "print(\"Feature Engineering completed. Columns now:\")\n",
        "print(df.columns)\n",
        "\n"
      ],
      "metadata": {
        "colab": {
          "base_uri": "https://localhost:8080/"
        },
        "id": "xrthl4SHC5M_",
        "outputId": "965734d2-b65b-4c29-9ba9-e607297582a8"
      },
      "execution_count": null,
      "outputs": [
        {
          "output_type": "stream",
          "name": "stdout",
          "text": [
            "Feature Engineering completed. Columns now:\n",
            "Index(['encounter_id', 'patient_id', 'name', 'Gender', 'doctor_id',\n",
            "       'doctor_name', 'hospital_id', 'hospital_name', 'insurance_provider_id',\n",
            "       'insurance_provider_name', 'MedicalCondition', 'admission_date',\n",
            "       'discharge_date', 'billing_amount', 'medication', 'Length_of_Stay',\n",
            "       'computed_los', 'cost_per_day', 'doctor_bill_mean',\n",
            "       'doctor_bill_median', 'doctor_costpd_mean', 'doctor_claims_count',\n",
            "       'hosp_bill_mean', 'hosp_bill_median', 'hosp_costpd_mean',\n",
            "       'hosp_claims_count', 'patient_bill_mean', 'patient_bill_median',\n",
            "       'patient_costpd_mean', 'patient_claims_count', 'is_above_group_p95',\n",
            "       'flag_elective_short_high', 'flag_abnormal_elective_high',\n",
            "       'flag_vs_doctor_2x', 'flag_vs_hosp_2x', 'admission_type_Elective',\n",
            "       'admission_type_Emergency', 'admission_type_Urgent',\n",
            "       'admission_type_nan', 'test_results_Abnormal',\n",
            "       'test_results_Inconclusive', 'test_results_Normal', 'test_results_nan',\n",
            "       'doctor_id_countenc', 'hospital_id_countenc', 'patient_id_countenc',\n",
            "       'insurance_provider_id_countenc', 'z_cost_per_day_by_group',\n",
            "       'fraud_score'],\n",
            "      dtype='object')\n"
          ]
        }
      ]
    },
    {
      "cell_type": "markdown",
      "source": [
        "# **Model Training**"
      ],
      "metadata": {
        "id": "mWRGfoznIU8_"
      }
    },
    {
      "cell_type": "code",
      "source": [
        "from sklearn.model_selection import train_test_split\n",
        "from sklearn.metrics import classification_report, roc_auc_score\n",
        "import xgboost as xgb\n",
        "\n",
        "\n",
        "fraud_score_threshold = 0.75\n",
        "df['Is_fraud'] = (df['fraud_score'] > fraud_score_threshold).astype(int)\n",
        "\n",
        "target = 'Is_fraud'\n",
        "\n",
        "features = [\n",
        "    'computed_los', 'billing_amount', 'cost_per_day',\n",
        "    'doctor_bill_mean', 'doctor_bill_median', 'doctor_costpd_mean', 'doctor_claims_count',\n",
        "    'hosp_bill_mean', 'hosp_bill_median', 'hosp_costpd_mean', 'hosp_claims_count',\n",
        "    'patient_bill_mean', 'patient_bill_median', 'patient_costpd_mean', 'patient_claims_count',\n",
        "    'is_above_group_p95', 'flag_elective_short_high', 'flag_abnormal_elective_high',\n",
        "    'flag_vs_doctor_2x', 'flag_vs_hosp_2x', 'admission_type_Elective',\n",
        "    'admission_type_Emergency', 'admission_type_Urgent', 'admission_type_nan',\n",
        "    'test_results_Abnormal', 'test_results_Inconclusive', 'test_results_Normal', 'test_results_nan',\n",
        "    'doctor_id_countenc', 'hospital_id_countenc', 'patient_id_countenc',\n",
        "    'insurance_provider_id_countenc', 'z_cost_per_day_by_group', 'fraud_score'\n",
        "]\n",
        "\n",
        "X = df[features]\n",
        "y = df[target]\n",
        "\n",
        "\n",
        "X_train, X_test, y_train, y_test = train_test_split(\n",
        "    X, y, test_size=0.2, random_state=42, stratify=y\n",
        ")\n",
        "\n",
        "\n",
        "model = xgb.XGBClassifier(\n",
        "    n_estimators=500,\n",
        "    max_depth=6,\n",
        "    learning_rate=0.05,\n",
        "    subsample=0.8,\n",
        "    colsample_bytree=0.8,\n",
        "    random_state=42,\n",
        "    eval_metric='auc',\n",
        "    n_jobs=-1\n",
        ")\n",
        "\n",
        "model.fit(X_train, y_train)\n",
        "\n",
        "y_pred = model.predict(X_test)\n",
        "y_proba = model.predict_proba(X_test)[:, 1]\n",
        "\n",
        "print(\"Classification Report:\\n\", classification_report(y_test, y_pred))\n",
        "print(\"ROC AUC Score:\", roc_auc_score(y_test, y_proba))\n"
      ],
      "metadata": {
        "colab": {
          "base_uri": "https://localhost:8080/"
        },
        "id": "tLBKHImsNUXo",
        "outputId": "1afb7b92-55c9-4738-f3d2-187358a4d781"
      },
      "execution_count": null,
      "outputs": [
        {
          "output_type": "stream",
          "name": "stdout",
          "text": [
            "Classification Report:\n",
            "               precision    recall  f1-score   support\n",
            "\n",
            "           0       1.00      1.00      1.00      1895\n",
            "           1       1.00      1.00      1.00       642\n",
            "\n",
            "    accuracy                           1.00      2537\n",
            "   macro avg       1.00      1.00      1.00      2537\n",
            "weighted avg       1.00      1.00      1.00      2537\n",
            "\n",
            "ROC AUC Score: 0.9999975340911893\n"
          ]
        }
      ]
    },
    {
      "cell_type": "markdown",
      "source": [
        "# **Model Interpretation**"
      ],
      "metadata": {
        "id": "d8ffcdEnIflQ"
      }
    },
    {
      "cell_type": "code",
      "source": [
        "features = [\n",
        "    'computed_los', 'billing_amount', 'cost_per_day', 'doctor_bill_mean',\n",
        "    'doctor_bill_median', 'doctor_costpd_mean', 'doctor_claims_count',\n",
        "    'hosp_bill_mean', 'hosp_bill_median', 'hosp_costpd_mean',\n",
        "    'hosp_claims_count', 'patient_bill_mean', 'patient_bill_median',\n",
        "    'patient_costpd_mean', 'patient_claims_count', 'is_above_group_p95',\n",
        "    'flag_elective_short_high', 'flag_abnormal_elective_high',\n",
        "    'flag_vs_doctor_2x', 'flag_vs_hosp_2x', 'admission_type_Elective',\n",
        "    'admission_type_Emergency', 'admission_type_Urgent', 'admission_type_nan',\n",
        "    'test_results_Abnormal', 'test_results_Inconclusive', 'test_results_Normal',\n",
        "    'test_results_nan', 'doctor_id_countenc', 'hospital_id_countenc',\n",
        "    'patient_id_countenc', 'insurance_provider_id_countenc',\n",
        "    'z_cost_per_day_by_group'\n",
        "]\n",
        "\n",
        "X_numeric = df[features].copy()\n",
        "\n",
        "X_numeric = X_numeric.astype(float)\n",
        "\n",
        "X_sample = X_numeric.sample(500, random_state=42)\n"
      ],
      "metadata": {
        "id": "FF2JacVonvgk"
      },
      "execution_count": null,
      "outputs": []
    },
    {
      "cell_type": "code",
      "source": [
        "X_sample = X_numeric.sample(500, random_state=42)\n"
      ],
      "metadata": {
        "id": "eiaGo9InkZJp"
      },
      "execution_count": null,
      "outputs": []
    },
    {
      "cell_type": "code",
      "source": [
        "explainer = shap.Explainer(model.predict_proba, X_sample)\n"
      ],
      "metadata": {
        "id": "iorgP03dlx_H"
      },
      "execution_count": null,
      "outputs": []
    },
    {
      "cell_type": "code",
      "source": [
        "shap_values = explainer(X_sample)\n"
      ],
      "metadata": {
        "id": "mDRtjYVJkZPN"
      },
      "execution_count": null,
      "outputs": []
    },
    {
      "cell_type": "code",
      "source": [
        "shap.summary_plot(shap_values[:,:,1], X_sample)\n"
      ],
      "metadata": {
        "id": "7c2m76_ukfNe"
      },
      "execution_count": null,
      "outputs": []
    },
    {
      "cell_type": "code",
      "source": [
        "shap.summary_plot(shap_values[:,:,1], X_sample)\n"
      ],
      "metadata": {
        "id": "2fv8SQ-elOSh"
      },
      "execution_count": null,
      "outputs": []
    },
    {
      "cell_type": "code",
      "source": [
        "shap.summary_plot(shap_values.values[:,:,1], X_sample, plot_type=\"bar\")\n"
      ],
      "metadata": {
        "id": "PhKBS5CWlOWG"
      },
      "execution_count": null,
      "outputs": []
    },
    {
      "cell_type": "code",
      "source": [
        "shap.initjs()\n",
        "shap.force_plot(shap_values.base_values[0,1], shap_values.values[0,:,1], X_sample.iloc[0])\n"
      ],
      "metadata": {
        "id": "dWY8Cg4dlUVd"
      },
      "execution_count": null,
      "outputs": []
    },
    {
      "cell_type": "code",
      "source": [
        "import pandas as pd\n",
        "df = pd.read_excel(\"/content/Modified_Healthcare_Claims.xlsx\")\n"
      ],
      "metadata": {
        "id": "ihqF9bH0BDO0"
      },
      "execution_count": null,
      "outputs": []
    },
    {
      "cell_type": "code",
      "source": [
        "df['Length_of_Stay'] = df['Length_of_Stay'].fillna(0)\n"
      ],
      "metadata": {
        "id": "yg0Z5MI_BJUt"
      },
      "execution_count": null,
      "outputs": []
    },
    {
      "cell_type": "code",
      "source": [
        "import pandas as pd\n",
        "\n",
        "df['admission_type'] = df['admission_type'].astype('category')\n",
        "df['test_resultS'] = df['test_resultS'].astype('category')\n",
        "X = pd.get_dummies(df[['billing_amount', 'Length_of_Stay', 'doctor_id',\n",
        "                       'hospital_id', 'patient_id', 'admission_type', 'test_resultS']],\n",
        "                   drop_first=True)\n",
        "\n"
      ],
      "metadata": {
        "id": "Rgrzqv8QBJYL"
      },
      "execution_count": null,
      "outputs": []
    },
    {
      "cell_type": "code",
      "source": [
        "import joblib\n",
        "\n",
        "model_filename = \"/content/drive/MyDrive/Colab Notebooks/model.pkl\"\n",
        "joblib.dump(model, model_filename)\n",
        "print(\"Model saved to:\", model_filename)\n"
      ],
      "metadata": {
        "id": "AJD_EcWVnYBy"
      },
      "execution_count": null,
      "outputs": []
    },
    {
      "cell_type": "markdown",
      "source": [
        "# **Build API with FastAPI**\n",
        "\n",
        "---\n",
        "\n"
      ],
      "metadata": {
        "id": "Tbnv0wEcIJrO"
      }
    },
    {
      "cell_type": "code",
      "source": [
        "!pip install streamlit pyngrok pandas numpy matplotlib -q"
      ],
      "metadata": {
        "id": "IpRxrdTLtiNG",
        "colab": {
          "base_uri": "https://localhost:8080/"
        },
        "outputId": "cc44cc16-8964-4ec6-bd15-75ce9e2dee61"
      },
      "execution_count": null,
      "outputs": [
        {
          "output_type": "stream",
          "name": "stdout",
          "text": [
            "\u001b[?25l   \u001b[90m━━━━━━━━━━━━━━━━━━━━━━━━━━━━━━━━━━━━━━━━\u001b[0m \u001b[32m0.0/10.1 MB\u001b[0m \u001b[31m?\u001b[0m eta \u001b[36m-:--:--\u001b[0m\r\u001b[2K   \u001b[91m━━━━━━━━━━━━━\u001b[0m\u001b[91m╸\u001b[0m\u001b[90m━━━━━━━━━━━━━━━━━━━━━━━━━━\u001b[0m \u001b[32m3.5/10.1 MB\u001b[0m \u001b[31m103.2 MB/s\u001b[0m eta \u001b[36m0:00:01\u001b[0m\r\u001b[2K   \u001b[91m━━━━━━━━━━━━━━━━━━━━━━━━━━━━━━━━━━━━━━\u001b[0m\u001b[90m╺\u001b[0m\u001b[90m━\u001b[0m \u001b[32m9.6/10.1 MB\u001b[0m \u001b[31m132.0 MB/s\u001b[0m eta \u001b[36m0:00:01\u001b[0m\r\u001b[2K   \u001b[91m━━━━━━━━━━━━━━━━━━━━━━━━━━━━━━━━━━━━━━━\u001b[0m\u001b[91m╸\u001b[0m \u001b[32m10.1/10.1 MB\u001b[0m \u001b[31m130.4 MB/s\u001b[0m eta \u001b[36m0:00:01\u001b[0m\r\u001b[2K   \u001b[90m━━━━━━━━━━━━━━━━━━━━━━━━━━━━━━━━━━━━━━━━\u001b[0m \u001b[32m10.1/10.1 MB\u001b[0m \u001b[31m86.6 MB/s\u001b[0m eta \u001b[36m0:00:00\u001b[0m\n",
            "\u001b[?25h\u001b[?25l   \u001b[90m━━━━━━━━━━━━━━━━━━━━━━━━━━━━━━━━━━━━━━━━\u001b[0m \u001b[32m0.0/6.9 MB\u001b[0m \u001b[31m?\u001b[0m eta \u001b[36m-:--:--\u001b[0m\r\u001b[2K   \u001b[91m━━━━━━━━━━━━━━━━━━━━━━━━━━━━━━━━━━━━━\u001b[0m\u001b[90m╺\u001b[0m\u001b[90m━━\u001b[0m \u001b[32m6.4/6.9 MB\u001b[0m \u001b[31m187.3 MB/s\u001b[0m eta \u001b[36m0:00:01\u001b[0m\r\u001b[2K   \u001b[90m━━━━━━━━━━━━━━━━━━━━━━━━━━━━━━━━━━━━━━━━\u001b[0m \u001b[32m6.9/6.9 MB\u001b[0m \u001b[31m110.4 MB/s\u001b[0m eta \u001b[36m0:00:00\u001b[0m\n",
            "\u001b[?25h"
          ]
        }
      ]
    },
    {
      "cell_type": "code",
      "source": [
        "%%writefile app.py\n",
        "import streamlit as st\n",
        "import pandas as pd\n",
        "import numpy as np\n",
        "import matplotlib.pyplot as plt\n",
        "\n",
        "\n",
        "\n",
        "def get_prediction_and_explanation(claim_amount):\n",
        "    \"\"\"Simulates risk prediction and generates SHAP values to represent evidence.\"\"\"\n",
        " risk_score = np.clip(0.1 + (claim_amount / 10000) * np.random.uniform(0.5, 0.8), 0.1, 0.99)\n",
        "    prediction = \"High Risk\" if risk_score > 0.65 else \"Low Risk\"\n",
        "\n",
        "    features = [\n",
        "        'Provider Cost Deviation',\n",
        "        'Procedure/Patient Frequency',\n",
        "        'Diagnosis Inconsistency',\n",
        "        'Total Claim Amount',\n",
        "        'Prior Provider History'\n",
        "    ]\n",
        "    shap_values = np.random.uniform(-0.4, 0.4, len(features))\n",
        "\n",
        "    if prediction == \"High Risk\":\n",
        "        shap_values[0] = np.random.uniform(0.3, 0.5)\n",
        "        shap_values[1] = np.random.uniform(0.2, 0.4)\n",
        "        shap_values[3] = risk_score * 0.1\n",
        "    else:\n",
        "        shap_values[2] = np.random.uniform(-0.3, -0.5)\n",
        "        shap_values[4] = np.random.uniform(-0.2, -0.4)\n",
        "\n",
        "    explanation_df = pd.DataFrame({\n",
        "        'Factor': features,\n",
        "        'Risk_Impact': shap_values\n",
        "    }).sort_values(by='Risk_Impact', ascending=False)\n",
        "\n",
        "    return prediction, risk_score, explanation_df\n",
        "\n",
        "st.set_page_config(page_title=\"Hissn - Medical Fraud Detection\", layout=\"wide\")\n",
        "\n",
        "st.title(\"🛡️ Hissn: Smart Fraud, Waste & Abuse (FWA) Detection - Prototype\")\n",
        "st.markdown(\"---\")\n",
        "\n",
        "col1, col2 = st.columns([1, 2])\n",
        "\n",
        "with col1:\n",
        "    st.header(\"Claim Input for Analysis\")\n",
        "    with st.form(\"claims_input_form\"):\n",
        "        claim_id = st.text_input(\"Claim ID\", value=\"C1234567\")\n",
        "        provider_id = st.text_input(\"Provider ID (Doctor ID)\", value=\"D9876\")\n",
        "        claim_amount = st.number_input(\"Total Claim Amount (SAR)\", value=5500.00, min_value=1.0)\n",
        "\n",
        "        submitted = st.form_submit_button(\"Analyze Claim 🚀\")\n",
        "\n",
        "with col2:\n",
        "    if submitted:\n",
        "        prediction, risk_score, explanation_df = get_prediction_and_explanation(claim_amount)\n",
        "\n",
        "        risk_percentage = f\"{risk_score * 100:.1f}%\"\n",
        "\n",
        "        st.metric(label=\"Estimated Fraud Probability\", value=risk_percentage)\n",
        "\n",
        "        if prediction == \"High Risk\":\n",
        "            st.markdown(f\"<p style='padding: 10px; border-radius: 5px; background-color: #fce4e4; color: #b71c1c; font-size: 1.2em; font-weight: bold;'>⚠️ HIGH RISK CLAIM: Requires Immediate Review</p>\", unsafe_allow_html=True)\n",
        "            st.markdown(f\"Risk Classification: **{prediction}**\")\n",
        "            st.markdown(\"---\")\n",
        "            st.error(\"🚨 System Recommendation: Freeze claim and initiate immediate audit based on the evidence below.\")\n",
        "        else:\n",
        "            st.markdown(f\"<p style='padding: 10px; border-radius: 5px; background-color: #e8f5e9; color: #2e7d32; font-size: 1.2em; font-weight: bold;'>✅ LOW RISK CLAIM: Safe to Process</p>\", unsafe_allow_html=True)\n",
        "            st.markdown(f\"Risk Classification: **{prediction}**\")\n",
        "            st.markdown(\"---\")\n",
        "            st.info(\"👍 System Recommendation: Proceed with automated processing.\")\n",
        "\n",
        "        st.header(\"SHAP-Supported Evidence (Why this Decision?)\")\n",
        "\n",
        "        plt.style.use('ggplot')\n",
        "        fig, ax = plt.subplots(figsize=(10, len(explanation_df) * 0.5 + 1))\n",
        "        colors = ['#EF5350' if val > 0 else '#42A5F5' for val in explanation_df['Risk_Impact']]\n",
        "\n",
        "        ax.barh(explanation_df['Factor'], explanation_df['Risk_Impact'], color=colors)\n",
        "        ax.set_xlabel(\"Factor Impact on Risk Decision (SHAP Value)\", fontsize=12)\n",
        "        ax.set_title(f\"Top {len(explanation_df)} Factors Influencing Prediction\", fontsize=14, pad=15)\n",
        "        ax.axvline(0, color='gray', linewidth=0.8, linestyle='--')\n",
        "        ax.invert_yaxis()\n",
        "        ax.tick_params(axis='both', which='major', labelsize=10)\n",
        "\n",
        "        st.pyplot(fig)\n"
      ],
      "metadata": {
        "id": "mxe7FUbAtquA",
        "colab": {
          "base_uri": "https://localhost:8080/"
        },
        "outputId": "d2afa205-da26-4186-fb27-569d8d0a0b9b"
      },
      "execution_count": null,
      "outputs": [
        {
          "output_type": "stream",
          "name": "stdout",
          "text": [
            "Writing app.py\n"
          ]
        }
      ]
    },
    {
      "cell_type": "code",
      "source": [
        "from pyngrok import ngrok\n",
        "import subprocess\n",
        "import time\n",
        "\n",
        "NGROK_AUTH_TOKEN = \"34PYa4sBH4g0rYaHhbiHENj7sCi_LzmVmmukeWyEQ4Jx3xdp\"\n",
        "ngrok.set_auth_token(NGROK_AUTH_TOKEN)\n",
        "\n",
        "PORT = 8501\n",
        "ngrok.kill()\n",
        "time.sleep(1)\n",
        "process = subprocess.Popen([\n",
        "    \"streamlit\",\n",
        "    \"run\",\n",
        "    \"app.py\",\n",
        "    \"--server.port\",\n",
        "    str(PORT),\n",
        "    \"--server.enableCORS\",\n",
        "    \"false\"\n",
        "])\n",
        "\n",
        "public_url = ngrok.connect(PORT)\n",
        "\n",
        "\n",
        "print(f\"=====================================================\")\n",
        "print(f\"🚀 Streamlit app is ready! Open the following URL in your browser:\")\n",
        "print(public_url)\n",
        "print(f\"=====================================================\")\n"
      ],
      "metadata": {
        "id": "IEw9Jmz9tzBd",
        "colab": {
          "base_uri": "https://localhost:8080/"
        },
        "outputId": "84327f80-b545-4682-d851-4195d08d503e"
      },
      "execution_count": null,
      "outputs": [
        {
          "output_type": "stream",
          "name": "stdout",
          "text": [
            "=====================================================\n",
            "🚀 Streamlit app is ready! Open the following URL in your browser:\n",
            "NgrokTunnel: \"https://sepalled-sarina-hairless.ngrok-free.dev\" -> \"http://localhost:8501\"\n",
            "=====================================================\n"
          ]
        }
      ]
    }
  ]
}
>>>>>>> dc913586c41b574e16896ef1f12f6ebb46abbac5
